{
 "cells": [
  {
   "cell_type": "markdown",
   "id": "02786740",
   "metadata": {},
   "source": [
    "<div class=\"alert alert-block alert-info\">\n",
    "    \n",
    "## Table of Contents\n",
    "\n",
    "</div>\n",
    "\n",
    "[1. Introduction](#Intro) <br>\n",
    "[2. Importing Libraries](#libs) <br>\n",
    "[3. Missing Data](#miss) <br>\n",
    "[4. Outlier Data](#out) <br>\n",
    "[5. Dirty Data](#dirty) <br>\n",
    "$\\;\\;\\;\\;$[5.1 Date Handling](#date) <br>\n",
    "$\\;\\;\\;\\;$[5.2. Seasons](#season) <br>\n",
    "$\\;\\;\\;\\;$[5.3. Customer Location](#cust_loc) <br>\n",
    "$\\;\\;\\;\\;$[5.4. Warehouses](#ware) <br>\n",
    "$\\;\\;\\;\\;$[5.5. Shopping Cart](#shop) <br>\n",
    "$\\;\\;\\;\\;$[5.6. Order Price](#op) <br>\n",
    "$\\;\\;\\;\\;$[5.7. Happy Customer](#happy) <br>\n",
    "$\\;\\;\\;\\;$[5.8. Expedited Delivery](#ex) <br>\n",
    "[6. References](#Ref) <br>"
   ]
  },
  {
   "cell_type": "markdown",
   "id": "41c43edc",
   "metadata": {},
   "source": [
    "<div class=\"alert alert-block alert-success\">\n",
    "    \n",
    "## 1.  Introduction  <a class=\"anchor\" name=\"Intro\"></a>"
   ]
  },
  {
   "cell_type": "markdown",
   "id": "fd837df3",
   "metadata": {},
   "source": [
    "We will be dealing with three different CSV files and will address the following issues:  \n",
    "* missing data - We need to impute missing data using an apropriate linear model.\n",
    "* outlier data - We need to filter out any outlier values w.r.t delivery charges.\n",
    "* dirty data - We need to clean the whole csv by correcting any dirty data."
   ]
  },
  {
   "cell_type": "markdown",
   "id": "f467865e",
   "metadata": {},
   "source": [
    "<div class=\"alert alert-block alert-success\">\n",
    "    \n",
    "## 2.  Importing Libraries  <a class=\"anchor\" name=\"libs\"></a>"
   ]
  },
  {
   "cell_type": "code",
   "execution_count": 1,
   "id": "2d3ef5d9",
   "metadata": {},
   "outputs": [],
   "source": [
    "# importing libraries\n",
    "import pandas as pd\n",
    "import numpy as np\n",
    "import datetime as dt\n",
    "import re\n",
    "import matplotlib as mpl\n",
    "import matplotlib.pyplot as plt\n",
    "import geopandas as gpd\n",
    "import plotly.express as px\n",
    "from shapely.geometry import Point\n",
    "from nltk.sentiment.vader import SentimentIntensityAnalyzer\n",
    "#nltk.download(\"vader_lexicon\")\n",
    "from math import radians, sin, cos, sqrt, atan2 \n",
    "import itertools\n",
    "from sklearn.model_selection import train_test_split\n",
    "from sklearn.linear_model import LinearRegression\n",
    "from sklearn import linear_model\n",
    "from sklearn.metrics import r2_score\n",
    "from sklearn.model_selection import GridSearchCV\n",
    "#%matplotlib inline\n",
    "import warnings\n",
    "warnings.filterwarnings('ignore')"
   ]
  },
  {
   "cell_type": "markdown",
   "id": "e7b28bba",
   "metadata": {},
   "source": [
    "<div class=\"alert alert-block alert-success\">\n",
    "    \n",
    "## 3.  Missing Data  <a class=\"anchor\" name=\"miss\"></a>"
   ]
  },
  {
   "cell_type": "code",
   "execution_count": 2,
   "id": "149090c1",
   "metadata": {},
   "outputs": [
    {
     "data": {
      "text/html": [
       "<div>\n",
       "<style scoped>\n",
       "    .dataframe tbody tr th:only-of-type {\n",
       "        vertical-align: middle;\n",
       "    }\n",
       "\n",
       "    .dataframe tbody tr th {\n",
       "        vertical-align: top;\n",
       "    }\n",
       "\n",
       "    .dataframe thead th {\n",
       "        text-align: right;\n",
       "    }\n",
       "</style>\n",
       "<table border=\"1\" class=\"dataframe\">\n",
       "  <thead>\n",
       "    <tr style=\"text-align: right;\">\n",
       "      <th></th>\n",
       "      <th>order_id</th>\n",
       "      <th>customer_id</th>\n",
       "      <th>date</th>\n",
       "      <th>nearest_warehouse</th>\n",
       "      <th>shopping_cart</th>\n",
       "      <th>order_price</th>\n",
       "      <th>delivery_charges</th>\n",
       "      <th>customer_lat</th>\n",
       "      <th>customer_long</th>\n",
       "      <th>delivery_discount</th>\n",
       "      <th>season</th>\n",
       "      <th>is_expedited_delivery</th>\n",
       "      <th>distance_to_nearest_warehouse</th>\n",
       "      <th>latest_customer_review</th>\n",
       "      <th>is_happy_customer</th>\n",
       "    </tr>\n",
       "  </thead>\n",
       "  <tbody>\n",
       "    <tr>\n",
       "      <th>0</th>\n",
       "      <td>ORD064173</td>\n",
       "      <td>ID0582914901</td>\n",
       "      <td>2022-09-26</td>\n",
       "      <td>Thompson</td>\n",
       "      <td>[('Toshika 750', 2), ('Candle Inferno', 1)]</td>\n",
       "      <td>9070</td>\n",
       "      <td>103.994</td>\n",
       "      <td>-37.836908</td>\n",
       "      <td>144.894564</td>\n",
       "      <td>25</td>\n",
       "      <td>Spring</td>\n",
       "      <td>True</td>\n",
       "      <td>5.34711</td>\n",
       "      <td>whodat cool daddy-o</td>\n",
       "      <td>True</td>\n",
       "    </tr>\n",
       "    <tr>\n",
       "      <th>1</th>\n",
       "      <td>ORD331771</td>\n",
       "      <td>ID0472236184</td>\n",
       "      <td>2022-07-16</td>\n",
       "      <td>Nickolson</td>\n",
       "      <td>[('Candle Inferno', 1), ('Universe Note', 1)]</td>\n",
       "      <td>3880</td>\n",
       "      <td>NaN</td>\n",
       "      <td>-37.798961</td>\n",
       "      <td>144.966522</td>\n",
       "      <td>0</td>\n",
       "      <td>Winter</td>\n",
       "      <td>True</td>\n",
       "      <td>2.20176</td>\n",
       "      <td>i love olivia love this phone..works well look...</td>\n",
       "      <td>True</td>\n",
       "    </tr>\n",
       "    <tr>\n",
       "      <th>2</th>\n",
       "      <td>ORD403407</td>\n",
       "      <td>ID0575397935</td>\n",
       "      <td>2022-06-06</td>\n",
       "      <td>Nickolson</td>\n",
       "      <td>[('Toshika 750', 1), ('pearTV', 2)]</td>\n",
       "      <td>16940</td>\n",
       "      <td>34.865</td>\n",
       "      <td>-37.821234</td>\n",
       "      <td>144.983738</td>\n",
       "      <td>50</td>\n",
       "      <td>Winter</td>\n",
       "      <td>False</td>\n",
       "      <td>1.28162</td>\n",
       "      <td>great phone extremely happy with the phone the...</td>\n",
       "      <td>True</td>\n",
       "    </tr>\n",
       "    <tr>\n",
       "      <th>3</th>\n",
       "      <td>ORD400298</td>\n",
       "      <td>ID0575384675</td>\n",
       "      <td>2022-07-30</td>\n",
       "      <td>Nickolson</td>\n",
       "      <td>[('Thunder line', 2), ('Toshika 750', 2), ('Un...</td>\n",
       "      <td>20200</td>\n",
       "      <td>39.068</td>\n",
       "      <td>-37.819371</td>\n",
       "      <td>144.981888</td>\n",
       "      <td>50</td>\n",
       "      <td>Winter</td>\n",
       "      <td>True</td>\n",
       "      <td>1.08831</td>\n",
       "      <td>good quality the phone was nice and compact</td>\n",
       "      <td>True</td>\n",
       "    </tr>\n",
       "    <tr>\n",
       "      <th>4</th>\n",
       "      <td>ORD442816</td>\n",
       "      <td>ID3208518296</td>\n",
       "      <td>2022-01-21</td>\n",
       "      <td>Nickolson</td>\n",
       "      <td>[('iAssist Line', 2), ('Thunder line', 1), ('C...</td>\n",
       "      <td>7490</td>\n",
       "      <td>59.665</td>\n",
       "      <td>-37.805371</td>\n",
       "      <td>144.964572</td>\n",
       "      <td>25</td>\n",
       "      <td>Summer</td>\n",
       "      <td>False</td>\n",
       "      <td>1.53576</td>\n",
       "      <td>very nice phone! very nice phone!</td>\n",
       "      <td>True</td>\n",
       "    </tr>\n",
       "  </tbody>\n",
       "</table>\n",
       "</div>"
      ],
      "text/plain": [
       "    order_id   customer_id        date nearest_warehouse  \\\n",
       "0  ORD064173  ID0582914901  2022-09-26          Thompson   \n",
       "1  ORD331771  ID0472236184  2022-07-16         Nickolson   \n",
       "2  ORD403407  ID0575397935  2022-06-06         Nickolson   \n",
       "3  ORD400298  ID0575384675  2022-07-30         Nickolson   \n",
       "4  ORD442816  ID3208518296  2022-01-21         Nickolson   \n",
       "\n",
       "                                       shopping_cart  order_price  \\\n",
       "0        [('Toshika 750', 2), ('Candle Inferno', 1)]         9070   \n",
       "1      [('Candle Inferno', 1), ('Universe Note', 1)]         3880   \n",
       "2                [('Toshika 750', 1), ('pearTV', 2)]        16940   \n",
       "3  [('Thunder line', 2), ('Toshika 750', 2), ('Un...        20200   \n",
       "4  [('iAssist Line', 2), ('Thunder line', 1), ('C...         7490   \n",
       "\n",
       "   delivery_charges  customer_lat  customer_long  delivery_discount  season  \\\n",
       "0           103.994    -37.836908     144.894564                 25  Spring   \n",
       "1               NaN    -37.798961     144.966522                  0  Winter   \n",
       "2            34.865    -37.821234     144.983738                 50  Winter   \n",
       "3            39.068    -37.819371     144.981888                 50  Winter   \n",
       "4            59.665    -37.805371     144.964572                 25  Summer   \n",
       "\n",
       "   is_expedited_delivery  distance_to_nearest_warehouse  \\\n",
       "0                   True                        5.34711   \n",
       "1                   True                        2.20176   \n",
       "2                  False                        1.28162   \n",
       "3                   True                        1.08831   \n",
       "4                  False                        1.53576   \n",
       "\n",
       "                              latest_customer_review  is_happy_customer  \n",
       "0                                whodat cool daddy-o               True  \n",
       "1  i love olivia love this phone..works well look...               True  \n",
       "2  great phone extremely happy with the phone the...               True  \n",
       "3        good quality the phone was nice and compact               True  \n",
       "4                  very nice phone! very nice phone!               True  "
      ]
     },
     "execution_count": 2,
     "metadata": {},
     "output_type": "execute_result"
    }
   ],
   "source": [
    "# reading missing data \n",
    "missing_data = pd.read_csv(\"./32776705_missing_data.csv\")\n",
    "missing_data.head()"
   ]
  },
  {
   "cell_type": "markdown",
   "id": "d569a012",
   "metadata": {},
   "source": [
    "From below we can see that there are 3 columns with missing values:\n",
    "* nearest_warehouse\n",
    "* delivery_charges\n",
    "* distance_to_nearest_warehouse"
   ]
  },
  {
   "cell_type": "code",
   "execution_count": 3,
   "id": "ec6e4bb9",
   "metadata": {},
   "outputs": [
    {
     "name": "stdout",
     "output_type": "stream",
     "text": [
      "<class 'pandas.core.frame.DataFrame'>\n",
      "RangeIndex: 500 entries, 0 to 499\n",
      "Data columns (total 15 columns):\n",
      " #   Column                         Non-Null Count  Dtype  \n",
      "---  ------                         --------------  -----  \n",
      " 0   order_id                       500 non-null    object \n",
      " 1   customer_id                    500 non-null    object \n",
      " 2   date                           500 non-null    object \n",
      " 3   nearest_warehouse              400 non-null    object \n",
      " 4   shopping_cart                  500 non-null    object \n",
      " 5   order_price                    500 non-null    int64  \n",
      " 6   delivery_charges               450 non-null    float64\n",
      " 7   customer_lat                   500 non-null    float64\n",
      " 8   customer_long                  500 non-null    float64\n",
      " 9   delivery_discount              500 non-null    int64  \n",
      " 10  season                         500 non-null    object \n",
      " 11  is_expedited_delivery          500 non-null    bool   \n",
      " 12  distance_to_nearest_warehouse  450 non-null    float64\n",
      " 13  latest_customer_review         500 non-null    object \n",
      " 14  is_happy_customer              500 non-null    bool   \n",
      "dtypes: bool(2), float64(4), int64(2), object(7)\n",
      "memory usage: 51.9+ KB\n"
     ]
    }
   ],
   "source": [
    "missing_data.info()"
   ]
  },
  {
   "cell_type": "markdown",
   "id": "5b6bf268",
   "metadata": {},
   "source": [
    "We have 15 different columns (mixture of categorical and numerical) in our missing data. We will first start working on distance_to_nearest_warehouse and nearest_warehouse by comparing the warehouse details from the warehouse data."
   ]
  },
  {
   "cell_type": "code",
   "execution_count": 4,
   "id": "67d27cb2",
   "metadata": {},
   "outputs": [
    {
     "data": {
      "text/html": [
       "<div>\n",
       "<style scoped>\n",
       "    .dataframe tbody tr th:only-of-type {\n",
       "        vertical-align: middle;\n",
       "    }\n",
       "\n",
       "    .dataframe tbody tr th {\n",
       "        vertical-align: top;\n",
       "    }\n",
       "\n",
       "    .dataframe thead th {\n",
       "        text-align: right;\n",
       "    }\n",
       "</style>\n",
       "<table border=\"1\" class=\"dataframe\">\n",
       "  <thead>\n",
       "    <tr style=\"text-align: right;\">\n",
       "      <th></th>\n",
       "      <th>names</th>\n",
       "      <th>lat</th>\n",
       "      <th>lon</th>\n",
       "    </tr>\n",
       "  </thead>\n",
       "  <tbody>\n",
       "    <tr>\n",
       "      <th>0</th>\n",
       "      <td>Nickolson</td>\n",
       "      <td>-37.818595</td>\n",
       "      <td>144.969551</td>\n",
       "    </tr>\n",
       "    <tr>\n",
       "      <th>1</th>\n",
       "      <td>Thompson</td>\n",
       "      <td>-37.812673</td>\n",
       "      <td>144.947069</td>\n",
       "    </tr>\n",
       "    <tr>\n",
       "      <th>2</th>\n",
       "      <td>Bakers</td>\n",
       "      <td>-37.809996</td>\n",
       "      <td>144.995232</td>\n",
       "    </tr>\n",
       "  </tbody>\n",
       "</table>\n",
       "</div>"
      ],
      "text/plain": [
       "       names        lat         lon\n",
       "0  Nickolson -37.818595  144.969551\n",
       "1   Thompson -37.812673  144.947069\n",
       "2     Bakers -37.809996  144.995232"
      ]
     },
     "execution_count": 4,
     "metadata": {},
     "output_type": "execute_result"
    }
   ],
   "source": [
    "# opening warehouse csv to get location of different warehouses\n",
    "warehouses = pd.read_csv(\"./warehouses.csv\")\n",
    "warehouses"
   ]
  },
  {
   "cell_type": "code",
   "execution_count": 5,
   "id": "5207e69d",
   "metadata": {},
   "outputs": [],
   "source": [
    "# creating a function to get distance between 2 points\n",
    "\n",
    "def nearest_distance(lat1, lon1, lat2, lon2):\n",
    "    \n",
    "    '''\n",
    "    Function to calculatethe nearest distance between 2 points based on their latitudes and longitudes.\n",
    "    Here, radius of Earth is assumed to be 6378 kms.\n",
    "    \n",
    "        Input Parameters:\n",
    "            lat1: latitude value\n",
    "            lon1: longitude value\n",
    "            lat2: latitude value \n",
    "            lon2: longitude value\n",
    "    \n",
    "        Output:\n",
    "            Distance between 2 points.\n",
    "    '''\n",
    "    \n",
    "    # radius in Kms\n",
    "    radius = 6378 \n",
    "\n",
    "    #converting customer latitudes and longitudes to radians\n",
    "    lat1, lon1, lat2, lon2 = map(radians, [lat1, lon1, lat2, lon2])\n",
    "   \n",
    "    # calculating differences between latitudes and longitudes  \n",
    "    lat_diff = lat2- lat1\n",
    "    lon_diff = lon2 - lon1 \n",
    "    \n",
    "   # applying Haversine formula to calculate nearest distance\n",
    "    a = sin(lat_diff / 2)**2 + cos(lat1) * cos(lat2) * sin(lon_diff / 2)**2\n",
    "    c = 2 * atan2(sqrt(a), sqrt(1 - a))\n",
    "    distance = round(radius * c, 5)\n",
    "    \n",
    "    return distance"
   ]
  },
  {
   "cell_type": "code",
   "execution_count": 6,
   "id": "95ee70e6",
   "metadata": {},
   "outputs": [
    {
     "data": {
      "text/plain": [
       "500"
      ]
     },
     "execution_count": 6,
     "metadata": {},
     "output_type": "execute_result"
    }
   ],
   "source": [
    "# list of customer locations as a tuple\n",
    "customer_locs = list(zip(missing_data['customer_lat'], missing_data['customer_long']))\n",
    "len(customer_locs)"
   ]
  },
  {
   "cell_type": "code",
   "execution_count": 7,
   "id": "71b003f1",
   "metadata": {},
   "outputs": [],
   "source": [
    "# storing correct warehouse and its distance in 2 seperate lists\n",
    "warehouse_distance = []\n",
    "correct_closest_warehouse = []\n",
    "\n",
    "for cust_lat, cust_lon in customer_locs:\n",
    "    min_dist = float('inf') # setting min distance to be the max known value\n",
    "    closest_warehouse = None\n",
    "    # iterating over every row of warehouses df\n",
    "    for idx, row in warehouses.iterrows():\n",
    "        dist = nearest_distance(cust_lat, cust_lon, row['lat'], row['lon']) # calculating distance\n",
    "        if dist < min_dist:\n",
    "            min_dist = dist\n",
    "            closest_warehouse = row['names']\n",
    "    warehouse_distance.append(min_dist)\n",
    "    correct_closest_warehouse.append(closest_warehouse)"
   ]
  },
  {
   "cell_type": "code",
   "execution_count": 8,
   "id": "f7f8e878",
   "metadata": {},
   "outputs": [],
   "source": [
    "# creating a copy of missing data to make changes \n",
    "copy = missing_data.copy()\n",
    "copy['warehouse_name'] = correct_closest_warehouse\n",
    "copy['warehouse_dist'] = warehouse_distance"
   ]
  },
  {
   "cell_type": "code",
   "execution_count": 9,
   "id": "68c0ef9e",
   "metadata": {},
   "outputs": [
    {
     "name": "stdout",
     "output_type": "stream",
     "text": [
      "Calculated output matches nearest_warehouse values.\n"
     ]
    }
   ],
   "source": [
    "# verifying if we got correct nearest_warehouse by cross checking with non null values.\n",
    "copy2 = copy[copy['nearest_warehouse'].notnull()]\n",
    "\n",
    "if copy2['nearest_warehouse'].equals(copy2['warehouse_name']):\n",
    "    print(\"Calculated output matches nearest_warehouse values.\")\n",
    "else:\n",
    "    print(\"Calculated output does not matches nearest_warehouse values.\")"
   ]
  },
  {
   "cell_type": "code",
   "execution_count": 10,
   "id": "4fcc0ef6",
   "metadata": {},
   "outputs": [
    {
     "name": "stdout",
     "output_type": "stream",
     "text": [
      "Calculated output matches distance_to_nearest_warehouse values.\n"
     ]
    }
   ],
   "source": [
    "# verifying if we got correct distance_to_nearest_warehouse by cross checking with non null values.\n",
    "copy3=copy[copy['distance_to_nearest_warehouse'].notnull()]\n",
    "\n",
    "if copy3['distance_to_nearest_warehouse'].equals(copy3['warehouse_dist']):\n",
    "    print(\"Calculated output matches distance_to_nearest_warehouse values.\")\n",
    "else:\n",
    "    print(\"Calculated output does not matches distance_to_nearest_warehouse values.\")\n"
   ]
  },
  {
   "cell_type": "code",
   "execution_count": 11,
   "id": "debd691d",
   "metadata": {},
   "outputs": [],
   "source": [
    "# imputing missing values with calculated values \n",
    "missing_data['nearest_warehouse'].fillna(copy['warehouse_name'], inplace=True)\n",
    "missing_data['distance_to_nearest_warehouse'].fillna(copy['warehouse_dist'], inplace=True)"
   ]
  },
  {
   "cell_type": "code",
   "execution_count": 12,
   "id": "540c25ad",
   "metadata": {},
   "outputs": [
    {
     "data": {
      "text/plain": [
       "order_id                          0\n",
       "customer_id                       0\n",
       "date                              0\n",
       "nearest_warehouse                 0\n",
       "shopping_cart                     0\n",
       "order_price                       0\n",
       "delivery_charges                 50\n",
       "customer_lat                      0\n",
       "customer_long                     0\n",
       "delivery_discount                 0\n",
       "season                            0\n",
       "is_expedited_delivery             0\n",
       "distance_to_nearest_warehouse     0\n",
       "latest_customer_review            0\n",
       "is_happy_customer                 0\n",
       "dtype: int64"
      ]
     },
     "execution_count": 12,
     "metadata": {},
     "output_type": "execute_result"
    }
   ],
   "source": [
    "# checking null values \n",
    "missing_data.isnull().sum()"
   ]
  },
  {
   "cell_type": "markdown",
   "id": "914ec201",
   "metadata": {},
   "source": [
    "Next, we will focus on delivery charges..\n",
    "To impute null values of delivery charges, We will make 4 predicitive models depending on seasons. We will focus on Multiple Linear regression model for deliery charges(without any discounts) which depends on:  \n",
    "* Distance between customer and nearest warehouse  \n",
    "* Whether the customer asked for an expedited delivery\n",
    "* Whether the customer was happy with his/her last purchase\n"
   ]
  },
  {
   "cell_type": "code",
   "execution_count": 13,
   "id": "f1aa002f",
   "metadata": {},
   "outputs": [
    {
     "data": {
      "text/html": [
       "<div>\n",
       "<style scoped>\n",
       "    .dataframe tbody tr th:only-of-type {\n",
       "        vertical-align: middle;\n",
       "    }\n",
       "\n",
       "    .dataframe tbody tr th {\n",
       "        vertical-align: top;\n",
       "    }\n",
       "\n",
       "    .dataframe thead th {\n",
       "        text-align: right;\n",
       "    }\n",
       "</style>\n",
       "<table border=\"1\" class=\"dataframe\">\n",
       "  <thead>\n",
       "    <tr style=\"text-align: right;\">\n",
       "      <th></th>\n",
       "      <th>order_id</th>\n",
       "      <th>customer_id</th>\n",
       "      <th>date</th>\n",
       "      <th>nearest_warehouse</th>\n",
       "      <th>shopping_cart</th>\n",
       "      <th>order_price</th>\n",
       "      <th>delivery_charges</th>\n",
       "      <th>customer_lat</th>\n",
       "      <th>customer_long</th>\n",
       "      <th>delivery_discount</th>\n",
       "      <th>season</th>\n",
       "      <th>is_expedited_delivery</th>\n",
       "      <th>distance_to_nearest_warehouse</th>\n",
       "      <th>latest_customer_review</th>\n",
       "      <th>is_happy_customer</th>\n",
       "      <th>delivery_charges_before_discount</th>\n",
       "    </tr>\n",
       "  </thead>\n",
       "  <tbody>\n",
       "    <tr>\n",
       "      <th>0</th>\n",
       "      <td>ORD064173</td>\n",
       "      <td>ID0582914901</td>\n",
       "      <td>2022-09-26</td>\n",
       "      <td>Thompson</td>\n",
       "      <td>[('Toshika 750', 2), ('Candle Inferno', 1)]</td>\n",
       "      <td>9070</td>\n",
       "      <td>103.994</td>\n",
       "      <td>-37.836908</td>\n",
       "      <td>144.894564</td>\n",
       "      <td>25</td>\n",
       "      <td>Spring</td>\n",
       "      <td>True</td>\n",
       "      <td>5.34711</td>\n",
       "      <td>whodat cool daddy-o</td>\n",
       "      <td>True</td>\n",
       "      <td>138.658667</td>\n",
       "    </tr>\n",
       "    <tr>\n",
       "      <th>2</th>\n",
       "      <td>ORD403407</td>\n",
       "      <td>ID0575397935</td>\n",
       "      <td>2022-06-06</td>\n",
       "      <td>Nickolson</td>\n",
       "      <td>[('Toshika 750', 1), ('pearTV', 2)]</td>\n",
       "      <td>16940</td>\n",
       "      <td>34.865</td>\n",
       "      <td>-37.821234</td>\n",
       "      <td>144.983738</td>\n",
       "      <td>50</td>\n",
       "      <td>Winter</td>\n",
       "      <td>False</td>\n",
       "      <td>1.28162</td>\n",
       "      <td>great phone extremely happy with the phone the...</td>\n",
       "      <td>True</td>\n",
       "      <td>69.730000</td>\n",
       "    </tr>\n",
       "    <tr>\n",
       "      <th>3</th>\n",
       "      <td>ORD400298</td>\n",
       "      <td>ID0575384675</td>\n",
       "      <td>2022-07-30</td>\n",
       "      <td>Nickolson</td>\n",
       "      <td>[('Thunder line', 2), ('Toshika 750', 2), ('Un...</td>\n",
       "      <td>20200</td>\n",
       "      <td>39.068</td>\n",
       "      <td>-37.819371</td>\n",
       "      <td>144.981888</td>\n",
       "      <td>50</td>\n",
       "      <td>Winter</td>\n",
       "      <td>True</td>\n",
       "      <td>1.08831</td>\n",
       "      <td>good quality the phone was nice and compact</td>\n",
       "      <td>True</td>\n",
       "      <td>78.136000</td>\n",
       "    </tr>\n",
       "    <tr>\n",
       "      <th>4</th>\n",
       "      <td>ORD442816</td>\n",
       "      <td>ID3208518296</td>\n",
       "      <td>2022-01-21</td>\n",
       "      <td>Nickolson</td>\n",
       "      <td>[('iAssist Line', 2), ('Thunder line', 1), ('C...</td>\n",
       "      <td>7490</td>\n",
       "      <td>59.665</td>\n",
       "      <td>-37.805371</td>\n",
       "      <td>144.964572</td>\n",
       "      <td>25</td>\n",
       "      <td>Summer</td>\n",
       "      <td>False</td>\n",
       "      <td>1.53576</td>\n",
       "      <td>very nice phone! very nice phone!</td>\n",
       "      <td>True</td>\n",
       "      <td>79.553333</td>\n",
       "    </tr>\n",
       "    <tr>\n",
       "      <th>5</th>\n",
       "      <td>ORD040107</td>\n",
       "      <td>ID0283334505</td>\n",
       "      <td>2022-11-16</td>\n",
       "      <td>Thompson</td>\n",
       "      <td>[('Toshika 750', 1), ('iAssist Line', 1), ('Ca...</td>\n",
       "      <td>7405</td>\n",
       "      <td>105.217</td>\n",
       "      <td>-37.800611</td>\n",
       "      <td>144.949983</td>\n",
       "      <td>0</td>\n",
       "      <td>Spring</td>\n",
       "      <td>True</td>\n",
       "      <td>1.36692</td>\n",
       "      <td>love it! perfect for such $</td>\n",
       "      <td>True</td>\n",
       "      <td>105.217000</td>\n",
       "    </tr>\n",
       "  </tbody>\n",
       "</table>\n",
       "</div>"
      ],
      "text/plain": [
       "    order_id   customer_id        date nearest_warehouse  \\\n",
       "0  ORD064173  ID0582914901  2022-09-26          Thompson   \n",
       "2  ORD403407  ID0575397935  2022-06-06         Nickolson   \n",
       "3  ORD400298  ID0575384675  2022-07-30         Nickolson   \n",
       "4  ORD442816  ID3208518296  2022-01-21         Nickolson   \n",
       "5  ORD040107  ID0283334505  2022-11-16          Thompson   \n",
       "\n",
       "                                       shopping_cart  order_price  \\\n",
       "0        [('Toshika 750', 2), ('Candle Inferno', 1)]         9070   \n",
       "2                [('Toshika 750', 1), ('pearTV', 2)]        16940   \n",
       "3  [('Thunder line', 2), ('Toshika 750', 2), ('Un...        20200   \n",
       "4  [('iAssist Line', 2), ('Thunder line', 1), ('C...         7490   \n",
       "5  [('Toshika 750', 1), ('iAssist Line', 1), ('Ca...         7405   \n",
       "\n",
       "   delivery_charges  customer_lat  customer_long  delivery_discount  season  \\\n",
       "0           103.994    -37.836908     144.894564                 25  Spring   \n",
       "2            34.865    -37.821234     144.983738                 50  Winter   \n",
       "3            39.068    -37.819371     144.981888                 50  Winter   \n",
       "4            59.665    -37.805371     144.964572                 25  Summer   \n",
       "5           105.217    -37.800611     144.949983                  0  Spring   \n",
       "\n",
       "   is_expedited_delivery  distance_to_nearest_warehouse  \\\n",
       "0                   True                        5.34711   \n",
       "2                  False                        1.28162   \n",
       "3                   True                        1.08831   \n",
       "4                  False                        1.53576   \n",
       "5                   True                        1.36692   \n",
       "\n",
       "                              latest_customer_review  is_happy_customer  \\\n",
       "0                                whodat cool daddy-o               True   \n",
       "2  great phone extremely happy with the phone the...               True   \n",
       "3        good quality the phone was nice and compact               True   \n",
       "4                  very nice phone! very nice phone!               True   \n",
       "5                        love it! perfect for such $               True   \n",
       "\n",
       "   delivery_charges_before_discount  \n",
       "0                        138.658667  \n",
       "2                         69.730000  \n",
       "3                         78.136000  \n",
       "4                         79.553333  \n",
       "5                        105.217000  "
      ]
     },
     "execution_count": 13,
     "metadata": {},
     "output_type": "execute_result"
    }
   ],
   "source": [
    "# need non null data to create model\n",
    "non_null_df = missing_data[missing_data['delivery_charges'].isnull() == False]\n",
    "\n",
    "# creating copy to avoid slicing dataframe warnings\n",
    "model_df = non_null_df.copy()\n",
    "\n",
    "# removing discount from delivery charge\n",
    "model_df.loc[:, 'delivery_charges_before_discount'] = model_df[['delivery_discount', 'delivery_charges']].apply(lambda x: x['delivery_charges'] / (1 - (x['delivery_discount']/100)), axis=1)\n",
    "model_df.head()"
   ]
  },
  {
   "cell_type": "markdown",
   "id": "b74fb481",
   "metadata": {},
   "source": [
    "Now, we will generate four different dataframes for four different seasons and model them accordingly, but before we will handle required boolean columns for our model prediction."
   ]
  },
  {
   "cell_type": "code",
   "execution_count": 14,
   "id": "8b3924d5",
   "metadata": {},
   "outputs": [],
   "source": [
    "# handling boolean columns \n",
    "model_df['is_happy_customer'] = model_df['is_happy_customer'].astype(int)\n",
    "model_df['is_expedited_delivery'] = model_df['is_expedited_delivery'].astype(int)"
   ]
  },
  {
   "cell_type": "code",
   "execution_count": 15,
   "id": "d941bfd7",
   "metadata": {},
   "outputs": [],
   "source": [
    "# creating seasonal datas\n",
    "Summer_model_df = model_df[model_df['season'] =='Summer']\n",
    "Winter_model_df = model_df[model_df['season'] =='Winter']\n",
    "Autumn_model_df = model_df[model_df['season'] =='Autumn']\n",
    "Spring_model_df = model_df[model_df['season'] =='Spring']"
   ]
  },
  {
   "cell_type": "code",
   "execution_count": 16,
   "id": "35ce7311",
   "metadata": {},
   "outputs": [],
   "source": [
    "# Defining independent variables for 4 models \n",
    "X_summer = Summer_model_df[['distance_to_nearest_warehouse', 'is_expedited_delivery', 'is_happy_customer']]\n",
    "X_winter = Winter_model_df[['distance_to_nearest_warehouse', 'is_expedited_delivery', 'is_happy_customer']]\n",
    "X_autumn = Autumn_model_df[['distance_to_nearest_warehouse', 'is_expedited_delivery', 'is_happy_customer']]\n",
    "X_spring = Spring_model_df[['distance_to_nearest_warehouse', 'is_expedited_delivery', 'is_happy_customer']]"
   ]
  },
  {
   "cell_type": "code",
   "execution_count": 17,
   "id": "e19ee381",
   "metadata": {},
   "outputs": [],
   "source": [
    "# Defining dependent variable - actual delivery charge( i.e before any discount)\n",
    "Y_summer= Summer_model_df['delivery_charges_before_discount']\n",
    "Y_winter= Winter_model_df['delivery_charges_before_discount']\n",
    "Y_autumn= Autumn_model_df['delivery_charges_before_discount']\n",
    "Y_spring= Spring_model_df['delivery_charges_before_discount']"
   ]
  },
  {
   "cell_type": "markdown",
   "id": "feaedbd9",
   "metadata": {},
   "source": [
    "By using similar data for training and testing, one may reduce the effects of data inconsistencies and better understand the model's properties. After a model has been trained using the training set, it is tested by making predictions against the test set. The following step splits data into training and testing sets."
   ]
  },
  {
   "cell_type": "code",
   "execution_count": 18,
   "id": "4e9a56fb",
   "metadata": {},
   "outputs": [],
   "source": [
    "# splitting data into training and test sets\n",
    "X_summer_train, X_summer_test, Y_summer_train, Y_summer_test = train_test_split(X_summer, Y_summer, test_size = 0.2, random_state = 42)\n",
    "X_winter_train, X_winter_test, Y_winter_train, Y_winter_test = train_test_split(X_winter, Y_winter, test_size = 0.2, random_state = 42)\n",
    "X_autumn_train, X_autumn_test, Y_autumn_train, Y_autumn_test = train_test_split(X_autumn, Y_autumn, test_size = 0.2, random_state = 42)\n",
    "X_spring_train, X_spring_test, Y_spring_train, Y_spring_test = train_test_split(X_spring, Y_spring, test_size = 0.2, random_state = 42)"
   ]
  },
  {
   "cell_type": "code",
   "execution_count": 19,
   "id": "f5898b54",
   "metadata": {},
   "outputs": [],
   "source": [
    "#instantiationg an object from this class\n",
    "LR = LinearRegression()"
   ]
  },
  {
   "cell_type": "code",
   "execution_count": 20,
   "id": "3926d49c",
   "metadata": {},
   "outputs": [
    {
     "data": {
      "text/plain": [
       "{'copy_X': True,\n",
       " 'fit_intercept': True,\n",
       " 'n_jobs': None,\n",
       " 'normalize': 'deprecated',\n",
       " 'positive': False}"
      ]
     },
     "execution_count": 20,
     "metadata": {},
     "output_type": "execute_result"
    }
   ],
   "source": [
    "# getting all parameters of linear regression\n",
    "LR.get_params()"
   ]
  },
  {
   "cell_type": "code",
   "execution_count": 21,
   "id": "a6b552f9",
   "metadata": {},
   "outputs": [],
   "source": [
    "#setting a param grid to choose parameters from \n",
    "param_grid = {'fit_intercept': [True, False],\n",
    "              'positive': [True, False],\n",
    "              'n_jobs': [-1],\n",
    "             'copy_X' : [True, False]}"
   ]
  },
  {
   "cell_type": "code",
   "execution_count": 22,
   "id": "690c2a28",
   "metadata": {},
   "outputs": [],
   "source": [
    "# creating a function to get the best parameters\n",
    "def best_params(param_grid, model_instance, scoring, independent_df, dependent_df):\n",
    "    '''\n",
    "    Function returns the best parameters for the model to\n",
    "    give a high accuracy depedning on input parameters.\n",
    "    (With CV= 5)\n",
    "    \n",
    "        Input Parameters:\n",
    "            param_grid: A python dictionary \n",
    "            model_instance: A model object \n",
    "            scoring: Accuracy score method\n",
    "            independent_df: A pandas dataframe with independent features\n",
    "            dependent_df: A pandas dataframe with a dependent feature\n",
    "            \n",
    "        Output:\n",
    "            Function returns the best paramters. \n",
    "    '''\n",
    "    # using grid search to search for best parameters\n",
    "    grid = GridSearchCV(model_instance, param_grid, cv=5, scoring= scoring) \n",
    "    grid.fit(independent_df, dependent_df)\n",
    "    \n",
    "    print(\"With these parameters R-squared will be\", grid.best_score_)\n",
    "    return grid.best_params_"
   ]
  },
  {
   "cell_type": "code",
   "execution_count": 23,
   "id": "5abb93ab",
   "metadata": {},
   "outputs": [
    {
     "name": "stdout",
     "output_type": "stream",
     "text": [
      "With these parameters R-squared will be 0.9946864064851988\n"
     ]
    },
    {
     "data": {
      "text/plain": [
       "{'copy_X': True, 'fit_intercept': True, 'n_jobs': -1, 'positive': True}"
      ]
     },
     "execution_count": 23,
     "metadata": {},
     "output_type": "execute_result"
    }
   ],
   "source": [
    "Summer_parameters = best_params(param_grid, LR, 'r2', X_summer, Y_summer)\n",
    "Summer_parameters"
   ]
  },
  {
   "cell_type": "code",
   "execution_count": 24,
   "id": "dd3218f6",
   "metadata": {},
   "outputs": [
    {
     "name": "stdout",
     "output_type": "stream",
     "text": [
      "With these parameters R-squared will be 0.9893830231412684\n"
     ]
    },
    {
     "data": {
      "text/plain": [
       "{'copy_X': True, 'fit_intercept': True, 'n_jobs': -1, 'positive': True}"
      ]
     },
     "execution_count": 24,
     "metadata": {},
     "output_type": "execute_result"
    }
   ],
   "source": [
    "winter_parameters = best_params(param_grid, LR, 'r2', X_winter, Y_winter)\n",
    "winter_parameters"
   ]
  },
  {
   "cell_type": "code",
   "execution_count": 25,
   "id": "4f68abab",
   "metadata": {},
   "outputs": [
    {
     "name": "stdout",
     "output_type": "stream",
     "text": [
      "With these parameters R-squared will be 0.9860745520046708\n"
     ]
    },
    {
     "data": {
      "text/plain": [
       "{'copy_X': True, 'fit_intercept': True, 'n_jobs': -1, 'positive': True}"
      ]
     },
     "execution_count": 25,
     "metadata": {},
     "output_type": "execute_result"
    }
   ],
   "source": [
    "Autumn_parameters = best_params(param_grid, LR, 'r2', X_autumn, Y_autumn)\n",
    "Autumn_parameters"
   ]
  },
  {
   "cell_type": "code",
   "execution_count": 26,
   "id": "b26c385b",
   "metadata": {},
   "outputs": [
    {
     "name": "stdout",
     "output_type": "stream",
     "text": [
      "With these parameters R-squared will be 0.9953543501861759\n"
     ]
    },
    {
     "data": {
      "text/plain": [
       "{'copy_X': True, 'fit_intercept': True, 'n_jobs': -1, 'positive': True}"
      ]
     },
     "execution_count": 26,
     "metadata": {},
     "output_type": "execute_result"
    }
   ],
   "source": [
    "Spring_parameters = best_params(param_grid, LR, 'r2', X_spring, Y_spring)\n",
    "Spring_parameters"
   ]
  },
  {
   "cell_type": "code",
   "execution_count": 27,
   "id": "d9723abf",
   "metadata": {},
   "outputs": [],
   "source": [
    "# creating a function to run model\n",
    "def fit_and_test(model, Xtrain_data, Xtest_data, Ytrain_data, Ytest_data ):\n",
    "    '''\n",
    "    This function fits a model on training data and creates prediction test data.\n",
    "    \n",
    "        Input Parameters:\n",
    "            model: A model with appropriate paramters (if needed)\n",
    "            Xtrain_data: A pandas dataframe of training data for independent features\n",
    "            Xtest_data: A pandas dataframe of testing data for independent features\n",
    "            Ytrain_data: A pandas dataframe of training data for dependent feature\n",
    "            Ytest_data: A pandas dataframe of testing data for dependent feature\n",
    "            \n",
    "        Output:\n",
    "            score: r2 score\n",
    "            pred: Predicted values of test data          \n",
    "    '''\n",
    "    \n",
    "    # we will fit the model using training data \n",
    "    model.fit(Xtrain_data, Ytrain_data)\n",
    "    # predicting values\n",
    "    pred = model.predict(Xtest_data)\n",
    "    # getting the r2score\n",
    "    score = r2_score(Ytest_data,pred)\n",
    "    \n",
    "    return score, pred"
   ]
  },
  {
   "cell_type": "code",
   "execution_count": 28,
   "id": "1d8a9d99",
   "metadata": {},
   "outputs": [],
   "source": [
    "# making predictions using the above function\n",
    "summer_model = LinearRegression(copy_X = True, fit_intercept = True, n_jobs = -1, positive = True)\n",
    "summer_score, Y_summer_prediction = fit_and_test(summer_model, X_summer_train, X_summer_test, Y_summer_train , Y_summer_test)\n",
    "\n",
    "winter_model = LinearRegression(copy_X = True, fit_intercept = True, n_jobs = -1, positive = True)\n",
    "winter_score, Y_winter_prediction = fit_and_test(winter_model, X_winter_train, X_winter_test, Y_winter_train, Y_winter_test)\n",
    "\n",
    "autumn_model = LinearRegression(copy_X = True, fit_intercept = True, n_jobs = -1, positive = True)\n",
    "autumn_score, Y_autumn_prediction = fit_and_test(autumn_model, X_autumn_train, X_autumn_test, Y_autumn_train, Y_autumn_test )\n",
    "\n",
    "spring_model = LinearRegression(copy_X = True, fit_intercept = True, n_jobs = -1, positive = True)\n",
    "spring_score, Y_spring_prediction = fit_and_test(spring_model, X_spring_train, X_spring_test, Y_spring_train, Y_spring_test )\n",
    "\n"
   ]
  },
  {
   "cell_type": "code",
   "execution_count": 29,
   "id": "0e4a90f2",
   "metadata": {},
   "outputs": [
    {
     "data": {
      "text/plain": [
       "0.9961279569260189"
      ]
     },
     "execution_count": 29,
     "metadata": {},
     "output_type": "execute_result"
    }
   ],
   "source": [
    "summer_score"
   ]
  },
  {
   "cell_type": "code",
   "execution_count": 30,
   "id": "5a847665",
   "metadata": {},
   "outputs": [
    {
     "data": {
      "text/plain": [
       "0.9836056083770248"
      ]
     },
     "execution_count": 30,
     "metadata": {},
     "output_type": "execute_result"
    }
   ],
   "source": [
    "winter_score"
   ]
  },
  {
   "cell_type": "code",
   "execution_count": 31,
   "id": "18c46e77",
   "metadata": {},
   "outputs": [
    {
     "data": {
      "text/plain": [
       "0.9814891789537716"
      ]
     },
     "execution_count": 31,
     "metadata": {},
     "output_type": "execute_result"
    }
   ],
   "source": [
    "autumn_score"
   ]
  },
  {
   "cell_type": "code",
   "execution_count": 32,
   "id": "649f87a9",
   "metadata": {},
   "outputs": [
    {
     "data": {
      "text/plain": [
       "0.9973618446127221"
      ]
     },
     "execution_count": 32,
     "metadata": {},
     "output_type": "execute_result"
    }
   ],
   "source": [
    "spring_score"
   ]
  },
  {
   "cell_type": "markdown",
   "id": "1aa89202",
   "metadata": {},
   "source": [
    "Now, we'll use the model we just developed to fill in the missing values in the delivery charge column. \n"
   ]
  },
  {
   "cell_type": "code",
   "execution_count": 33,
   "id": "531b2ab8",
   "metadata": {},
   "outputs": [],
   "source": [
    "# need missing data to make predictions\n",
    "null_df = missing_data[missing_data['delivery_charges'].isnull() == True]\n",
    "missing_df = null_df.copy() # creating copy to avoid slicing dataframe warnings\n",
    "\n",
    "# handling boolean values\n",
    "missing_df['is_expedited_delivery'] = missing_df['is_expedited_delivery'].astype('int')\n",
    "missing_df['is_happy_customer'] = missing_df['is_happy_customer'].astype('int')"
   ]
  },
  {
   "cell_type": "code",
   "execution_count": 34,
   "id": "0106ead3",
   "metadata": {},
   "outputs": [],
   "source": [
    "# creating 4 seasonal datas\n",
    "missing_df_summer = missing_df[missing_df['season']== 'Summer']\n",
    "missing_df_winter = missing_df[missing_df['season']== 'Winter']\n",
    "missing_df_autumn = missing_df[missing_df['season']== 'Autumn']\n",
    "missing_df_spring = missing_df[missing_df['season']== 'Spring']"
   ]
  },
  {
   "cell_type": "code",
   "execution_count": 35,
   "id": "8f3a6fb2",
   "metadata": {},
   "outputs": [],
   "source": [
    "# Defining new independent variables for 4 models  (for null records)\n",
    "X_summer_new = missing_df_summer[['distance_to_nearest_warehouse', 'is_expedited_delivery', 'is_happy_customer']]\n",
    "X_winter_new = missing_df_winter[['distance_to_nearest_warehouse', 'is_expedited_delivery', 'is_happy_customer']]\n",
    "X_autumn_new = missing_df_autumn[['distance_to_nearest_warehouse', 'is_expedited_delivery', 'is_happy_customer']]\n",
    "X_spring_new = missing_df_spring[['distance_to_nearest_warehouse', 'is_expedited_delivery', 'is_happy_customer']]"
   ]
  },
  {
   "cell_type": "code",
   "execution_count": 36,
   "id": "f3837f52",
   "metadata": {},
   "outputs": [],
   "source": [
    "# making predictions for missing data \n",
    "# these are the predicted delivery charges before any discount\n",
    "y_summer_pred_new = summer_model.predict(X_summer_new)\n",
    "y_winter_pred_new = winter_model.predict(X_winter_new)\n",
    "y_autumn_pred_new = autumn_model.predict(X_autumn_new)\n",
    "y_spring_pred_new = spring_model.predict(X_spring_new)"
   ]
  },
  {
   "cell_type": "code",
   "execution_count": 37,
   "id": "fb238caf",
   "metadata": {},
   "outputs": [],
   "source": [
    "# Creating a new column in missing_df to add predicted pre-discounted delivery charges\n",
    "missing_df.loc[missing_df['season']== 'Summer', 'predicted_delivery_charge_before_discount'] = list(y_summer_pred_new)\n",
    "missing_df.loc[missing_df['season']== 'Winter', 'predicted_delivery_charge_before_discount'] = list(y_winter_pred_new)\n",
    "missing_df.loc[missing_df['season']== 'Autumn', 'predicted_delivery_charge_before_discount'] = list(y_autumn_pred_new)\n",
    "missing_df.loc[missing_df['season']== 'Spring', 'predicted_delivery_charge_before_discount'] = list(y_spring_pred_new)\n"
   ]
  },
  {
   "cell_type": "code",
   "execution_count": 38,
   "id": "8cf23f5f",
   "metadata": {},
   "outputs": [
    {
     "data": {
      "text/html": [
       "<div>\n",
       "<style scoped>\n",
       "    .dataframe tbody tr th:only-of-type {\n",
       "        vertical-align: middle;\n",
       "    }\n",
       "\n",
       "    .dataframe tbody tr th {\n",
       "        vertical-align: top;\n",
       "    }\n",
       "\n",
       "    .dataframe thead th {\n",
       "        text-align: right;\n",
       "    }\n",
       "</style>\n",
       "<table border=\"1\" class=\"dataframe\">\n",
       "  <thead>\n",
       "    <tr style=\"text-align: right;\">\n",
       "      <th></th>\n",
       "      <th>order_id</th>\n",
       "      <th>customer_id</th>\n",
       "      <th>date</th>\n",
       "      <th>nearest_warehouse</th>\n",
       "      <th>shopping_cart</th>\n",
       "      <th>order_price</th>\n",
       "      <th>delivery_charges</th>\n",
       "      <th>customer_lat</th>\n",
       "      <th>customer_long</th>\n",
       "      <th>delivery_discount</th>\n",
       "      <th>season</th>\n",
       "      <th>is_expedited_delivery</th>\n",
       "      <th>distance_to_nearest_warehouse</th>\n",
       "      <th>latest_customer_review</th>\n",
       "      <th>is_happy_customer</th>\n",
       "      <th>predicted_delivery_charge_before_discount</th>\n",
       "    </tr>\n",
       "  </thead>\n",
       "  <tbody>\n",
       "    <tr>\n",
       "      <th>1</th>\n",
       "      <td>ORD331771</td>\n",
       "      <td>ID0472236184</td>\n",
       "      <td>2022-07-16</td>\n",
       "      <td>Nickolson</td>\n",
       "      <td>[('Candle Inferno', 1), ('Universe Note', 1)]</td>\n",
       "      <td>3880</td>\n",
       "      <td>NaN</td>\n",
       "      <td>-37.798961</td>\n",
       "      <td>144.966522</td>\n",
       "      <td>0</td>\n",
       "      <td>Winter</td>\n",
       "      <td>1</td>\n",
       "      <td>2.20176</td>\n",
       "      <td>i love olivia love this phone..works well look...</td>\n",
       "      <td>1</td>\n",
       "      <td>84.936124</td>\n",
       "    </tr>\n",
       "    <tr>\n",
       "      <th>7</th>\n",
       "      <td>ORD031271</td>\n",
       "      <td>ID1449496101</td>\n",
       "      <td>2022-11-04</td>\n",
       "      <td>Nickolson</td>\n",
       "      <td>[('Alcon 10', 1), ('iAssist Line', 1)]</td>\n",
       "      <td>11175</td>\n",
       "      <td>NaN</td>\n",
       "      <td>-37.823971</td>\n",
       "      <td>144.984788</td>\n",
       "      <td>0</td>\n",
       "      <td>Spring</td>\n",
       "      <td>1</td>\n",
       "      <td>1.46738</td>\n",
       "      <td>great phone great phone!!! long life battery. ...</td>\n",
       "      <td>1</td>\n",
       "      <td>106.784669</td>\n",
       "    </tr>\n",
       "    <tr>\n",
       "      <th>17</th>\n",
       "      <td>ORD133987</td>\n",
       "      <td>ID0579383912</td>\n",
       "      <td>2022-04-29</td>\n",
       "      <td>Thompson</td>\n",
       "      <td>[('iAssist Line', 1), ('Lucent 330S', 2)]</td>\n",
       "      <td>4685</td>\n",
       "      <td>NaN</td>\n",
       "      <td>-37.824437</td>\n",
       "      <td>144.942542</td>\n",
       "      <td>25</td>\n",
       "      <td>Autumn</td>\n",
       "      <td>1</td>\n",
       "      <td>1.36871</td>\n",
       "      <td>best buy really good quality. no difference wi...</td>\n",
       "      <td>1</td>\n",
       "      <td>81.424745</td>\n",
       "    </tr>\n",
       "    <tr>\n",
       "      <th>36</th>\n",
       "      <td>ORD477954</td>\n",
       "      <td>ID6167230989</td>\n",
       "      <td>2022-09-06</td>\n",
       "      <td>Thompson</td>\n",
       "      <td>[('Toshika 750', 2), ('pearTV', 1), ('Thunder ...</td>\n",
       "      <td>24030</td>\n",
       "      <td>NaN</td>\n",
       "      <td>-37.819008</td>\n",
       "      <td>144.954304</td>\n",
       "      <td>0</td>\n",
       "      <td>Spring</td>\n",
       "      <td>1</td>\n",
       "      <td>0.94976</td>\n",
       "      <td>still have great tech support great phone</td>\n",
       "      <td>1</td>\n",
       "      <td>102.624743</td>\n",
       "    </tr>\n",
       "    <tr>\n",
       "      <th>40</th>\n",
       "      <td>ORD357442</td>\n",
       "      <td>ID0319157918</td>\n",
       "      <td>2022-05-13</td>\n",
       "      <td>Nickolson</td>\n",
       "      <td>[('pearTV', 2), ('Alcon 10', 1), ('iAssist Lin...</td>\n",
       "      <td>28470</td>\n",
       "      <td>NaN</td>\n",
       "      <td>-37.805095</td>\n",
       "      <td>144.968556</td>\n",
       "      <td>0</td>\n",
       "      <td>Autumn</td>\n",
       "      <td>1</td>\n",
       "      <td>1.50530</td>\n",
       "      <td>i loved. toshika is maximum and great brand al...</td>\n",
       "      <td>1</td>\n",
       "      <td>81.993952</td>\n",
       "    </tr>\n",
       "  </tbody>\n",
       "</table>\n",
       "</div>"
      ],
      "text/plain": [
       "     order_id   customer_id        date nearest_warehouse  \\\n",
       "1   ORD331771  ID0472236184  2022-07-16         Nickolson   \n",
       "7   ORD031271  ID1449496101  2022-11-04         Nickolson   \n",
       "17  ORD133987  ID0579383912  2022-04-29          Thompson   \n",
       "36  ORD477954  ID6167230989  2022-09-06          Thompson   \n",
       "40  ORD357442  ID0319157918  2022-05-13         Nickolson   \n",
       "\n",
       "                                        shopping_cart  order_price  \\\n",
       "1       [('Candle Inferno', 1), ('Universe Note', 1)]         3880   \n",
       "7              [('Alcon 10', 1), ('iAssist Line', 1)]        11175   \n",
       "17          [('iAssist Line', 1), ('Lucent 330S', 2)]         4685   \n",
       "36  [('Toshika 750', 2), ('pearTV', 1), ('Thunder ...        24030   \n",
       "40  [('pearTV', 2), ('Alcon 10', 1), ('iAssist Lin...        28470   \n",
       "\n",
       "    delivery_charges  customer_lat  customer_long  delivery_discount  season  \\\n",
       "1                NaN    -37.798961     144.966522                  0  Winter   \n",
       "7                NaN    -37.823971     144.984788                  0  Spring   \n",
       "17               NaN    -37.824437     144.942542                 25  Autumn   \n",
       "36               NaN    -37.819008     144.954304                  0  Spring   \n",
       "40               NaN    -37.805095     144.968556                  0  Autumn   \n",
       "\n",
       "    is_expedited_delivery  distance_to_nearest_warehouse  \\\n",
       "1                       1                        2.20176   \n",
       "7                       1                        1.46738   \n",
       "17                      1                        1.36871   \n",
       "36                      1                        0.94976   \n",
       "40                      1                        1.50530   \n",
       "\n",
       "                               latest_customer_review  is_happy_customer  \\\n",
       "1   i love olivia love this phone..works well look...                  1   \n",
       "7   great phone great phone!!! long life battery. ...                  1   \n",
       "17  best buy really good quality. no difference wi...                  1   \n",
       "36          still have great tech support great phone                  1   \n",
       "40  i loved. toshika is maximum and great brand al...                  1   \n",
       "\n",
       "    predicted_delivery_charge_before_discount  \n",
       "1                                   84.936124  \n",
       "7                                  106.784669  \n",
       "17                                  81.424745  \n",
       "36                                 102.624743  \n",
       "40                                  81.993952  "
      ]
     },
     "execution_count": 38,
     "metadata": {},
     "output_type": "execute_result"
    }
   ],
   "source": [
    "missing_df.head()"
   ]
  },
  {
   "cell_type": "code",
   "execution_count": 39,
   "id": "0675e902",
   "metadata": {},
   "outputs": [],
   "source": [
    "# calculating delivery charges and assigning the values\n",
    "missing_df['delivery_charges'].fillna(missing_df['predicted_delivery_charge_before_discount'] - ((missing_df['delivery_discount']/100)*missing_df['predicted_delivery_charge_before_discount']), inplace = True)\n"
   ]
  },
  {
   "cell_type": "code",
   "execution_count": 40,
   "id": "8776c86e",
   "metadata": {},
   "outputs": [
    {
     "data": {
      "text/html": [
       "<div>\n",
       "<style scoped>\n",
       "    .dataframe tbody tr th:only-of-type {\n",
       "        vertical-align: middle;\n",
       "    }\n",
       "\n",
       "    .dataframe tbody tr th {\n",
       "        vertical-align: top;\n",
       "    }\n",
       "\n",
       "    .dataframe thead th {\n",
       "        text-align: right;\n",
       "    }\n",
       "</style>\n",
       "<table border=\"1\" class=\"dataframe\">\n",
       "  <thead>\n",
       "    <tr style=\"text-align: right;\">\n",
       "      <th></th>\n",
       "      <th>order_id</th>\n",
       "      <th>customer_id</th>\n",
       "      <th>date</th>\n",
       "      <th>nearest_warehouse</th>\n",
       "      <th>shopping_cart</th>\n",
       "      <th>order_price</th>\n",
       "      <th>delivery_charges</th>\n",
       "      <th>customer_lat</th>\n",
       "      <th>customer_long</th>\n",
       "      <th>delivery_discount</th>\n",
       "      <th>season</th>\n",
       "      <th>is_expedited_delivery</th>\n",
       "      <th>distance_to_nearest_warehouse</th>\n",
       "      <th>latest_customer_review</th>\n",
       "      <th>is_happy_customer</th>\n",
       "      <th>predicted_delivery_charge_before_discount</th>\n",
       "    </tr>\n",
       "  </thead>\n",
       "  <tbody>\n",
       "    <tr>\n",
       "      <th>1</th>\n",
       "      <td>ORD331771</td>\n",
       "      <td>ID0472236184</td>\n",
       "      <td>2022-07-16</td>\n",
       "      <td>Nickolson</td>\n",
       "      <td>[('Candle Inferno', 1), ('Universe Note', 1)]</td>\n",
       "      <td>3880</td>\n",
       "      <td>84.936124</td>\n",
       "      <td>-37.798961</td>\n",
       "      <td>144.966522</td>\n",
       "      <td>0</td>\n",
       "      <td>Winter</td>\n",
       "      <td>1</td>\n",
       "      <td>2.20176</td>\n",
       "      <td>i love olivia love this phone..works well look...</td>\n",
       "      <td>1</td>\n",
       "      <td>84.936124</td>\n",
       "    </tr>\n",
       "    <tr>\n",
       "      <th>7</th>\n",
       "      <td>ORD031271</td>\n",
       "      <td>ID1449496101</td>\n",
       "      <td>2022-11-04</td>\n",
       "      <td>Nickolson</td>\n",
       "      <td>[('Alcon 10', 1), ('iAssist Line', 1)]</td>\n",
       "      <td>11175</td>\n",
       "      <td>106.784669</td>\n",
       "      <td>-37.823971</td>\n",
       "      <td>144.984788</td>\n",
       "      <td>0</td>\n",
       "      <td>Spring</td>\n",
       "      <td>1</td>\n",
       "      <td>1.46738</td>\n",
       "      <td>great phone great phone!!! long life battery. ...</td>\n",
       "      <td>1</td>\n",
       "      <td>106.784669</td>\n",
       "    </tr>\n",
       "    <tr>\n",
       "      <th>17</th>\n",
       "      <td>ORD133987</td>\n",
       "      <td>ID0579383912</td>\n",
       "      <td>2022-04-29</td>\n",
       "      <td>Thompson</td>\n",
       "      <td>[('iAssist Line', 1), ('Lucent 330S', 2)]</td>\n",
       "      <td>4685</td>\n",
       "      <td>61.068559</td>\n",
       "      <td>-37.824437</td>\n",
       "      <td>144.942542</td>\n",
       "      <td>25</td>\n",
       "      <td>Autumn</td>\n",
       "      <td>1</td>\n",
       "      <td>1.36871</td>\n",
       "      <td>best buy really good quality. no difference wi...</td>\n",
       "      <td>1</td>\n",
       "      <td>81.424745</td>\n",
       "    </tr>\n",
       "    <tr>\n",
       "      <th>36</th>\n",
       "      <td>ORD477954</td>\n",
       "      <td>ID6167230989</td>\n",
       "      <td>2022-09-06</td>\n",
       "      <td>Thompson</td>\n",
       "      <td>[('Toshika 750', 2), ('pearTV', 1), ('Thunder ...</td>\n",
       "      <td>24030</td>\n",
       "      <td>102.624743</td>\n",
       "      <td>-37.819008</td>\n",
       "      <td>144.954304</td>\n",
       "      <td>0</td>\n",
       "      <td>Spring</td>\n",
       "      <td>1</td>\n",
       "      <td>0.94976</td>\n",
       "      <td>still have great tech support great phone</td>\n",
       "      <td>1</td>\n",
       "      <td>102.624743</td>\n",
       "    </tr>\n",
       "    <tr>\n",
       "      <th>40</th>\n",
       "      <td>ORD357442</td>\n",
       "      <td>ID0319157918</td>\n",
       "      <td>2022-05-13</td>\n",
       "      <td>Nickolson</td>\n",
       "      <td>[('pearTV', 2), ('Alcon 10', 1), ('iAssist Lin...</td>\n",
       "      <td>28470</td>\n",
       "      <td>81.993952</td>\n",
       "      <td>-37.805095</td>\n",
       "      <td>144.968556</td>\n",
       "      <td>0</td>\n",
       "      <td>Autumn</td>\n",
       "      <td>1</td>\n",
       "      <td>1.50530</td>\n",
       "      <td>i loved. toshika is maximum and great brand al...</td>\n",
       "      <td>1</td>\n",
       "      <td>81.993952</td>\n",
       "    </tr>\n",
       "  </tbody>\n",
       "</table>\n",
       "</div>"
      ],
      "text/plain": [
       "     order_id   customer_id        date nearest_warehouse  \\\n",
       "1   ORD331771  ID0472236184  2022-07-16         Nickolson   \n",
       "7   ORD031271  ID1449496101  2022-11-04         Nickolson   \n",
       "17  ORD133987  ID0579383912  2022-04-29          Thompson   \n",
       "36  ORD477954  ID6167230989  2022-09-06          Thompson   \n",
       "40  ORD357442  ID0319157918  2022-05-13         Nickolson   \n",
       "\n",
       "                                        shopping_cart  order_price  \\\n",
       "1       [('Candle Inferno', 1), ('Universe Note', 1)]         3880   \n",
       "7              [('Alcon 10', 1), ('iAssist Line', 1)]        11175   \n",
       "17          [('iAssist Line', 1), ('Lucent 330S', 2)]         4685   \n",
       "36  [('Toshika 750', 2), ('pearTV', 1), ('Thunder ...        24030   \n",
       "40  [('pearTV', 2), ('Alcon 10', 1), ('iAssist Lin...        28470   \n",
       "\n",
       "    delivery_charges  customer_lat  customer_long  delivery_discount  season  \\\n",
       "1          84.936124    -37.798961     144.966522                  0  Winter   \n",
       "7         106.784669    -37.823971     144.984788                  0  Spring   \n",
       "17         61.068559    -37.824437     144.942542                 25  Autumn   \n",
       "36        102.624743    -37.819008     144.954304                  0  Spring   \n",
       "40         81.993952    -37.805095     144.968556                  0  Autumn   \n",
       "\n",
       "    is_expedited_delivery  distance_to_nearest_warehouse  \\\n",
       "1                       1                        2.20176   \n",
       "7                       1                        1.46738   \n",
       "17                      1                        1.36871   \n",
       "36                      1                        0.94976   \n",
       "40                      1                        1.50530   \n",
       "\n",
       "                               latest_customer_review  is_happy_customer  \\\n",
       "1   i love olivia love this phone..works well look...                  1   \n",
       "7   great phone great phone!!! long life battery. ...                  1   \n",
       "17  best buy really good quality. no difference wi...                  1   \n",
       "36          still have great tech support great phone                  1   \n",
       "40  i loved. toshika is maximum and great brand al...                  1   \n",
       "\n",
       "    predicted_delivery_charge_before_discount  \n",
       "1                                   84.936124  \n",
       "7                                  106.784669  \n",
       "17                                  81.424745  \n",
       "36                                 102.624743  \n",
       "40                                  81.993952  "
      ]
     },
     "execution_count": 40,
     "metadata": {},
     "output_type": "execute_result"
    }
   ],
   "source": [
    "missing_df.head()"
   ]
  },
  {
   "cell_type": "code",
   "execution_count": 41,
   "id": "f04dac04",
   "metadata": {},
   "outputs": [],
   "source": [
    "# finally imputing missing delivery charges in missing_data, using missing_df\n",
    "missing_data['delivery_charges'].fillna(missing_df['delivery_charges'], inplace=True)"
   ]
  },
  {
   "cell_type": "code",
   "execution_count": 42,
   "id": "6fb04b5d",
   "metadata": {},
   "outputs": [
    {
     "data": {
      "text/plain": [
       "order_id                         0\n",
       "customer_id                      0\n",
       "date                             0\n",
       "nearest_warehouse                0\n",
       "shopping_cart                    0\n",
       "order_price                      0\n",
       "delivery_charges                 0\n",
       "customer_lat                     0\n",
       "customer_long                    0\n",
       "delivery_discount                0\n",
       "season                           0\n",
       "is_expedited_delivery            0\n",
       "distance_to_nearest_warehouse    0\n",
       "latest_customer_review           0\n",
       "is_happy_customer                0\n",
       "dtype: int64"
      ]
     },
     "execution_count": 42,
     "metadata": {},
     "output_type": "execute_result"
    }
   ],
   "source": [
    "missing_data.isnull().sum()"
   ]
  },
  {
   "cell_type": "code",
   "execution_count": 43,
   "id": "69581be3",
   "metadata": {},
   "outputs": [],
   "source": [
    "#export to csv \n",
    "missing_data.to_csv(\"./32776705_missing_data_solution.csv\")"
   ]
  },
  {
   "cell_type": "markdown",
   "id": "5b2d1ecc",
   "metadata": {},
   "source": [
    "<div class=\"alert alert-block alert-success\">\n",
    "    \n",
    "## 4.  Outlier Data  <a class=\"anchor\" name=\"out\"></a>"
   ]
  },
  {
   "cell_type": "code",
   "execution_count": 44,
   "id": "2832f0e3",
   "metadata": {},
   "outputs": [
    {
     "data": {
      "text/html": [
       "<div>\n",
       "<style scoped>\n",
       "    .dataframe tbody tr th:only-of-type {\n",
       "        vertical-align: middle;\n",
       "    }\n",
       "\n",
       "    .dataframe tbody tr th {\n",
       "        vertical-align: top;\n",
       "    }\n",
       "\n",
       "    .dataframe thead th {\n",
       "        text-align: right;\n",
       "    }\n",
       "</style>\n",
       "<table border=\"1\" class=\"dataframe\">\n",
       "  <thead>\n",
       "    <tr style=\"text-align: right;\">\n",
       "      <th></th>\n",
       "      <th>order_id</th>\n",
       "      <th>customer_id</th>\n",
       "      <th>date</th>\n",
       "      <th>nearest_warehouse</th>\n",
       "      <th>shopping_cart</th>\n",
       "      <th>order_price</th>\n",
       "      <th>delivery_charges</th>\n",
       "      <th>customer_lat</th>\n",
       "      <th>customer_long</th>\n",
       "      <th>delivery_discount</th>\n",
       "      <th>season</th>\n",
       "      <th>is_expedited_delivery</th>\n",
       "      <th>distance_to_nearest_warehouse</th>\n",
       "      <th>latest_customer_review</th>\n",
       "      <th>is_happy_customer</th>\n",
       "    </tr>\n",
       "  </thead>\n",
       "  <tbody>\n",
       "    <tr>\n",
       "      <th>0</th>\n",
       "      <td>ORD041775</td>\n",
       "      <td>ID6167417939</td>\n",
       "      <td>2022-11-25</td>\n",
       "      <td>Nickolson</td>\n",
       "      <td>[('Candle Inferno', 1), ('Universe Note', 1)]</td>\n",
       "      <td>3880</td>\n",
       "      <td>86.081</td>\n",
       "      <td>-37.815047</td>\n",
       "      <td>144.960160</td>\n",
       "      <td>0</td>\n",
       "      <td>Spring</td>\n",
       "      <td>True</td>\n",
       "      <td>0.91546</td>\n",
       "      <td>will not stay on the phone frequently powers o...</td>\n",
       "      <td>False</td>\n",
       "    </tr>\n",
       "    <tr>\n",
       "      <th>1</th>\n",
       "      <td>ORD260731</td>\n",
       "      <td>ID5301568579</td>\n",
       "      <td>2022-03-05</td>\n",
       "      <td>Thompson</td>\n",
       "      <td>[('Toshika 750', 2), ('Olivia x460', 2), ('Uni...</td>\n",
       "      <td>20450</td>\n",
       "      <td>65.126</td>\n",
       "      <td>-37.808675</td>\n",
       "      <td>144.942337</td>\n",
       "      <td>0</td>\n",
       "      <td>Autumn</td>\n",
       "      <td>False</td>\n",
       "      <td>0.60933</td>\n",
       "      <td>four stars i love it</td>\n",
       "      <td>True</td>\n",
       "    </tr>\n",
       "    <tr>\n",
       "      <th>2</th>\n",
       "      <td>ORD483772</td>\n",
       "      <td>ID2400289305</td>\n",
       "      <td>2022-10-25</td>\n",
       "      <td>Bakers</td>\n",
       "      <td>[('pearTV', 1), ('Alcon 10', 1)]</td>\n",
       "      <td>15260</td>\n",
       "      <td>79.578</td>\n",
       "      <td>-37.805594</td>\n",
       "      <td>144.983530</td>\n",
       "      <td>0</td>\n",
       "      <td>Spring</td>\n",
       "      <td>False</td>\n",
       "      <td>1.13994</td>\n",
       "      <td>very nice! everything is working fine. just ha...</td>\n",
       "      <td>True</td>\n",
       "    </tr>\n",
       "    <tr>\n",
       "      <th>3</th>\n",
       "      <td>ORD025148</td>\n",
       "      <td>ID3367904406</td>\n",
       "      <td>2022-09-06</td>\n",
       "      <td>Nickolson</td>\n",
       "      <td>[('iAssist Line', 2), ('Thunder line', 2), ('T...</td>\n",
       "      <td>31030</td>\n",
       "      <td>44.965</td>\n",
       "      <td>-37.812933</td>\n",
       "      <td>144.968077</td>\n",
       "      <td>25</td>\n",
       "      <td>Spring</td>\n",
       "      <td>False</td>\n",
       "      <td>0.64350</td>\n",
       "      <td>waste of money this is not unlocked.. bought t...</td>\n",
       "      <td>False</td>\n",
       "    </tr>\n",
       "    <tr>\n",
       "      <th>4</th>\n",
       "      <td>ORD329595</td>\n",
       "      <td>ID1879216504</td>\n",
       "      <td>2022-06-12</td>\n",
       "      <td>Thompson</td>\n",
       "      <td>[('Toshika 750', 2), ('Universe Note', 1)]</td>\n",
       "      <td>12090</td>\n",
       "      <td>72.967</td>\n",
       "      <td>-37.799616</td>\n",
       "      <td>144.963654</td>\n",
       "      <td>0</td>\n",
       "      <td>Winter</td>\n",
       "      <td>False</td>\n",
       "      <td>2.05922</td>\n",
       "      <td>try everything good</td>\n",
       "      <td>True</td>\n",
       "    </tr>\n",
       "  </tbody>\n",
       "</table>\n",
       "</div>"
      ],
      "text/plain": [
       "    order_id   customer_id        date nearest_warehouse  \\\n",
       "0  ORD041775  ID6167417939  2022-11-25         Nickolson   \n",
       "1  ORD260731  ID5301568579  2022-03-05          Thompson   \n",
       "2  ORD483772  ID2400289305  2022-10-25            Bakers   \n",
       "3  ORD025148  ID3367904406  2022-09-06         Nickolson   \n",
       "4  ORD329595  ID1879216504  2022-06-12          Thompson   \n",
       "\n",
       "                                       shopping_cart  order_price  \\\n",
       "0      [('Candle Inferno', 1), ('Universe Note', 1)]         3880   \n",
       "1  [('Toshika 750', 2), ('Olivia x460', 2), ('Uni...        20450   \n",
       "2                   [('pearTV', 1), ('Alcon 10', 1)]        15260   \n",
       "3  [('iAssist Line', 2), ('Thunder line', 2), ('T...        31030   \n",
       "4         [('Toshika 750', 2), ('Universe Note', 1)]        12090   \n",
       "\n",
       "   delivery_charges  customer_lat  customer_long  delivery_discount  season  \\\n",
       "0            86.081    -37.815047     144.960160                  0  Spring   \n",
       "1            65.126    -37.808675     144.942337                  0  Autumn   \n",
       "2            79.578    -37.805594     144.983530                  0  Spring   \n",
       "3            44.965    -37.812933     144.968077                 25  Spring   \n",
       "4            72.967    -37.799616     144.963654                  0  Winter   \n",
       "\n",
       "   is_expedited_delivery  distance_to_nearest_warehouse  \\\n",
       "0                   True                        0.91546   \n",
       "1                  False                        0.60933   \n",
       "2                  False                        1.13994   \n",
       "3                  False                        0.64350   \n",
       "4                  False                        2.05922   \n",
       "\n",
       "                              latest_customer_review  is_happy_customer  \n",
       "0  will not stay on the phone frequently powers o...              False  \n",
       "1                               four stars i love it               True  \n",
       "2  very nice! everything is working fine. just ha...               True  \n",
       "3  waste of money this is not unlocked.. bought t...              False  \n",
       "4                                try everything good               True  "
      ]
     },
     "execution_count": 44,
     "metadata": {},
     "output_type": "execute_result"
    }
   ],
   "source": [
    "# Importing outlier data\n",
    "outlier_data = pd.read_csv(\"./32776705_outlier_data.csv\")\n",
    "outlier_data.head()"
   ]
  },
  {
   "cell_type": "code",
   "execution_count": 45,
   "id": "8f1dc057",
   "metadata": {},
   "outputs": [],
   "source": [
    "# creating a copy of outlier data to make changes \n",
    "outlier_data_copy = outlier_data.copy()\n",
    "\n",
    "# creating a column for the actual delivery charges before APPLYING ANY DISCOUNT.\n",
    "outlier_data_copy.loc[:, 'Actual_delivery_charges_before_discount'] = outlier_data_copy[['delivery_discount', 'delivery_charges']].apply(lambda x: x['delivery_charges'] / (1 - (x['delivery_discount']/100)), axis=1)\n"
   ]
  },
  {
   "cell_type": "code",
   "execution_count": 46,
   "id": "5df7b2a0",
   "metadata": {},
   "outputs": [
    {
     "data": {
      "image/png": "[encoded data removed]",
      "text/plain": [
       "<Figure size 640x480 with 1 Axes>"
      ]
     },
     "metadata": {},
     "output_type": "display_data"
    }
   ],
   "source": [
    "boxp = outlier_data_copy.boxplot(column='Actual_delivery_charges_before_discount', by = 'season')"
   ]
  },
  {
   "cell_type": "markdown",
   "id": "17144c5f",
   "metadata": {},
   "source": [
    "We will use the 4 linear models created in the missing data section to predict delivery charges for outlier_data_copy and find out residuals.."
   ]
  },
  {
   "cell_type": "code",
   "execution_count": 47,
   "id": "83c38500",
   "metadata": {},
   "outputs": [],
   "source": [
    "# taking care of required boolean columns \n",
    "outlier_data_copy['is_expedited_delivery'] = outlier_data_copy['is_expedited_delivery'].astype('int')\n",
    "outlier_data_copy['is_happy_customer'] = outlier_data_copy['is_happy_customer'].astype('int')"
   ]
  },
  {
   "cell_type": "code",
   "execution_count": 48,
   "id": "933d0ff0",
   "metadata": {},
   "outputs": [],
   "source": [
    "# creating 4 dataframes according to season with independent features for the model prediction\n",
    "summer_outlier_data = outlier_data_copy.loc[outlier_data_copy['season']== 'Summer', ['is_expedited_delivery', 'is_happy_customer','distance_to_nearest_warehouse' ]]\n",
    "winter_outlier_data = outlier_data_copy.loc[outlier_data_copy['season']== 'Winter', ['is_expedited_delivery', 'is_happy_customer','distance_to_nearest_warehouse' ]]\n",
    "autumn_outlier_data = outlier_data_copy.loc[outlier_data_copy['season']== 'Autumn', ['is_expedited_delivery', 'is_happy_customer','distance_to_nearest_warehouse' ]]\n",
    "spring_outlier_data = outlier_data_copy.loc[outlier_data_copy['season']== 'Spring', ['is_expedited_delivery', 'is_happy_customer','distance_to_nearest_warehouse' ]]\n"
   ]
  },
  {
   "cell_type": "code",
   "execution_count": 49,
   "id": "2ff25461",
   "metadata": {},
   "outputs": [],
   "source": [
    "# predicting delivery charges(before discount) for different seasons using the 4 models introduced in missing data.\n",
    "summer_outlier_pred = summer_model.predict(summer_outlier_data)\n",
    "winter_outlier_pred = winter_model.predict(winter_outlier_data)\n",
    "autumn_outlier_pred = autumn_model.predict(autumn_outlier_data)\n",
    "spring_outlier_pred = spring_model.predict(spring_outlier_data)\n"
   ]
  },
  {
   "cell_type": "code",
   "execution_count": 50,
   "id": "70bc8cc5",
   "metadata": {},
   "outputs": [],
   "source": [
    "# creating a new column in outlier_data_copy for the predicted delivery charges (before discount)\n",
    "outlier_data_copy.loc[outlier_data_copy['season']== 'Summer', 'predicted_delivery_charge_before_discount'] = list(summer_outlier_pred)\n",
    "outlier_data_copy.loc[outlier_data_copy['season']== 'Winter', 'predicted_delivery_charge_before_discount'] = list(winter_outlier_pred)\n",
    "outlier_data_copy.loc[outlier_data_copy['season']== 'Autumn', 'predicted_delivery_charge_before_discount'] = list(autumn_outlier_pred)\n",
    "outlier_data_copy.loc[outlier_data_copy['season']== 'Spring', 'predicted_delivery_charge_before_discount'] = list(spring_outlier_pred)\n"
   ]
  },
  {
   "cell_type": "code",
   "execution_count": 51,
   "id": "defd76fe",
   "metadata": {},
   "outputs": [
    {
     "data": {
      "text/html": [
       "<div>\n",
       "<style scoped>\n",
       "    .dataframe tbody tr th:only-of-type {\n",
       "        vertical-align: middle;\n",
       "    }\n",
       "\n",
       "    .dataframe tbody tr th {\n",
       "        vertical-align: top;\n",
       "    }\n",
       "\n",
       "    .dataframe thead th {\n",
       "        text-align: right;\n",
       "    }\n",
       "</style>\n",
       "<table border=\"1\" class=\"dataframe\">\n",
       "  <thead>\n",
       "    <tr style=\"text-align: right;\">\n",
       "      <th></th>\n",
       "      <th>order_id</th>\n",
       "      <th>customer_id</th>\n",
       "      <th>date</th>\n",
       "      <th>nearest_warehouse</th>\n",
       "      <th>shopping_cart</th>\n",
       "      <th>order_price</th>\n",
       "      <th>delivery_charges</th>\n",
       "      <th>customer_lat</th>\n",
       "      <th>customer_long</th>\n",
       "      <th>delivery_discount</th>\n",
       "      <th>season</th>\n",
       "      <th>is_expedited_delivery</th>\n",
       "      <th>distance_to_nearest_warehouse</th>\n",
       "      <th>latest_customer_review</th>\n",
       "      <th>is_happy_customer</th>\n",
       "      <th>Actual_delivery_charges_before_discount</th>\n",
       "      <th>predicted_delivery_charge_before_discount</th>\n",
       "    </tr>\n",
       "  </thead>\n",
       "  <tbody>\n",
       "    <tr>\n",
       "      <th>0</th>\n",
       "      <td>ORD041775</td>\n",
       "      <td>ID6167417939</td>\n",
       "      <td>2022-11-25</td>\n",
       "      <td>Nickolson</td>\n",
       "      <td>[('Candle Inferno', 1), ('Universe Note', 1)]</td>\n",
       "      <td>3880</td>\n",
       "      <td>86.081</td>\n",
       "      <td>-37.815047</td>\n",
       "      <td>144.960160</td>\n",
       "      <td>0</td>\n",
       "      <td>Spring</td>\n",
       "      <td>1</td>\n",
       "      <td>0.91546</td>\n",
       "      <td>will not stay on the phone frequently powers o...</td>\n",
       "      <td>0</td>\n",
       "      <td>86.081000</td>\n",
       "      <td>76.466468</td>\n",
       "    </tr>\n",
       "    <tr>\n",
       "      <th>1</th>\n",
       "      <td>ORD260731</td>\n",
       "      <td>ID5301568579</td>\n",
       "      <td>2022-03-05</td>\n",
       "      <td>Thompson</td>\n",
       "      <td>[('Toshika 750', 2), ('Olivia x460', 2), ('Uni...</td>\n",
       "      <td>20450</td>\n",
       "      <td>65.126</td>\n",
       "      <td>-37.808675</td>\n",
       "      <td>144.942337</td>\n",
       "      <td>0</td>\n",
       "      <td>Autumn</td>\n",
       "      <td>0</td>\n",
       "      <td>0.60933</td>\n",
       "      <td>four stars i love it</td>\n",
       "      <td>1</td>\n",
       "      <td>65.126000</td>\n",
       "      <td>69.870756</td>\n",
       "    </tr>\n",
       "    <tr>\n",
       "      <th>2</th>\n",
       "      <td>ORD483772</td>\n",
       "      <td>ID2400289305</td>\n",
       "      <td>2022-10-25</td>\n",
       "      <td>Bakers</td>\n",
       "      <td>[('pearTV', 1), ('Alcon 10', 1)]</td>\n",
       "      <td>15260</td>\n",
       "      <td>79.578</td>\n",
       "      <td>-37.805594</td>\n",
       "      <td>144.983530</td>\n",
       "      <td>0</td>\n",
       "      <td>Spring</td>\n",
       "      <td>0</td>\n",
       "      <td>1.13994</td>\n",
       "      <td>very nice! everything is working fine. just ha...</td>\n",
       "      <td>1</td>\n",
       "      <td>79.578000</td>\n",
       "      <td>97.114306</td>\n",
       "    </tr>\n",
       "    <tr>\n",
       "      <th>3</th>\n",
       "      <td>ORD025148</td>\n",
       "      <td>ID3367904406</td>\n",
       "      <td>2022-09-06</td>\n",
       "      <td>Nickolson</td>\n",
       "      <td>[('iAssist Line', 2), ('Thunder line', 2), ('T...</td>\n",
       "      <td>31030</td>\n",
       "      <td>44.965</td>\n",
       "      <td>-37.812933</td>\n",
       "      <td>144.968077</td>\n",
       "      <td>25</td>\n",
       "      <td>Spring</td>\n",
       "      <td>0</td>\n",
       "      <td>0.64350</td>\n",
       "      <td>waste of money this is not unlocked.. bought t...</td>\n",
       "      <td>0</td>\n",
       "      <td>59.953333</td>\n",
       "      <td>64.305061</td>\n",
       "    </tr>\n",
       "    <tr>\n",
       "      <th>4</th>\n",
       "      <td>ORD329595</td>\n",
       "      <td>ID1879216504</td>\n",
       "      <td>2022-06-12</td>\n",
       "      <td>Thompson</td>\n",
       "      <td>[('Toshika 750', 2), ('Universe Note', 1)]</td>\n",
       "      <td>12090</td>\n",
       "      <td>72.967</td>\n",
       "      <td>-37.799616</td>\n",
       "      <td>144.963654</td>\n",
       "      <td>0</td>\n",
       "      <td>Winter</td>\n",
       "      <td>0</td>\n",
       "      <td>2.05922</td>\n",
       "      <td>try everything good</td>\n",
       "      <td>1</td>\n",
       "      <td>72.967000</td>\n",
       "      <td>88.535146</td>\n",
       "    </tr>\n",
       "  </tbody>\n",
       "</table>\n",
       "</div>"
      ],
      "text/plain": [
       "    order_id   customer_id        date nearest_warehouse  \\\n",
       "0  ORD041775  ID6167417939  2022-11-25         Nickolson   \n",
       "1  ORD260731  ID5301568579  2022-03-05          Thompson   \n",
       "2  ORD483772  ID2400289305  2022-10-25            Bakers   \n",
       "3  ORD025148  ID3367904406  2022-09-06         Nickolson   \n",
       "4  ORD329595  ID1879216504  2022-06-12          Thompson   \n",
       "\n",
       "                                       shopping_cart  order_price  \\\n",
       "0      [('Candle Inferno', 1), ('Universe Note', 1)]         3880   \n",
       "1  [('Toshika 750', 2), ('Olivia x460', 2), ('Uni...        20450   \n",
       "2                   [('pearTV', 1), ('Alcon 10', 1)]        15260   \n",
       "3  [('iAssist Line', 2), ('Thunder line', 2), ('T...        31030   \n",
       "4         [('Toshika 750', 2), ('Universe Note', 1)]        12090   \n",
       "\n",
       "   delivery_charges  customer_lat  customer_long  delivery_discount  season  \\\n",
       "0            86.081    -37.815047     144.960160                  0  Spring   \n",
       "1            65.126    -37.808675     144.942337                  0  Autumn   \n",
       "2            79.578    -37.805594     144.983530                  0  Spring   \n",
       "3            44.965    -37.812933     144.968077                 25  Spring   \n",
       "4            72.967    -37.799616     144.963654                  0  Winter   \n",
       "\n",
       "   is_expedited_delivery  distance_to_nearest_warehouse  \\\n",
       "0                      1                        0.91546   \n",
       "1                      0                        0.60933   \n",
       "2                      0                        1.13994   \n",
       "3                      0                        0.64350   \n",
       "4                      0                        2.05922   \n",
       "\n",
       "                              latest_customer_review  is_happy_customer  \\\n",
       "0  will not stay on the phone frequently powers o...                  0   \n",
       "1                               four stars i love it                  1   \n",
       "2  very nice! everything is working fine. just ha...                  1   \n",
       "3  waste of money this is not unlocked.. bought t...                  0   \n",
       "4                                try everything good                  1   \n",
       "\n",
       "   Actual_delivery_charges_before_discount  \\\n",
       "0                                86.081000   \n",
       "1                                65.126000   \n",
       "2                                79.578000   \n",
       "3                                59.953333   \n",
       "4                                72.967000   \n",
       "\n",
       "   predicted_delivery_charge_before_discount  \n",
       "0                                  76.466468  \n",
       "1                                  69.870756  \n",
       "2                                  97.114306  \n",
       "3                                  64.305061  \n",
       "4                                  88.535146  "
      ]
     },
     "execution_count": 51,
     "metadata": {},
     "output_type": "execute_result"
    }
   ],
   "source": [
    "outlier_data_copy.head()"
   ]
  },
  {
   "cell_type": "code",
   "execution_count": 52,
   "id": "4114637e",
   "metadata": {},
   "outputs": [
    {
     "data": {
      "text/html": [
       "<div>\n",
       "<style scoped>\n",
       "    .dataframe tbody tr th:only-of-type {\n",
       "        vertical-align: middle;\n",
       "    }\n",
       "\n",
       "    .dataframe tbody tr th {\n",
       "        vertical-align: top;\n",
       "    }\n",
       "\n",
       "    .dataframe thead th {\n",
       "        text-align: right;\n",
       "    }\n",
       "</style>\n",
       "<table border=\"1\" class=\"dataframe\">\n",
       "  <thead>\n",
       "    <tr style=\"text-align: right;\">\n",
       "      <th></th>\n",
       "      <th>order_id</th>\n",
       "      <th>customer_id</th>\n",
       "      <th>date</th>\n",
       "      <th>nearest_warehouse</th>\n",
       "      <th>shopping_cart</th>\n",
       "      <th>order_price</th>\n",
       "      <th>delivery_charges</th>\n",
       "      <th>customer_lat</th>\n",
       "      <th>customer_long</th>\n",
       "      <th>delivery_discount</th>\n",
       "      <th>season</th>\n",
       "      <th>is_expedited_delivery</th>\n",
       "      <th>distance_to_nearest_warehouse</th>\n",
       "      <th>latest_customer_review</th>\n",
       "      <th>is_happy_customer</th>\n",
       "      <th>Actual_delivery_charges_before_discount</th>\n",
       "      <th>predicted_delivery_charge_before_discount</th>\n",
       "      <th>residuals</th>\n",
       "    </tr>\n",
       "  </thead>\n",
       "  <tbody>\n",
       "    <tr>\n",
       "      <th>0</th>\n",
       "      <td>ORD041775</td>\n",
       "      <td>ID6167417939</td>\n",
       "      <td>2022-11-25</td>\n",
       "      <td>Nickolson</td>\n",
       "      <td>[('Candle Inferno', 1), ('Universe Note', 1)]</td>\n",
       "      <td>3880</td>\n",
       "      <td>86.081</td>\n",
       "      <td>-37.815047</td>\n",
       "      <td>144.960160</td>\n",
       "      <td>0</td>\n",
       "      <td>Spring</td>\n",
       "      <td>1</td>\n",
       "      <td>0.91546</td>\n",
       "      <td>will not stay on the phone frequently powers o...</td>\n",
       "      <td>0</td>\n",
       "      <td>86.081000</td>\n",
       "      <td>76.466468</td>\n",
       "      <td>9.614532</td>\n",
       "    </tr>\n",
       "    <tr>\n",
       "      <th>1</th>\n",
       "      <td>ORD260731</td>\n",
       "      <td>ID5301568579</td>\n",
       "      <td>2022-03-05</td>\n",
       "      <td>Thompson</td>\n",
       "      <td>[('Toshika 750', 2), ('Olivia x460', 2), ('Uni...</td>\n",
       "      <td>20450</td>\n",
       "      <td>65.126</td>\n",
       "      <td>-37.808675</td>\n",
       "      <td>144.942337</td>\n",
       "      <td>0</td>\n",
       "      <td>Autumn</td>\n",
       "      <td>0</td>\n",
       "      <td>0.60933</td>\n",
       "      <td>four stars i love it</td>\n",
       "      <td>1</td>\n",
       "      <td>65.126000</td>\n",
       "      <td>69.870756</td>\n",
       "      <td>-4.744756</td>\n",
       "    </tr>\n",
       "    <tr>\n",
       "      <th>2</th>\n",
       "      <td>ORD483772</td>\n",
       "      <td>ID2400289305</td>\n",
       "      <td>2022-10-25</td>\n",
       "      <td>Bakers</td>\n",
       "      <td>[('pearTV', 1), ('Alcon 10', 1)]</td>\n",
       "      <td>15260</td>\n",
       "      <td>79.578</td>\n",
       "      <td>-37.805594</td>\n",
       "      <td>144.983530</td>\n",
       "      <td>0</td>\n",
       "      <td>Spring</td>\n",
       "      <td>0</td>\n",
       "      <td>1.13994</td>\n",
       "      <td>very nice! everything is working fine. just ha...</td>\n",
       "      <td>1</td>\n",
       "      <td>79.578000</td>\n",
       "      <td>97.114306</td>\n",
       "      <td>-17.536306</td>\n",
       "    </tr>\n",
       "    <tr>\n",
       "      <th>3</th>\n",
       "      <td>ORD025148</td>\n",
       "      <td>ID3367904406</td>\n",
       "      <td>2022-09-06</td>\n",
       "      <td>Nickolson</td>\n",
       "      <td>[('iAssist Line', 2), ('Thunder line', 2), ('T...</td>\n",
       "      <td>31030</td>\n",
       "      <td>44.965</td>\n",
       "      <td>-37.812933</td>\n",
       "      <td>144.968077</td>\n",
       "      <td>25</td>\n",
       "      <td>Spring</td>\n",
       "      <td>0</td>\n",
       "      <td>0.64350</td>\n",
       "      <td>waste of money this is not unlocked.. bought t...</td>\n",
       "      <td>0</td>\n",
       "      <td>59.953333</td>\n",
       "      <td>64.305061</td>\n",
       "      <td>-4.351728</td>\n",
       "    </tr>\n",
       "    <tr>\n",
       "      <th>4</th>\n",
       "      <td>ORD329595</td>\n",
       "      <td>ID1879216504</td>\n",
       "      <td>2022-06-12</td>\n",
       "      <td>Thompson</td>\n",
       "      <td>[('Toshika 750', 2), ('Universe Note', 1)]</td>\n",
       "      <td>12090</td>\n",
       "      <td>72.967</td>\n",
       "      <td>-37.799616</td>\n",
       "      <td>144.963654</td>\n",
       "      <td>0</td>\n",
       "      <td>Winter</td>\n",
       "      <td>0</td>\n",
       "      <td>2.05922</td>\n",
       "      <td>try everything good</td>\n",
       "      <td>1</td>\n",
       "      <td>72.967000</td>\n",
       "      <td>88.535146</td>\n",
       "      <td>-15.568146</td>\n",
       "    </tr>\n",
       "  </tbody>\n",
       "</table>\n",
       "</div>"
      ],
      "text/plain": [
       "    order_id   customer_id        date nearest_warehouse  \\\n",
       "0  ORD041775  ID6167417939  2022-11-25         Nickolson   \n",
       "1  ORD260731  ID5301568579  2022-03-05          Thompson   \n",
       "2  ORD483772  ID2400289305  2022-10-25            Bakers   \n",
       "3  ORD025148  ID3367904406  2022-09-06         Nickolson   \n",
       "4  ORD329595  ID1879216504  2022-06-12          Thompson   \n",
       "\n",
       "                                       shopping_cart  order_price  \\\n",
       "0      [('Candle Inferno', 1), ('Universe Note', 1)]         3880   \n",
       "1  [('Toshika 750', 2), ('Olivia x460', 2), ('Uni...        20450   \n",
       "2                   [('pearTV', 1), ('Alcon 10', 1)]        15260   \n",
       "3  [('iAssist Line', 2), ('Thunder line', 2), ('T...        31030   \n",
       "4         [('Toshika 750', 2), ('Universe Note', 1)]        12090   \n",
       "\n",
       "   delivery_charges  customer_lat  customer_long  delivery_discount  season  \\\n",
       "0            86.081    -37.815047     144.960160                  0  Spring   \n",
       "1            65.126    -37.808675     144.942337                  0  Autumn   \n",
       "2            79.578    -37.805594     144.983530                  0  Spring   \n",
       "3            44.965    -37.812933     144.968077                 25  Spring   \n",
       "4            72.967    -37.799616     144.963654                  0  Winter   \n",
       "\n",
       "   is_expedited_delivery  distance_to_nearest_warehouse  \\\n",
       "0                      1                        0.91546   \n",
       "1                      0                        0.60933   \n",
       "2                      0                        1.13994   \n",
       "3                      0                        0.64350   \n",
       "4                      0                        2.05922   \n",
       "\n",
       "                              latest_customer_review  is_happy_customer  \\\n",
       "0  will not stay on the phone frequently powers o...                  0   \n",
       "1                               four stars i love it                  1   \n",
       "2  very nice! everything is working fine. just ha...                  1   \n",
       "3  waste of money this is not unlocked.. bought t...                  0   \n",
       "4                                try everything good                  1   \n",
       "\n",
       "   Actual_delivery_charges_before_discount  \\\n",
       "0                                86.081000   \n",
       "1                                65.126000   \n",
       "2                                79.578000   \n",
       "3                                59.953333   \n",
       "4                                72.967000   \n",
       "\n",
       "   predicted_delivery_charge_before_discount  residuals  \n",
       "0                                  76.466468   9.614532  \n",
       "1                                  69.870756  -4.744756  \n",
       "2                                  97.114306 -17.536306  \n",
       "3                                  64.305061  -4.351728  \n",
       "4                                  88.535146 -15.568146  "
      ]
     },
     "execution_count": 52,
     "metadata": {},
     "output_type": "execute_result"
    }
   ],
   "source": [
    "# Now we will calculate residual values for delivery charges\n",
    "outlier_data_copy['residuals'] = outlier_data_copy['Actual_delivery_charges_before_discount']- outlier_data_copy['predicted_delivery_charge_before_discount']\n",
    "outlier_data_copy.head()"
   ]
  },
  {
   "cell_type": "code",
   "execution_count": 53,
   "id": "3d39a794",
   "metadata": {},
   "outputs": [
    {
     "data": {
      "image/png": "[encoded data removed]",
      "text/plain": [
       "<Figure size 640x480 with 1 Axes>"
      ]
     },
     "metadata": {},
     "output_type": "display_data"
    }
   ],
   "source": [
    "boxp2 = outlier_data_copy.boxplot(column='residuals', by = 'season')"
   ]
  },
  {
   "cell_type": "markdown",
   "id": "ffc66ef7",
   "metadata": {},
   "source": [
    "We can observe from the above that the number of residuals increased from our last approach. We will remove these entries.   \n",
    "To calculate these outlier entries, we would need to find the Inner Quartile range of the residual values for different seasons, and find a range of expected residuals, anything that does not belong to that range will be an outlier.   \n",
    "Range will be [Q1- 1.5(IQR), Q3+1.5(IQR)]"
   ]
  },
  {
   "cell_type": "code",
   "execution_count": 54,
   "id": "c0f71959",
   "metadata": {
    "scrolled": true
   },
   "outputs": [],
   "source": [
    "# gathering seasonal data with residuals\n",
    "summer_pred = outlier_data_copy[outlier_data_copy['season'] == 'Summer'] \n",
    "winter_pred = outlier_data_copy[outlier_data_copy['season'] == 'Winter'] \n",
    "autumn_pred = outlier_data_copy[outlier_data_copy['season'] == 'Autumn'] \n",
    "spring_pred = outlier_data_copy[outlier_data_copy['season'] == 'Spring'] "
   ]
  },
  {
   "cell_type": "code",
   "execution_count": 55,
   "id": "acb040f7",
   "metadata": {},
   "outputs": [],
   "source": [
    "def fence_threshold (column):\n",
    "    '''\n",
    "       This function delivers upper and lower fence for \n",
    "       some data by calculating IQR and whiskers.\n",
    "\n",
    "       Input Parameter:\n",
    "           column: column of a pandas dataframe\n",
    "\n",
    "       Output:\n",
    "           lower_fence: lower acceptable limit \n",
    "           uper_fence: upper acceptable limit\n",
    " \n",
    "   ''' \n",
    "    # getting first quantile\n",
    "    q1 = column.quantile(q=.25)\n",
    "    # getting third quantile\n",
    "    q3= column.quantile(q=.75)\n",
    "    # calculating iqr\n",
    "    iqr = q3-q1\n",
    "    # calculating fences\n",
    "    lower_fence = q1 - (1.5*iqr)\n",
    "    upper_fence = q3 + (1.5*iqr)\n",
    "    \n",
    "    print('Any residual value more than', upper_fence, \"or less than\", lower_fence, \"will be considered an outlier.\")\n",
    "    return lower_fence, upper_fence"
   ]
  },
  {
   "cell_type": "code",
   "execution_count": 56,
   "id": "8accb070",
   "metadata": {},
   "outputs": [
    {
     "name": "stdout",
     "output_type": "stream",
     "text": [
      "Any residual value more than 19.17496795307211 or less than -26.63095145597717 will be considered an outlier.\n"
     ]
    }
   ],
   "source": [
    "# calculating threshold to be an outlier - summer \n",
    "summer_lower_fence, summer_upper_fence = fence_threshold(summer_pred['residuals'])"
   ]
  },
  {
   "cell_type": "code",
   "execution_count": 57,
   "id": "59057c83",
   "metadata": {},
   "outputs": [
    {
     "name": "stdout",
     "output_type": "stream",
     "text": [
      "Any residual value more than 12.44584062434978 or less than -20.433634249360374 will be considered an outlier.\n"
     ]
    }
   ],
   "source": [
    "# calculating threshold to be an outlier - winter\n",
    "winter_lower_fence, winter_upper_fence = fence_threshold(winter_pred['residuals'])"
   ]
  },
  {
   "cell_type": "code",
   "execution_count": 58,
   "id": "ede7bb4a",
   "metadata": {},
   "outputs": [
    {
     "name": "stdout",
     "output_type": "stream",
     "text": [
      "Any residual value more than 19.40201089804495 or less than -30.159951881222902 will be considered an outlier.\n"
     ]
    }
   ],
   "source": [
    "# calculating threshold to be an outlier - autumn\n",
    "autumn_lower_fence, autumn_upper_fence = fence_threshold(autumn_pred['residuals'])"
   ]
  },
  {
   "cell_type": "code",
   "execution_count": 59,
   "id": "c7a9ad10",
   "metadata": {},
   "outputs": [
    {
     "name": "stdout",
     "output_type": "stream",
     "text": [
      "Any residual value more than 28.40021636096366 or less than -42.21383203596296 will be considered an outlier.\n"
     ]
    }
   ],
   "source": [
    "# calculating threshold to be an outlier - spring\n",
    "spring_lower_fence, spring_upper_fence = fence_threshold(spring_pred['residuals'])"
   ]
  },
  {
   "cell_type": "code",
   "execution_count": 60,
   "id": "64c70db3",
   "metadata": {},
   "outputs": [],
   "source": [
    "# now we will find out these outlier values\n",
    "summer_pred['outlier'] = summer_pred['residuals'].apply(lambda x: True if x>summer_upper_fence or x<summer_lower_fence else False )\n",
    "winter_pred['outlier'] = winter_pred['residuals'].apply(lambda x: True if x>winter_upper_fence or x<winter_lower_fence else False )\n",
    "autumn_pred['outlier'] = autumn_pred['residuals'].apply(lambda x: True if x>autumn_upper_fence or x<autumn_lower_fence else False )\n",
    "spring_pred['outlier'] = spring_pred['residuals'].apply(lambda x: True if x>spring_upper_fence or x<spring_lower_fence else False )"
   ]
  },
  {
   "cell_type": "code",
   "execution_count": 61,
   "id": "a93be1b2",
   "metadata": {},
   "outputs": [],
   "source": [
    "outlier_data_copy.loc[outlier_data_copy['season']== 'Summer', 'outlier'] = summer_pred['outlier']\n",
    "outlier_data_copy.loc[outlier_data_copy['season']== 'Winter', 'outlier'] = winter_pred['outlier']\n",
    "outlier_data_copy.loc[outlier_data_copy['season']== 'Autumn', 'outlier'] = autumn_pred['outlier']\n",
    "outlier_data_copy.loc[outlier_data_copy['season']== 'Spring', 'outlier'] = spring_pred['outlier']\n"
   ]
  },
  {
   "cell_type": "code",
   "execution_count": 62,
   "id": "4d50ae33",
   "metadata": {},
   "outputs": [
    {
     "data": {
      "text/plain": [
       "17"
      ]
     },
     "execution_count": 62,
     "metadata": {},
     "output_type": "execute_result"
    }
   ],
   "source": [
    "len(outlier_data_copy[outlier_data_copy['outlier'] == True])"
   ]
  },
  {
   "cell_type": "markdown",
   "id": "4007a185",
   "metadata": {},
   "source": [
    "There are 17 outliers in our data!"
   ]
  },
  {
   "cell_type": "code",
   "execution_count": 63,
   "id": "254989e8",
   "metadata": {},
   "outputs": [],
   "source": [
    "# Now we will remove these outliers from the actual outlier data \n",
    "outlier_data.loc[:,'outlier'] = outlier_data_copy['outlier']\n",
    "outlier_data = outlier_data.loc[outlier_data[\"outlier\"] == False ]"
   ]
  },
  {
   "cell_type": "code",
   "execution_count": 64,
   "id": "2160302d",
   "metadata": {},
   "outputs": [
    {
     "data": {
      "text/plain": [
       "(483, 15)"
      ]
     },
     "execution_count": 64,
     "metadata": {},
     "output_type": "execute_result"
    }
   ],
   "source": [
    "outlier_data.drop(\"outlier\", axis=1, inplace = True)\n",
    "outlier_data.shape"
   ]
  },
  {
   "cell_type": "code",
   "execution_count": 65,
   "id": "b37a6756",
   "metadata": {},
   "outputs": [
    {
     "data": {
      "text/html": [
       "<div>\n",
       "<style scoped>\n",
       "    .dataframe tbody tr th:only-of-type {\n",
       "        vertical-align: middle;\n",
       "    }\n",
       "\n",
       "    .dataframe tbody tr th {\n",
       "        vertical-align: top;\n",
       "    }\n",
       "\n",
       "    .dataframe thead th {\n",
       "        text-align: right;\n",
       "    }\n",
       "</style>\n",
       "<table border=\"1\" class=\"dataframe\">\n",
       "  <thead>\n",
       "    <tr style=\"text-align: right;\">\n",
       "      <th></th>\n",
       "      <th>order_id</th>\n",
       "      <th>customer_id</th>\n",
       "      <th>date</th>\n",
       "      <th>nearest_warehouse</th>\n",
       "      <th>shopping_cart</th>\n",
       "      <th>order_price</th>\n",
       "      <th>delivery_charges</th>\n",
       "      <th>customer_lat</th>\n",
       "      <th>customer_long</th>\n",
       "      <th>delivery_discount</th>\n",
       "      <th>season</th>\n",
       "      <th>is_expedited_delivery</th>\n",
       "      <th>distance_to_nearest_warehouse</th>\n",
       "      <th>latest_customer_review</th>\n",
       "      <th>is_happy_customer</th>\n",
       "    </tr>\n",
       "  </thead>\n",
       "  <tbody>\n",
       "    <tr>\n",
       "      <th>0</th>\n",
       "      <td>ORD041775</td>\n",
       "      <td>ID6167417939</td>\n",
       "      <td>2022-11-25</td>\n",
       "      <td>Nickolson</td>\n",
       "      <td>[('Candle Inferno', 1), ('Universe Note', 1)]</td>\n",
       "      <td>3880</td>\n",
       "      <td>86.081</td>\n",
       "      <td>-37.815047</td>\n",
       "      <td>144.960160</td>\n",
       "      <td>0</td>\n",
       "      <td>Spring</td>\n",
       "      <td>True</td>\n",
       "      <td>0.91546</td>\n",
       "      <td>will not stay on the phone frequently powers o...</td>\n",
       "      <td>False</td>\n",
       "    </tr>\n",
       "    <tr>\n",
       "      <th>1</th>\n",
       "      <td>ORD260731</td>\n",
       "      <td>ID5301568579</td>\n",
       "      <td>2022-03-05</td>\n",
       "      <td>Thompson</td>\n",
       "      <td>[('Toshika 750', 2), ('Olivia x460', 2), ('Uni...</td>\n",
       "      <td>20450</td>\n",
       "      <td>65.126</td>\n",
       "      <td>-37.808675</td>\n",
       "      <td>144.942337</td>\n",
       "      <td>0</td>\n",
       "      <td>Autumn</td>\n",
       "      <td>False</td>\n",
       "      <td>0.60933</td>\n",
       "      <td>four stars i love it</td>\n",
       "      <td>True</td>\n",
       "    </tr>\n",
       "    <tr>\n",
       "      <th>2</th>\n",
       "      <td>ORD483772</td>\n",
       "      <td>ID2400289305</td>\n",
       "      <td>2022-10-25</td>\n",
       "      <td>Bakers</td>\n",
       "      <td>[('pearTV', 1), ('Alcon 10', 1)]</td>\n",
       "      <td>15260</td>\n",
       "      <td>79.578</td>\n",
       "      <td>-37.805594</td>\n",
       "      <td>144.983530</td>\n",
       "      <td>0</td>\n",
       "      <td>Spring</td>\n",
       "      <td>False</td>\n",
       "      <td>1.13994</td>\n",
       "      <td>very nice! everything is working fine. just ha...</td>\n",
       "      <td>True</td>\n",
       "    </tr>\n",
       "    <tr>\n",
       "      <th>3</th>\n",
       "      <td>ORD025148</td>\n",
       "      <td>ID3367904406</td>\n",
       "      <td>2022-09-06</td>\n",
       "      <td>Nickolson</td>\n",
       "      <td>[('iAssist Line', 2), ('Thunder line', 2), ('T...</td>\n",
       "      <td>31030</td>\n",
       "      <td>44.965</td>\n",
       "      <td>-37.812933</td>\n",
       "      <td>144.968077</td>\n",
       "      <td>25</td>\n",
       "      <td>Spring</td>\n",
       "      <td>False</td>\n",
       "      <td>0.64350</td>\n",
       "      <td>waste of money this is not unlocked.. bought t...</td>\n",
       "      <td>False</td>\n",
       "    </tr>\n",
       "    <tr>\n",
       "      <th>4</th>\n",
       "      <td>ORD329595</td>\n",
       "      <td>ID1879216504</td>\n",
       "      <td>2022-06-12</td>\n",
       "      <td>Thompson</td>\n",
       "      <td>[('Toshika 750', 2), ('Universe Note', 1)]</td>\n",
       "      <td>12090</td>\n",
       "      <td>72.967</td>\n",
       "      <td>-37.799616</td>\n",
       "      <td>144.963654</td>\n",
       "      <td>0</td>\n",
       "      <td>Winter</td>\n",
       "      <td>False</td>\n",
       "      <td>2.05922</td>\n",
       "      <td>try everything good</td>\n",
       "      <td>True</td>\n",
       "    </tr>\n",
       "  </tbody>\n",
       "</table>\n",
       "</div>"
      ],
      "text/plain": [
       "    order_id   customer_id        date nearest_warehouse  \\\n",
       "0  ORD041775  ID6167417939  2022-11-25         Nickolson   \n",
       "1  ORD260731  ID5301568579  2022-03-05          Thompson   \n",
       "2  ORD483772  ID2400289305  2022-10-25            Bakers   \n",
       "3  ORD025148  ID3367904406  2022-09-06         Nickolson   \n",
       "4  ORD329595  ID1879216504  2022-06-12          Thompson   \n",
       "\n",
       "                                       shopping_cart  order_price  \\\n",
       "0      [('Candle Inferno', 1), ('Universe Note', 1)]         3880   \n",
       "1  [('Toshika 750', 2), ('Olivia x460', 2), ('Uni...        20450   \n",
       "2                   [('pearTV', 1), ('Alcon 10', 1)]        15260   \n",
       "3  [('iAssist Line', 2), ('Thunder line', 2), ('T...        31030   \n",
       "4         [('Toshika 750', 2), ('Universe Note', 1)]        12090   \n",
       "\n",
       "   delivery_charges  customer_lat  customer_long  delivery_discount  season  \\\n",
       "0            86.081    -37.815047     144.960160                  0  Spring   \n",
       "1            65.126    -37.808675     144.942337                  0  Autumn   \n",
       "2            79.578    -37.805594     144.983530                  0  Spring   \n",
       "3            44.965    -37.812933     144.968077                 25  Spring   \n",
       "4            72.967    -37.799616     144.963654                  0  Winter   \n",
       "\n",
       "   is_expedited_delivery  distance_to_nearest_warehouse  \\\n",
       "0                   True                        0.91546   \n",
       "1                  False                        0.60933   \n",
       "2                  False                        1.13994   \n",
       "3                  False                        0.64350   \n",
       "4                  False                        2.05922   \n",
       "\n",
       "                              latest_customer_review  is_happy_customer  \n",
       "0  will not stay on the phone frequently powers o...              False  \n",
       "1                               four stars i love it               True  \n",
       "2  very nice! everything is working fine. just ha...               True  \n",
       "3  waste of money this is not unlocked.. bought t...              False  \n",
       "4                                try everything good               True  "
      ]
     },
     "execution_count": 65,
     "metadata": {},
     "output_type": "execute_result"
    }
   ],
   "source": [
    "outlier_data.head()"
   ]
  },
  {
   "cell_type": "code",
   "execution_count": 66,
   "id": "d44ad373",
   "metadata": {},
   "outputs": [],
   "source": [
    "# export to csv\n",
    "outlier_data.to_csv(\"./32776705_outlier_data_solution.csv\")"
   ]
  },
  {
   "cell_type": "markdown",
   "id": "088dbdc7",
   "metadata": {},
   "source": [
    "<div class=\"alert alert-block alert-success\">\n",
    "    \n",
    "## 5.  Dirty Data  <a class=\"anchor\" name=\"dirty\"></a>"
   ]
  },
  {
   "cell_type": "code",
   "execution_count": 67,
   "id": "68f67f37",
   "metadata": {},
   "outputs": [
    {
     "data": {
      "text/plain": [
       "(500, 15)"
      ]
     },
     "execution_count": 67,
     "metadata": {},
     "output_type": "execute_result"
    }
   ],
   "source": [
    "# loading dirty data files\n",
    "dirty_data = pd.read_csv(\"./32776705_dirty_data.csv\")\n",
    "dirty_data.shape"
   ]
  },
  {
   "cell_type": "markdown",
   "id": "570e6177",
   "metadata": {},
   "source": [
    "dirty_data datframe has 500 records and 15 columns. That means we have 500 orders to tackle..  \n",
    "Before digging into cleaning the data, we will create a new column, to counter the changes made in each row. Since every row can only have 0 or 1 error, its important for us to keep a track of all the changes made!"
   ]
  },
  {
   "cell_type": "code",
   "execution_count": 68,
   "id": "1c667a31",
   "metadata": {},
   "outputs": [
    {
     "data": {
      "text/html": [
       "<div>\n",
       "<style scoped>\n",
       "    .dataframe tbody tr th:only-of-type {\n",
       "        vertical-align: middle;\n",
       "    }\n",
       "\n",
       "    .dataframe tbody tr th {\n",
       "        vertical-align: top;\n",
       "    }\n",
       "\n",
       "    .dataframe thead th {\n",
       "        text-align: right;\n",
       "    }\n",
       "</style>\n",
       "<table border=\"1\" class=\"dataframe\">\n",
       "  <thead>\n",
       "    <tr style=\"text-align: right;\">\n",
       "      <th></th>\n",
       "      <th>order_id</th>\n",
       "      <th>customer_id</th>\n",
       "      <th>date</th>\n",
       "      <th>nearest_warehouse</th>\n",
       "      <th>shopping_cart</th>\n",
       "      <th>order_price</th>\n",
       "      <th>delivery_charges</th>\n",
       "      <th>customer_lat</th>\n",
       "      <th>customer_long</th>\n",
       "      <th>delivery_discount</th>\n",
       "      <th>season</th>\n",
       "      <th>is_expedited_delivery</th>\n",
       "      <th>distance_to_nearest_warehouse</th>\n",
       "      <th>latest_customer_review</th>\n",
       "      <th>is_happy_customer</th>\n",
       "      <th>counter</th>\n",
       "    </tr>\n",
       "  </thead>\n",
       "  <tbody>\n",
       "    <tr>\n",
       "      <th>0</th>\n",
       "      <td>ORD253098</td>\n",
       "      <td>ID5402876198</td>\n",
       "      <td>2022-04-16</td>\n",
       "      <td>Nickolson</td>\n",
       "      <td>[('Alcon 10', 1), ('Lucent 330S', 1)]</td>\n",
       "      <td>10180</td>\n",
       "      <td>64.923</td>\n",
       "      <td>-37.820339</td>\n",
       "      <td>144.977384</td>\n",
       "      <td>0</td>\n",
       "      <td>Autumn</td>\n",
       "      <td>False</td>\n",
       "      <td>0.71561</td>\n",
       "      <td>five stars exactly as promised.</td>\n",
       "      <td>True</td>\n",
       "      <td>0</td>\n",
       "    </tr>\n",
       "    <tr>\n",
       "      <th>1</th>\n",
       "      <td>ORD203248</td>\n",
       "      <td>ID2489014343</td>\n",
       "      <td>2022-01-31</td>\n",
       "      <td>Bakers</td>\n",
       "      <td>[('Alcon 10', 2), ('Toshika 750', 1)]</td>\n",
       "      <td>22220</td>\n",
       "      <td>78.700</td>\n",
       "      <td>-37.798490</td>\n",
       "      <td>144.977975</td>\n",
       "      <td>25</td>\n",
       "      <td>Summer</td>\n",
       "      <td>True</td>\n",
       "      <td>1.98599</td>\n",
       "      <td>great phone for me, this was the best phone. t...</td>\n",
       "      <td>True</td>\n",
       "      <td>0</td>\n",
       "    </tr>\n",
       "    <tr>\n",
       "      <th>2</th>\n",
       "      <td>ORD125848</td>\n",
       "      <td>ID1542137496</td>\n",
       "      <td>2022-09-19</td>\n",
       "      <td>Nickolson</td>\n",
       "      <td>[('Candle Inferno', 1), ('Olivia x460', 1)]</td>\n",
       "      <td>1655</td>\n",
       "      <td>85.577</td>\n",
       "      <td>-37.814861</td>\n",
       "      <td>144.962550</td>\n",
       "      <td>0</td>\n",
       "      <td>Spring</td>\n",
       "      <td>True</td>\n",
       "      <td>0.74286</td>\n",
       "      <td>one star bought as new but received a refurbed...</td>\n",
       "      <td>False</td>\n",
       "      <td>0</td>\n",
       "    </tr>\n",
       "    <tr>\n",
       "      <th>3</th>\n",
       "      <td>ORD465604</td>\n",
       "      <td>ID2384091383</td>\n",
       "      <td>2022-02-09</td>\n",
       "      <td>Nickolson</td>\n",
       "      <td>[('Olivia x460', 1), ('pearTV', 2), ('iStream'...</td>\n",
       "      <td>16370</td>\n",
       "      <td>47.208</td>\n",
       "      <td>-37.807935</td>\n",
       "      <td>144.973029</td>\n",
       "      <td>25</td>\n",
       "      <td>Summer</td>\n",
       "      <td>False</td>\n",
       "      <td>1.22539</td>\n",
       "      <td>the earlier models were so simple to use. no n...</td>\n",
       "      <td>False</td>\n",
       "      <td>0</td>\n",
       "    </tr>\n",
       "    <tr>\n",
       "      <th>4</th>\n",
       "      <td>ORD160311</td>\n",
       "      <td>ID5232347245</td>\n",
       "      <td>2022-11-26</td>\n",
       "      <td>Thompson</td>\n",
       "      <td>[('Candle Inferno', 2), ('Toshika 750', 1), ('...</td>\n",
       "      <td>17800</td>\n",
       "      <td>97.776</td>\n",
       "      <td>-37.811732</td>\n",
       "      <td>144.948340</td>\n",
       "      <td>0</td>\n",
       "      <td>Spring</td>\n",
       "      <td>True</td>\n",
       "      <td>0.15321</td>\n",
       "      <td>NaN</td>\n",
       "      <td>True</td>\n",
       "      <td>0</td>\n",
       "    </tr>\n",
       "  </tbody>\n",
       "</table>\n",
       "</div>"
      ],
      "text/plain": [
       "    order_id   customer_id        date nearest_warehouse  \\\n",
       "0  ORD253098  ID5402876198  2022-04-16         Nickolson   \n",
       "1  ORD203248  ID2489014343  2022-01-31            Bakers   \n",
       "2  ORD125848  ID1542137496  2022-09-19         Nickolson   \n",
       "3  ORD465604  ID2384091383  2022-02-09         Nickolson   \n",
       "4  ORD160311  ID5232347245  2022-11-26          Thompson   \n",
       "\n",
       "                                       shopping_cart  order_price  \\\n",
       "0              [('Alcon 10', 1), ('Lucent 330S', 1)]        10180   \n",
       "1              [('Alcon 10', 2), ('Toshika 750', 1)]        22220   \n",
       "2        [('Candle Inferno', 1), ('Olivia x460', 1)]         1655   \n",
       "3  [('Olivia x460', 1), ('pearTV', 2), ('iStream'...        16370   \n",
       "4  [('Candle Inferno', 2), ('Toshika 750', 1), ('...        17800   \n",
       "\n",
       "   delivery_charges  customer_lat  customer_long  delivery_discount  season  \\\n",
       "0            64.923    -37.820339     144.977384                  0  Autumn   \n",
       "1            78.700    -37.798490     144.977975                 25  Summer   \n",
       "2            85.577    -37.814861     144.962550                  0  Spring   \n",
       "3            47.208    -37.807935     144.973029                 25  Summer   \n",
       "4            97.776    -37.811732     144.948340                  0  Spring   \n",
       "\n",
       "   is_expedited_delivery  distance_to_nearest_warehouse  \\\n",
       "0                  False                        0.71561   \n",
       "1                   True                        1.98599   \n",
       "2                   True                        0.74286   \n",
       "3                  False                        1.22539   \n",
       "4                   True                        0.15321   \n",
       "\n",
       "                              latest_customer_review  is_happy_customer  \\\n",
       "0                    five stars exactly as promised.               True   \n",
       "1  great phone for me, this was the best phone. t...               True   \n",
       "2  one star bought as new but received a refurbed...              False   \n",
       "3  the earlier models were so simple to use. no n...              False   \n",
       "4                                                NaN               True   \n",
       "\n",
       "   counter  \n",
       "0        0  \n",
       "1        0  \n",
       "2        0  \n",
       "3        0  \n",
       "4        0  "
      ]
     },
     "execution_count": 68,
     "metadata": {},
     "output_type": "execute_result"
    }
   ],
   "source": [
    "dirty_data['counter'] = 0\n",
    "dirty_data.head()"
   ]
  },
  {
   "cell_type": "markdown",
   "id": "6565d1f0",
   "metadata": {},
   "source": [
    "Lets look at the date column, we can see record 498 shows date 2022-25-12,since our dates should be in YYYY-MM-DD format, 25 as a month number doesnt make sense. Lets rectify this!"
   ]
  },
  {
   "cell_type": "markdown",
   "id": "2310e8f0",
   "metadata": {},
   "source": [
    "<div class=\"alert alert-block alert-warning\">\n",
    "    \n",
    "### 5.1. Date Handling <a class=\"anchor\" name=\"date\"></a>"
   ]
  },
  {
   "cell_type": "code",
   "execution_count": 69,
   "id": "fb913dc8",
   "metadata": {},
   "outputs": [
    {
     "data": {
      "text/html": [
       "<div>\n",
       "<style scoped>\n",
       "    .dataframe tbody tr th:only-of-type {\n",
       "        vertical-align: middle;\n",
       "    }\n",
       "\n",
       "    .dataframe tbody tr th {\n",
       "        vertical-align: top;\n",
       "    }\n",
       "\n",
       "    .dataframe thead th {\n",
       "        text-align: right;\n",
       "    }\n",
       "</style>\n",
       "<table border=\"1\" class=\"dataframe\">\n",
       "  <thead>\n",
       "    <tr style=\"text-align: right;\">\n",
       "      <th></th>\n",
       "      <th>date</th>\n",
       "      <th>correct_format</th>\n",
       "    </tr>\n",
       "  </thead>\n",
       "  <tbody>\n",
       "    <tr>\n",
       "      <th>0</th>\n",
       "      <td>2022-04-16</td>\n",
       "      <td>2022-04-16</td>\n",
       "    </tr>\n",
       "    <tr>\n",
       "      <th>1</th>\n",
       "      <td>2022-01-31</td>\n",
       "      <td>2022-01-31</td>\n",
       "    </tr>\n",
       "    <tr>\n",
       "      <th>2</th>\n",
       "      <td>2022-09-19</td>\n",
       "      <td>2022-09-19</td>\n",
       "    </tr>\n",
       "    <tr>\n",
       "      <th>3</th>\n",
       "      <td>2022-02-09</td>\n",
       "      <td>2022-02-09</td>\n",
       "    </tr>\n",
       "    <tr>\n",
       "      <th>4</th>\n",
       "      <td>2022-11-26</td>\n",
       "      <td>2022-11-26</td>\n",
       "    </tr>\n",
       "    <tr>\n",
       "      <th>...</th>\n",
       "      <td>...</td>\n",
       "      <td>...</td>\n",
       "    </tr>\n",
       "    <tr>\n",
       "      <th>495</th>\n",
       "      <td>2022-03-05</td>\n",
       "      <td>2022-03-05</td>\n",
       "    </tr>\n",
       "    <tr>\n",
       "      <th>496</th>\n",
       "      <td>2022-06-19</td>\n",
       "      <td>2022-06-19</td>\n",
       "    </tr>\n",
       "    <tr>\n",
       "      <th>497</th>\n",
       "      <td>2022-06-22</td>\n",
       "      <td>2022-06-22</td>\n",
       "    </tr>\n",
       "    <tr>\n",
       "      <th>498</th>\n",
       "      <td>2022-25-12</td>\n",
       "      <td>NaT</td>\n",
       "    </tr>\n",
       "    <tr>\n",
       "      <th>499</th>\n",
       "      <td>2022-12-15</td>\n",
       "      <td>2022-12-15</td>\n",
       "    </tr>\n",
       "  </tbody>\n",
       "</table>\n",
       "<p>500 rows × 2 columns</p>\n",
       "</div>"
      ],
      "text/plain": [
       "           date correct_format\n",
       "0    2022-04-16     2022-04-16\n",
       "1    2022-01-31     2022-01-31\n",
       "2    2022-09-19     2022-09-19\n",
       "3    2022-02-09     2022-02-09\n",
       "4    2022-11-26     2022-11-26\n",
       "..          ...            ...\n",
       "495  2022-03-05     2022-03-05\n",
       "496  2022-06-19     2022-06-19\n",
       "497  2022-06-22     2022-06-22\n",
       "498  2022-25-12            NaT\n",
       "499  2022-12-15     2022-12-15\n",
       "\n",
       "[500 rows x 2 columns]"
      ]
     },
     "execution_count": 69,
     "metadata": {},
     "output_type": "execute_result"
    }
   ],
   "source": [
    "# creating a new datframe\n",
    "date_handle = pd.DataFrame(dirty_data['date'])\n",
    "date_handle['correct_format'] = pd.to_datetime(date_handle['date'], errors='coerce',format = \"%Y-%m-%d\")\n",
    "date_handle"
   ]
  },
  {
   "cell_type": "code",
   "execution_count": 70,
   "id": "229f5b0b",
   "metadata": {},
   "outputs": [
    {
     "data": {
      "text/html": [
       "<div>\n",
       "<style scoped>\n",
       "    .dataframe tbody tr th:only-of-type {\n",
       "        vertical-align: middle;\n",
       "    }\n",
       "\n",
       "    .dataframe tbody tr th {\n",
       "        vertical-align: top;\n",
       "    }\n",
       "\n",
       "    .dataframe thead th {\n",
       "        text-align: right;\n",
       "    }\n",
       "</style>\n",
       "<table border=\"1\" class=\"dataframe\">\n",
       "  <thead>\n",
       "    <tr style=\"text-align: right;\">\n",
       "      <th></th>\n",
       "      <th>date</th>\n",
       "      <th>correct_format</th>\n",
       "    </tr>\n",
       "  </thead>\n",
       "  <tbody>\n",
       "    <tr>\n",
       "      <th>87</th>\n",
       "      <td>2022-16-03</td>\n",
       "      <td>NaT</td>\n",
       "    </tr>\n",
       "    <tr>\n",
       "      <th>186</th>\n",
       "      <td>2022-Sep-08</td>\n",
       "      <td>NaT</td>\n",
       "    </tr>\n",
       "    <tr>\n",
       "      <th>216</th>\n",
       "      <td>2022-17-09</td>\n",
       "      <td>NaT</td>\n",
       "    </tr>\n",
       "    <tr>\n",
       "      <th>245</th>\n",
       "      <td>Tue Jul 12 00:00:00 2022</td>\n",
       "      <td>NaT</td>\n",
       "    </tr>\n",
       "    <tr>\n",
       "      <th>348</th>\n",
       "      <td>2022-18-08</td>\n",
       "      <td>NaT</td>\n",
       "    </tr>\n",
       "    <tr>\n",
       "      <th>472</th>\n",
       "      <td>2022-23-09</td>\n",
       "      <td>NaT</td>\n",
       "    </tr>\n",
       "    <tr>\n",
       "      <th>485</th>\n",
       "      <td>Wed Oct 12 00:00:00 2022</td>\n",
       "      <td>NaT</td>\n",
       "    </tr>\n",
       "    <tr>\n",
       "      <th>489</th>\n",
       "      <td>2022-16-06</td>\n",
       "      <td>NaT</td>\n",
       "    </tr>\n",
       "    <tr>\n",
       "      <th>498</th>\n",
       "      <td>2022-25-12</td>\n",
       "      <td>NaT</td>\n",
       "    </tr>\n",
       "  </tbody>\n",
       "</table>\n",
       "</div>"
      ],
      "text/plain": [
       "                         date correct_format\n",
       "87                 2022-16-03            NaT\n",
       "186               2022-Sep-08            NaT\n",
       "216                2022-17-09            NaT\n",
       "245  Tue Jul 12 00:00:00 2022            NaT\n",
       "348                2022-18-08            NaT\n",
       "472                2022-23-09            NaT\n",
       "485  Wed Oct 12 00:00:00 2022            NaT\n",
       "489                2022-16-06            NaT\n",
       "498                2022-25-12            NaT"
      ]
     },
     "execution_count": 70,
     "metadata": {},
     "output_type": "execute_result"
    }
   ],
   "source": [
    "# extracting null values -> records that dont match given format\n",
    "filter = date_handle['correct_format'].isnull() == True\n",
    "invalid_dates = date_handle[filter]\n",
    "invalid_dates"
   ]
  },
  {
   "cell_type": "markdown",
   "id": "69255af3",
   "metadata": {},
   "source": [
    "Now, we can see that there are 3 different formats other than the one requried!   \n",
    "We created a new dataframe invalid_dates, for dates in the wong format. In the following steps we will correct their format and change the counter values. "
   ]
  },
  {
   "cell_type": "code",
   "execution_count": 71,
   "id": "65b16374",
   "metadata": {},
   "outputs": [],
   "source": [
    "def extract_date(df, date_format):\n",
    "    '''\n",
    "    This functions takes in a datframe and changes the values in date column to %Y-%m-%d format\n",
    "        Input parameters: \n",
    "            df: A pandas Dataframe\n",
    "            date_format: format in which the dates are in the \n",
    "            given df.\n",
    "\n",
    "        Outputs:\n",
    "            A dataframe with 2 columns, both have different date formats.\n",
    "    \n",
    "    '''\n",
    "    \n",
    "    # creating a temporary dataframe to make changes\n",
    "    temp_df = df.copy()\n",
    "    temp_df['correct_format'] = pd.to_datetime(temp_df['date'], errors='coerce',format = date_format)\n",
    "    filter = temp_df['correct_format'].isnull() == False\n",
    "    #strftime o/ps a string- changing the format for the dates \n",
    "    temp_df['correct_format'] = pd.to_datetime(temp_df['date'], errors='coerce', format=date_format).dt.strftime(\"%Y-%m-%d\")\n",
    "\n",
    "    return temp_df[filter]\n",
    "            \n"
   ]
  },
  {
   "cell_type": "code",
   "execution_count": 72,
   "id": "d5412739",
   "metadata": {},
   "outputs": [
    {
     "data": {
      "text/html": [
       "<div>\n",
       "<style scoped>\n",
       "    .dataframe tbody tr th:only-of-type {\n",
       "        vertical-align: middle;\n",
       "    }\n",
       "\n",
       "    .dataframe tbody tr th {\n",
       "        vertical-align: top;\n",
       "    }\n",
       "\n",
       "    .dataframe thead th {\n",
       "        text-align: right;\n",
       "    }\n",
       "</style>\n",
       "<table border=\"1\" class=\"dataframe\">\n",
       "  <thead>\n",
       "    <tr style=\"text-align: right;\">\n",
       "      <th></th>\n",
       "      <th>date</th>\n",
       "      <th>correct_format</th>\n",
       "    </tr>\n",
       "  </thead>\n",
       "  <tbody>\n",
       "    <tr>\n",
       "      <th>87</th>\n",
       "      <td>2022-16-03</td>\n",
       "      <td>2022-03-16</td>\n",
       "    </tr>\n",
       "    <tr>\n",
       "      <th>216</th>\n",
       "      <td>2022-17-09</td>\n",
       "      <td>2022-09-17</td>\n",
       "    </tr>\n",
       "    <tr>\n",
       "      <th>348</th>\n",
       "      <td>2022-18-08</td>\n",
       "      <td>2022-08-18</td>\n",
       "    </tr>\n",
       "    <tr>\n",
       "      <th>472</th>\n",
       "      <td>2022-23-09</td>\n",
       "      <td>2022-09-23</td>\n",
       "    </tr>\n",
       "    <tr>\n",
       "      <th>489</th>\n",
       "      <td>2022-16-06</td>\n",
       "      <td>2022-06-16</td>\n",
       "    </tr>\n",
       "    <tr>\n",
       "      <th>498</th>\n",
       "      <td>2022-25-12</td>\n",
       "      <td>2022-12-25</td>\n",
       "    </tr>\n",
       "  </tbody>\n",
       "</table>\n",
       "</div>"
      ],
      "text/plain": [
       "           date correct_format\n",
       "87   2022-16-03     2022-03-16\n",
       "216  2022-17-09     2022-09-17\n",
       "348  2022-18-08     2022-08-18\n",
       "472  2022-23-09     2022-09-23\n",
       "489  2022-16-06     2022-06-16\n",
       "498  2022-25-12     2022-12-25"
      ]
     },
     "execution_count": 72,
     "metadata": {},
     "output_type": "execute_result"
    }
   ],
   "source": [
    "wrong_format1 = extract_date(invalid_dates,\"%Y-%d-%m\" )\n",
    "wrong_format1"
   ]
  },
  {
   "cell_type": "code",
   "execution_count": 73,
   "id": "ce5c1660",
   "metadata": {},
   "outputs": [
    {
     "data": {
      "text/plain": [
       "[87, 216, 348, 472, 489, 498]"
      ]
     },
     "execution_count": 73,
     "metadata": {},
     "output_type": "execute_result"
    }
   ],
   "source": [
    "# getting the index of wrongly formatted dates\n",
    "wrong_format1_idx= list(wrong_format1.index)\n",
    "wrong_format1_idx"
   ]
  },
  {
   "cell_type": "code",
   "execution_count": 74,
   "id": "9d66b353",
   "metadata": {},
   "outputs": [
    {
     "data": {
      "text/html": [
       "<div>\n",
       "<style scoped>\n",
       "    .dataframe tbody tr th:only-of-type {\n",
       "        vertical-align: middle;\n",
       "    }\n",
       "\n",
       "    .dataframe tbody tr th {\n",
       "        vertical-align: top;\n",
       "    }\n",
       "\n",
       "    .dataframe thead th {\n",
       "        text-align: right;\n",
       "    }\n",
       "</style>\n",
       "<table border=\"1\" class=\"dataframe\">\n",
       "  <thead>\n",
       "    <tr style=\"text-align: right;\">\n",
       "      <th></th>\n",
       "      <th>date</th>\n",
       "      <th>correct_format</th>\n",
       "    </tr>\n",
       "  </thead>\n",
       "  <tbody>\n",
       "    <tr>\n",
       "      <th>245</th>\n",
       "      <td>Tue Jul 12 00:00:00 2022</td>\n",
       "      <td>2022-07-12</td>\n",
       "    </tr>\n",
       "    <tr>\n",
       "      <th>485</th>\n",
       "      <td>Wed Oct 12 00:00:00 2022</td>\n",
       "      <td>2022-10-12</td>\n",
       "    </tr>\n",
       "  </tbody>\n",
       "</table>\n",
       "</div>"
      ],
      "text/plain": [
       "                         date correct_format\n",
       "245  Tue Jul 12 00:00:00 2022     2022-07-12\n",
       "485  Wed Oct 12 00:00:00 2022     2022-10-12"
      ]
     },
     "execution_count": 74,
     "metadata": {},
     "output_type": "execute_result"
    }
   ],
   "source": [
    "wrong_format2 = extract_date(invalid_dates,'%c')\n",
    "wrong_format2"
   ]
  },
  {
   "cell_type": "code",
   "execution_count": 75,
   "id": "a9b6d4d7",
   "metadata": {},
   "outputs": [
    {
     "data": {
      "text/plain": [
       "[245, 485]"
      ]
     },
     "execution_count": 75,
     "metadata": {},
     "output_type": "execute_result"
    }
   ],
   "source": [
    "# getting the index of wrongly formatted dates\n",
    "wrong_format2_idx = list(wrong_format2.index)\n",
    "wrong_format2_idx"
   ]
  },
  {
   "cell_type": "code",
   "execution_count": 76,
   "id": "4ddb79fa",
   "metadata": {
    "scrolled": true
   },
   "outputs": [
    {
     "data": {
      "text/html": [
       "<div>\n",
       "<style scoped>\n",
       "    .dataframe tbody tr th:only-of-type {\n",
       "        vertical-align: middle;\n",
       "    }\n",
       "\n",
       "    .dataframe tbody tr th {\n",
       "        vertical-align: top;\n",
       "    }\n",
       "\n",
       "    .dataframe thead th {\n",
       "        text-align: right;\n",
       "    }\n",
       "</style>\n",
       "<table border=\"1\" class=\"dataframe\">\n",
       "  <thead>\n",
       "    <tr style=\"text-align: right;\">\n",
       "      <th></th>\n",
       "      <th>date</th>\n",
       "      <th>correct_format</th>\n",
       "    </tr>\n",
       "  </thead>\n",
       "  <tbody>\n",
       "    <tr>\n",
       "      <th>186</th>\n",
       "      <td>2022-Sep-08</td>\n",
       "      <td>2022-09-08</td>\n",
       "    </tr>\n",
       "  </tbody>\n",
       "</table>\n",
       "</div>"
      ],
      "text/plain": [
       "            date correct_format\n",
       "186  2022-Sep-08     2022-09-08"
      ]
     },
     "execution_count": 76,
     "metadata": {},
     "output_type": "execute_result"
    }
   ],
   "source": [
    "wrong_format3 = extract_date(invalid_dates,\"%Y-%b-%d\")\n",
    "wrong_format3"
   ]
  },
  {
   "cell_type": "code",
   "execution_count": 77,
   "id": "c7e46a83",
   "metadata": {},
   "outputs": [
    {
     "data": {
      "text/plain": [
       "[186]"
      ]
     },
     "execution_count": 77,
     "metadata": {},
     "output_type": "execute_result"
    }
   ],
   "source": [
    "# getting the index of wrongly formatted dates\n",
    "wrong_format3_idx = list(wrong_format3.index)\n",
    "wrong_format3_idx"
   ]
  },
  {
   "cell_type": "code",
   "execution_count": 78,
   "id": "29b3251a",
   "metadata": {},
   "outputs": [
    {
     "data": {
      "text/plain": [
       "'Wed Oct 12 00:00:00 2022'"
      ]
     },
     "execution_count": 78,
     "metadata": {},
     "output_type": "execute_result"
    }
   ],
   "source": [
    "dirty_data.loc[485, 'date']"
   ]
  },
  {
   "cell_type": "code",
   "execution_count": 79,
   "id": "4450138e",
   "metadata": {},
   "outputs": [],
   "source": [
    "def correcting_dates(actual_df, ref_df, idx_list):\n",
    "    '''\n",
    "    Input Parameter:\n",
    "        actual_df: A pandas Dataframe (with date, counter columns)\n",
    "        ref_df: A Pandas Dataframe\n",
    "        idx_list: A python list\n",
    "        \n",
    "    output:\n",
    "        Returns a Pandas dataframe with updates date and counter column.\n",
    "    '''\n",
    "    # actual_df should have date and counter column \n",
    "    # REF DFSHOULD have correct format column \n",
    "    \n",
    "    for idx in idx_list:\n",
    "        actual_df.loc[idx, 'date'] = ref_df.loc[idx, 'correct_format']\n",
    "        actual_df.loc[idx, 'counter'] += 1\n",
    "        \n",
    "    return actual_df"
   ]
  },
  {
   "cell_type": "code",
   "execution_count": 80,
   "id": "54d6ab8c",
   "metadata": {},
   "outputs": [],
   "source": [
    "dirty_data2 = correcting_dates(dirty_data, wrong_format1, wrong_format1_idx)\n",
    "dirty_data3 = correcting_dates(dirty_data2, wrong_format2, wrong_format2_idx)\n",
    "dirty_data_dates = correcting_dates(dirty_data3, wrong_format3, wrong_format3_idx)"
   ]
  },
  {
   "attachments": {
    "Screenshot%202023-05-12%20at%2011.09.35%20PM.png": {
     "image/png": "[encoded data removed]"
    }
   },
   "cell_type": "markdown",
   "id": "1f2dfc3a",
   "metadata": {},
   "source": [
    "We can see an example, following is a date in its original format: \n",
    "\n",
    "<div>\n",
    "<img src=\"attachment:Screenshot%202023-05-12%20at%2011.09.35%20PM.png\" width=\"360\"/>\n",
    "</div>\n",
    "\n"
   ]
  },
  {
   "attachments": {
    "Screenshot%202023-05-12%20at%2011.10.54%20PM.png": {
     "image/png": "[encoded data removed]"
    }
   },
   "cell_type": "markdown",
   "id": "ebc5fe8e",
   "metadata": {},
   "source": [
    "Date has been changed to the right format :\n",
    "<div>\n",
    "<img src=\"attachment:Screenshot%202023-05-12%20at%2011.10.54%20PM.png\" width=\"360\"/>\n",
    "</div>\n"
   ]
  },
  {
   "cell_type": "code",
   "execution_count": 81,
   "id": "77547567",
   "metadata": {
    "scrolled": true
   },
   "outputs": [
    {
     "data": {
      "text/plain": [
       "0    491\n",
       "1      9\n",
       "Name: counter, dtype: int64"
      ]
     },
     "execution_count": 81,
     "metadata": {},
     "output_type": "execute_result"
    }
   ],
   "source": [
    "# We made changes in 9 rows \n",
    "dirty_data_dates['counter'].value_counts()"
   ]
  },
  {
   "cell_type": "code",
   "execution_count": 82,
   "id": "30b7f3fe",
   "metadata": {},
   "outputs": [],
   "source": [
    "# changing names, for the ease of coding\n",
    "dirty_data = dirty_data_dates"
   ]
  },
  {
   "cell_type": "markdown",
   "id": "d8eb80ef",
   "metadata": {},
   "source": [
    "<div class=\"alert alert-block alert-warning\">\n",
    "    \n",
    "### 5.2. Seasons <a class=\"anchor\" name=\"season\"></a>"
   ]
  },
  {
   "cell_type": "markdown",
   "id": "3d9779a6",
   "metadata": {},
   "source": [
    "We Know that their are 4 seasons in Nature, Summer, Autumn, Winter and Spring.. We will check if their is any anomalous season in our data.."
   ]
  },
  {
   "cell_type": "code",
   "execution_count": 83,
   "id": "148bc06d",
   "metadata": {},
   "outputs": [
    {
     "data": {
      "text/plain": [
       "Autumn    133\n",
       "Winter    127\n",
       "Summer    120\n",
       "Spring    113\n",
       "winter      4\n",
       "summer      2\n",
       "spring      1\n",
       "Name: season, dtype: int64"
      ]
     },
     "execution_count": 83,
     "metadata": {},
     "output_type": "execute_result"
    }
   ],
   "source": [
    "dirty_copy = dirty_data.copy()\n",
    "dirty_data['season'].value_counts()"
   ]
  },
  {
   "cell_type": "markdown",
   "id": "c84f059e",
   "metadata": {},
   "source": [
    "From above we can see that their are 4 seasons, just in different casing. We will be capitalizing all the season entries to maintain consitency."
   ]
  },
  {
   "cell_type": "code",
   "execution_count": 84,
   "id": "cfa8f9b4",
   "metadata": {},
   "outputs": [
    {
     "data": {
      "text/plain": [
       "Autumn    133\n",
       "Winter    131\n",
       "Summer    122\n",
       "Spring    114\n",
       "Name: season, dtype: int64"
      ]
     },
     "execution_count": 84,
     "metadata": {},
     "output_type": "execute_result"
    }
   ],
   "source": [
    "dirty_data['season'] = dirty_data['season'].apply(lambda x : x.capitalize())\n",
    "dirty_data['season'].value_counts()"
   ]
  },
  {
   "cell_type": "markdown",
   "id": "ca81916c",
   "metadata": {},
   "source": [
    "From above we can see that season column has been recitified, lets change the counter column to refelct these changes..."
   ]
  },
  {
   "cell_type": "code",
   "execution_count": 85,
   "id": "778f3044",
   "metadata": {},
   "outputs": [
    {
     "data": {
      "text/plain": [
       "[19, 41, 155, 240, 246, 260, 359]"
      ]
     },
     "execution_count": 85,
     "metadata": {},
     "output_type": "execute_result"
    }
   ],
   "source": [
    "# getting index for dirty season records\n",
    "idx_list_season = [idx for idx, i in enumerate(dirty_copy['season']) if i not in list(dirty_data['season'])]\n",
    "idx_list_season"
   ]
  },
  {
   "cell_type": "code",
   "execution_count": 86,
   "id": "59a8559f",
   "metadata": {},
   "outputs": [],
   "source": [
    "# changing counter\n",
    "for idx in idx_list_season:\n",
    "    dirty_data.loc[idx, 'counter'] += 1"
   ]
  },
  {
   "cell_type": "code",
   "execution_count": 87,
   "id": "ece0e34a",
   "metadata": {},
   "outputs": [
    {
     "data": {
      "text/plain": [
       "0    484\n",
       "1     16\n",
       "Name: counter, dtype: int64"
      ]
     },
     "execution_count": 87,
     "metadata": {},
     "output_type": "execute_result"
    }
   ],
   "source": [
    "dirty_data['counter'].value_counts()"
   ]
  },
  {
   "cell_type": "markdown",
   "id": "6b7877d0",
   "metadata": {},
   "source": [
    "From the above we can assure that we have rectified 16 records."
   ]
  },
  {
   "cell_type": "markdown",
   "id": "b029ac67",
   "metadata": {},
   "source": [
    "<div class=\"alert alert-block alert-warning\">\n",
    "    \n",
    "### 5.3. Customer Location <a class=\"anchor\" name=\"cust_loc\"></a>"
   ]
  },
  {
   "cell_type": "code",
   "execution_count": 88,
   "id": "922dbbca",
   "metadata": {},
   "outputs": [],
   "source": [
    "# creating another dataframe for resolving latitude, longitude issue.\n",
    "loc_df = dirty_data.copy()"
   ]
  },
  {
   "cell_type": "code",
   "execution_count": 89,
   "id": "b121fc05",
   "metadata": {},
   "outputs": [
    {
     "data": {
      "image/png": "[encoded data removed]",
      "text/plain": [
       "<Figure size 900x700 with 1 Axes>"
      ]
     },
     "metadata": {},
     "output_type": "display_data"
    }
   ],
   "source": [
    "# Reading world map data\n",
    "world = gpd.read_file(gpd.datasets.get_path('naturalearth_lowres'))\n",
    "\n",
    "# Creating a new Datafrme which only contains Australia\n",
    "australia = world[world.name == 'Australia']\n",
    "\n",
    "# .values[0] notation is used to extract this geometry object from the pandas Series object.\n",
    "australia_boundary = australia.geometry.values[0]\n",
    "\n",
    "# Creating a dataframe from customater geolocations \n",
    "df_geo = gpd.GeoDataFrame(loc_df, geometry = gpd.points_from_xy(loc_df.customer_long,loc_df.customer_lat))\n",
    "\n",
    "# creating a dataframe with customer locations outside Australia \n",
    "outside_australia = ~df_geo.within(australia_boundary)\n",
    "\n",
    "\n",
    "# Plotting world map\n",
    "ax = world.plot(color='seagreen')\n",
    "df_geo[~outside_australia].plot(ax=ax, color='black')  # Plot only the points within Australia\n",
    "df_geo[outside_australia].plot(ax=ax, color='red', marker='x', markersize=50)  # Plot the points outside Australia\n",
    "\n",
    "# Setting the title, figure size\n",
    "plt.title('WORLD MAP')\n",
    "fig = plt.gcf()\n",
    "fig.set_size_inches(9, 7)\n",
    "\n",
    "# Show the plot\n",
    "plt.show()\n"
   ]
  },
  {
   "cell_type": "markdown",
   "id": "813fc17e",
   "metadata": {},
   "source": [
    "From the above plot we can see that there is some anomalies in Customer location as this business only caters to people living in Australia."
   ]
  },
  {
   "cell_type": "code",
   "execution_count": 90,
   "id": "2ba47fca",
   "metadata": {},
   "outputs": [
    {
     "data": {
      "text/html": [
       "<div>\n",
       "<style scoped>\n",
       "    .dataframe tbody tr th:only-of-type {\n",
       "        vertical-align: middle;\n",
       "    }\n",
       "\n",
       "    .dataframe tbody tr th {\n",
       "        vertical-align: top;\n",
       "    }\n",
       "\n",
       "    .dataframe thead th {\n",
       "        text-align: right;\n",
       "    }\n",
       "</style>\n",
       "<table border=\"1\" class=\"dataframe\">\n",
       "  <thead>\n",
       "    <tr style=\"text-align: right;\">\n",
       "      <th></th>\n",
       "      <th>order_id</th>\n",
       "      <th>customer_id</th>\n",
       "      <th>date</th>\n",
       "      <th>nearest_warehouse</th>\n",
       "      <th>shopping_cart</th>\n",
       "      <th>order_price</th>\n",
       "      <th>delivery_charges</th>\n",
       "      <th>customer_lat</th>\n",
       "      <th>customer_long</th>\n",
       "      <th>delivery_discount</th>\n",
       "      <th>season</th>\n",
       "      <th>is_expedited_delivery</th>\n",
       "      <th>distance_to_nearest_warehouse</th>\n",
       "      <th>latest_customer_review</th>\n",
       "      <th>is_happy_customer</th>\n",
       "      <th>counter</th>\n",
       "      <th>geometry</th>\n",
       "    </tr>\n",
       "  </thead>\n",
       "  <tbody>\n",
       "    <tr>\n",
       "      <th>0</th>\n",
       "      <td>ORD355238</td>\n",
       "      <td>ID0634775866</td>\n",
       "      <td>2022-05-07</td>\n",
       "      <td>Thompson</td>\n",
       "      <td>[('Toshika 750', 1), ('Universe Note', 1)]</td>\n",
       "      <td>7770</td>\n",
       "      <td>32.814</td>\n",
       "      <td>144.936670</td>\n",
       "      <td>-37.815178</td>\n",
       "      <td>50</td>\n",
       "      <td>Autumn</td>\n",
       "      <td>False</td>\n",
       "      <td>0.95605</td>\n",
       "      <td>four stars great case fit great</td>\n",
       "      <td>True</td>\n",
       "      <td>0</td>\n",
       "      <td>POINT (-37.815 144.937)</td>\n",
       "    </tr>\n",
       "    <tr>\n",
       "      <th>1</th>\n",
       "      <td>ORD079892</td>\n",
       "      <td>ID3810637325</td>\n",
       "      <td>2022-09-18</td>\n",
       "      <td>Thompson</td>\n",
       "      <td>[('Candle Inferno', 2), ('Olivia x460', 2), ('...</td>\n",
       "      <td>14570</td>\n",
       "      <td>78.055</td>\n",
       "      <td>144.942801</td>\n",
       "      <td>-37.820957</td>\n",
       "      <td>25</td>\n",
       "      <td>Spring</td>\n",
       "      <td>True</td>\n",
       "      <td>0.99562</td>\n",
       "      <td>five stars work perfectly in costa rica</td>\n",
       "      <td>True</td>\n",
       "      <td>0</td>\n",
       "      <td>POINT (-37.821 144.943)</td>\n",
       "    </tr>\n",
       "    <tr>\n",
       "      <th>2</th>\n",
       "      <td>ORD070678</td>\n",
       "      <td>ID6167441056</td>\n",
       "      <td>2022-03-01</td>\n",
       "      <td>Nickolson</td>\n",
       "      <td>[('pearTV', 2), ('iAssist Line', 2), ('Olivia ...</td>\n",
       "      <td>19820</td>\n",
       "      <td>58.803</td>\n",
       "      <td>144.962828</td>\n",
       "      <td>-37.813177</td>\n",
       "      <td>25</td>\n",
       "      <td>Autumn</td>\n",
       "      <td>True</td>\n",
       "      <td>0.84458</td>\n",
       "      <td>five stars satisfied love the phone speedy del...</td>\n",
       "      <td>True</td>\n",
       "      <td>0</td>\n",
       "      <td>POINT (-37.813 144.963)</td>\n",
       "    </tr>\n",
       "    <tr>\n",
       "      <th>3</th>\n",
       "      <td>ORD205936</td>\n",
       "      <td>ID0579391888</td>\n",
       "      <td>2022-06-14</td>\n",
       "      <td>Nickolson</td>\n",
       "      <td>[('Universe Note', 1), ('iStream', 2), ('pearT...</td>\n",
       "      <td>17595</td>\n",
       "      <td>32.225</td>\n",
       "      <td>144.956248</td>\n",
       "      <td>-37.821683</td>\n",
       "      <td>50</td>\n",
       "      <td>Winter</td>\n",
       "      <td>True</td>\n",
       "      <td>1.21924</td>\n",
       "      <td>disappointed was damaged</td>\n",
       "      <td>False</td>\n",
       "      <td>0</td>\n",
       "      <td>POINT (-37.822 144.956)</td>\n",
       "    </tr>\n",
       "    <tr>\n",
       "      <th>4</th>\n",
       "      <td>ORD060197</td>\n",
       "      <td>ID0247417666</td>\n",
       "      <td>2022-03-25</td>\n",
       "      <td>Nickolson</td>\n",
       "      <td>[('Universe Note', 2), ('Candle Inferno', 2), ...</td>\n",
       "      <td>22840</td>\n",
       "      <td>58.290</td>\n",
       "      <td>144.969054</td>\n",
       "      <td>-37.817748</td>\n",
       "      <td>25</td>\n",
       "      <td>Autumn</td>\n",
       "      <td>True</td>\n",
       "      <td>0.10388</td>\n",
       "      <td>five stars was a really good phone</td>\n",
       "      <td>True</td>\n",
       "      <td>0</td>\n",
       "      <td>POINT (-37.818 144.969)</td>\n",
       "    </tr>\n",
       "  </tbody>\n",
       "</table>\n",
       "</div>"
      ],
      "text/plain": [
       "    order_id   customer_id        date nearest_warehouse  \\\n",
       "0  ORD355238  ID0634775866  2022-05-07          Thompson   \n",
       "1  ORD079892  ID3810637325  2022-09-18          Thompson   \n",
       "2  ORD070678  ID6167441056  2022-03-01         Nickolson   \n",
       "3  ORD205936  ID0579391888  2022-06-14         Nickolson   \n",
       "4  ORD060197  ID0247417666  2022-03-25         Nickolson   \n",
       "\n",
       "                                       shopping_cart  order_price  \\\n",
       "0         [('Toshika 750', 1), ('Universe Note', 1)]         7770   \n",
       "1  [('Candle Inferno', 2), ('Olivia x460', 2), ('...        14570   \n",
       "2  [('pearTV', 2), ('iAssist Line', 2), ('Olivia ...        19820   \n",
       "3  [('Universe Note', 1), ('iStream', 2), ('pearT...        17595   \n",
       "4  [('Universe Note', 2), ('Candle Inferno', 2), ...        22840   \n",
       "\n",
       "   delivery_charges  customer_lat  customer_long  delivery_discount  season  \\\n",
       "0            32.814    144.936670     -37.815178                 50  Autumn   \n",
       "1            78.055    144.942801     -37.820957                 25  Spring   \n",
       "2            58.803    144.962828     -37.813177                 25  Autumn   \n",
       "3            32.225    144.956248     -37.821683                 50  Winter   \n",
       "4            58.290    144.969054     -37.817748                 25  Autumn   \n",
       "\n",
       "   is_expedited_delivery  distance_to_nearest_warehouse  \\\n",
       "0                  False                        0.95605   \n",
       "1                   True                        0.99562   \n",
       "2                   True                        0.84458   \n",
       "3                   True                        1.21924   \n",
       "4                   True                        0.10388   \n",
       "\n",
       "                              latest_customer_review  is_happy_customer  \\\n",
       "0                    four stars great case fit great               True   \n",
       "1            five stars work perfectly in costa rica               True   \n",
       "2  five stars satisfied love the phone speedy del...               True   \n",
       "3                           disappointed was damaged              False   \n",
       "4                 five stars was a really good phone               True   \n",
       "\n",
       "   counter                 geometry  \n",
       "0        0  POINT (-37.815 144.937)  \n",
       "1        0  POINT (-37.821 144.943)  \n",
       "2        0  POINT (-37.813 144.963)  \n",
       "3        0  POINT (-37.822 144.956)  \n",
       "4        0  POINT (-37.818 144.969)  "
      ]
     },
     "execution_count": 90,
     "metadata": {},
     "output_type": "execute_result"
    }
   ],
   "source": [
    "df_outside_australia = df_geo[outside_australia].reset_index(drop=True)\n",
    "df_outside_australia # cust_lat and cust_long have been swapped "
   ]
  },
  {
   "cell_type": "code",
   "execution_count": 91,
   "id": "eb6b5d67",
   "metadata": {},
   "outputs": [
    {
     "data": {
      "text/plain": [
       "0    ORD355238\n",
       "1    ORD079892\n",
       "2    ORD070678\n",
       "3    ORD205936\n",
       "4    ORD060197\n",
       "Name: order_id, dtype: object"
      ]
     },
     "execution_count": 91,
     "metadata": {},
     "output_type": "execute_result"
    }
   ],
   "source": [
    "# list of order ids for incorrect locations\n",
    "order_ids = df_outside_australia['order_id']\n",
    "order_ids"
   ]
  },
  {
   "cell_type": "code",
   "execution_count": 92,
   "id": "f9ad934a",
   "metadata": {},
   "outputs": [
    {
     "data": {
      "text/html": [
       "<div>\n",
       "<style scoped>\n",
       "    .dataframe tbody tr th:only-of-type {\n",
       "        vertical-align: middle;\n",
       "    }\n",
       "\n",
       "    .dataframe tbody tr th {\n",
       "        vertical-align: top;\n",
       "    }\n",
       "\n",
       "    .dataframe thead th {\n",
       "        text-align: right;\n",
       "    }\n",
       "</style>\n",
       "<table border=\"1\" class=\"dataframe\">\n",
       "  <thead>\n",
       "    <tr style=\"text-align: right;\">\n",
       "      <th></th>\n",
       "      <th>order_id</th>\n",
       "      <th>customer_id</th>\n",
       "      <th>date</th>\n",
       "      <th>nearest_warehouse</th>\n",
       "      <th>shopping_cart</th>\n",
       "      <th>order_price</th>\n",
       "      <th>delivery_charges</th>\n",
       "      <th>customer_lat</th>\n",
       "      <th>customer_long</th>\n",
       "      <th>delivery_discount</th>\n",
       "      <th>season</th>\n",
       "      <th>is_expedited_delivery</th>\n",
       "      <th>distance_to_nearest_warehouse</th>\n",
       "      <th>latest_customer_review</th>\n",
       "      <th>is_happy_customer</th>\n",
       "      <th>counter</th>\n",
       "    </tr>\n",
       "  </thead>\n",
       "  <tbody>\n",
       "    <tr>\n",
       "      <th>99</th>\n",
       "      <td>ORD079892</td>\n",
       "      <td>ID3810637325</td>\n",
       "      <td>2022-09-18</td>\n",
       "      <td>Thompson</td>\n",
       "      <td>[('Candle Inferno', 2), ('Olivia x460', 2), ('...</td>\n",
       "      <td>14570</td>\n",
       "      <td>78.055</td>\n",
       "      <td>144.942801</td>\n",
       "      <td>-37.820957</td>\n",
       "      <td>25</td>\n",
       "      <td>Spring</td>\n",
       "      <td>True</td>\n",
       "      <td>0.99562</td>\n",
       "      <td>five stars work perfectly in costa rica</td>\n",
       "      <td>True</td>\n",
       "      <td>0</td>\n",
       "    </tr>\n",
       "  </tbody>\n",
       "</table>\n",
       "</div>"
      ],
      "text/plain": [
       "     order_id   customer_id        date nearest_warehouse  \\\n",
       "99  ORD079892  ID3810637325  2022-09-18          Thompson   \n",
       "\n",
       "                                        shopping_cart  order_price  \\\n",
       "99  [('Candle Inferno', 2), ('Olivia x460', 2), ('...        14570   \n",
       "\n",
       "    delivery_charges  customer_lat  customer_long  delivery_discount  season  \\\n",
       "99            78.055    144.942801     -37.820957                 25  Spring   \n",
       "\n",
       "    is_expedited_delivery  distance_to_nearest_warehouse  \\\n",
       "99                   True                        0.99562   \n",
       "\n",
       "                     latest_customer_review  is_happy_customer  counter  \n",
       "99  five stars work perfectly in costa rica               True        0  "
      ]
     },
     "execution_count": 92,
     "metadata": {},
     "output_type": "execute_result"
    }
   ],
   "source": [
    "dirty_data[dirty_data['order_id'] == 'ORD079892']"
   ]
  },
  {
   "cell_type": "code",
   "execution_count": 93,
   "id": "189eee28",
   "metadata": {},
   "outputs": [],
   "source": [
    "# looping over order ids with incorrect customer location\n",
    "for i in order_ids:\n",
    "    # increasing counter \n",
    "    dirty_data.loc[dirty_data['order_id'] == i, 'counter'] += 1 \n",
    "    \n",
    "    # saving temporary values\n",
    "    actual_longitude = dirty_data.loc[dirty_data['order_id'] == i, 'customer_lat']\n",
    "    actual_latitude = dirty_data.loc[dirty_data['order_id'] == i, 'customer_long']\n",
    "\n",
    "    # replacing values \n",
    "    dirty_data.loc[dirty_data['order_id'] == i, 'customer_lat'] = actual_latitude \n",
    "    dirty_data.loc[dirty_data['order_id'] == i, 'customer_long'] = actual_longitude "
   ]
  },
  {
   "attachments": {
    "Screenshot%202023-05-12%20at%2011.42.15%20PM.png": {
     "image/png": "[encoded data removed]"
    }
   },
   "cell_type": "markdown",
   "id": "74be58aa",
   "metadata": {},
   "source": [
    "Before correcting location, an order had the following customer location:  \n",
    "\n",
    "<div>\n",
    "<img src=\"attachment:Screenshot%202023-05-12%20at%2011.42.15%20PM.png\" width=\"500\"/>\n",
    "</div>\n",
    "\n"
   ]
  },
  {
   "attachments": {
    "Screenshot%202023-05-12%20at%2011.43.16%20PM.png": {
     "image/png": "[encoded data removed]"
    }
   },
   "cell_type": "markdown",
   "id": "1fb37395",
   "metadata": {},
   "source": [
    "After correcting the location:  \n",
    "\n",
    "\n",
    "<div>\n",
    "<img src=\"attachment:Screenshot%202023-05-12%20at%2011.43.16%20PM.png\" width=\"500\"/>\n",
    "</div>\n",
    "\n"
   ]
  },
  {
   "cell_type": "code",
   "execution_count": 94,
   "id": "88f32979",
   "metadata": {},
   "outputs": [
    {
     "data": {
      "text/plain": [
       "0    479\n",
       "1     21\n",
       "Name: counter, dtype: int64"
      ]
     },
     "execution_count": 94,
     "metadata": {},
     "output_type": "execute_result"
    }
   ],
   "source": [
    "dirty_data['counter'].value_counts()"
   ]
  },
  {
   "cell_type": "markdown",
   "id": "cdfb4f32",
   "metadata": {},
   "source": [
    "We have corrected 21 records till now."
   ]
  },
  {
   "cell_type": "markdown",
   "id": "4f3e1b45",
   "metadata": {},
   "source": [
    "<div class=\"alert alert-block alert-warning\">\n",
    "    \n",
    "### 5.4. Warehouses <a class=\"anchor\" name=\"ware\"></a>"
   ]
  },
  {
   "cell_type": "markdown",
   "id": "bb2d97e0",
   "metadata": {},
   "source": [
    "Here, we will be correcting 2 columns:\n",
    "* distance_to_nearest_warehouse\n",
    "* nearest_warehouse\t\n"
   ]
  },
  {
   "cell_type": "code",
   "execution_count": 95,
   "id": "5c6714bd",
   "metadata": {},
   "outputs": [
    {
     "data": {
      "text/html": [
       "<div>\n",
       "<style scoped>\n",
       "    .dataframe tbody tr th:only-of-type {\n",
       "        vertical-align: middle;\n",
       "    }\n",
       "\n",
       "    .dataframe tbody tr th {\n",
       "        vertical-align: top;\n",
       "    }\n",
       "\n",
       "    .dataframe thead th {\n",
       "        text-align: right;\n",
       "    }\n",
       "</style>\n",
       "<table border=\"1\" class=\"dataframe\">\n",
       "  <thead>\n",
       "    <tr style=\"text-align: right;\">\n",
       "      <th></th>\n",
       "      <th>names</th>\n",
       "      <th>lat</th>\n",
       "      <th>lon</th>\n",
       "    </tr>\n",
       "  </thead>\n",
       "  <tbody>\n",
       "    <tr>\n",
       "      <th>0</th>\n",
       "      <td>Nickolson</td>\n",
       "      <td>-37.818595</td>\n",
       "      <td>144.969551</td>\n",
       "    </tr>\n",
       "    <tr>\n",
       "      <th>1</th>\n",
       "      <td>Thompson</td>\n",
       "      <td>-37.812673</td>\n",
       "      <td>144.947069</td>\n",
       "    </tr>\n",
       "    <tr>\n",
       "      <th>2</th>\n",
       "      <td>Bakers</td>\n",
       "      <td>-37.809996</td>\n",
       "      <td>144.995232</td>\n",
       "    </tr>\n",
       "  </tbody>\n",
       "</table>\n",
       "</div>"
      ],
      "text/plain": [
       "       names        lat         lon\n",
       "0  Nickolson -37.818595  144.969551\n",
       "1   Thompson -37.812673  144.947069\n",
       "2     Bakers -37.809996  144.995232"
      ]
     },
     "execution_count": 95,
     "metadata": {},
     "output_type": "execute_result"
    }
   ],
   "source": [
    "# opening warehouse csv to get unique warehouse names\n",
    "warehouses = pd.read_csv(\"./warehouses.csv\")\n",
    "warehouses"
   ]
  },
  {
   "cell_type": "code",
   "execution_count": 96,
   "id": "e3911798",
   "metadata": {},
   "outputs": [],
   "source": [
    "# creating a copy of our main dataframe to make changes\n",
    "distance_df = dirty_data.copy()"
   ]
  },
  {
   "cell_type": "code",
   "execution_count": 97,
   "id": "f7bcc4ec",
   "metadata": {},
   "outputs": [],
   "source": [
    "# creating a function to get distance between 2 points\n",
    "\n",
    "def nearest_distance(lat1, lon1, lat2, lon2):\n",
    "    \n",
    "    '''\n",
    "    Function to calculate the nearest distance between 2 points based on their latitudes and longitudes.\n",
    "    Here, radius of Earth is assumed to be 6378 kms.\n",
    "    \n",
    "        Input Parameters:\n",
    "            lat1: latitude value\n",
    "            lon1: longitude value\n",
    "            lat2: latitude value \n",
    "            lon2: longitude value\n",
    "    \n",
    "        Output:\n",
    "            Distance between 2 points.\n",
    "    '''\n",
    "    \n",
    "    # radius in Kms\n",
    "    radius = 6378 \n",
    "\n",
    "    #converting customer latitudes and longitudes to radians\n",
    "    lat1, lon1, lat2, lon2 = map(radians, [lat1, lon1, lat2, lon2])\n",
    "   \n",
    "    # calculating differences between latitudes and longitudes  \n",
    "    lat_diff = lat2- lat1\n",
    "    lon_diff = lon2 - lon1 \n",
    "    \n",
    "   # applying Haversine formula to calculate nearest distance\n",
    "    a = sin(lat_diff / 2)**2 + cos(lat1) * cos(lat2) * sin(lon_diff / 2)**2\n",
    "    c = 2 * atan2(sqrt(a), sqrt(1 - a))\n",
    "    distance = round(radius * c, 5)\n",
    "    \n",
    "    return distance"
   ]
  },
  {
   "cell_type": "code",
   "execution_count": 98,
   "id": "56df0d87",
   "metadata": {},
   "outputs": [
    {
     "data": {
      "text/plain": [
       "500"
      ]
     },
     "execution_count": 98,
     "metadata": {},
     "output_type": "execute_result"
    }
   ],
   "source": [
    "# list of customer locations as a tuple\n",
    "customer_locs = list(zip(distance_df['customer_lat'], distance_df['customer_long']))\n",
    "len(customer_locs)"
   ]
  },
  {
   "cell_type": "code",
   "execution_count": 99,
   "id": "f5e2cbfd",
   "metadata": {},
   "outputs": [],
   "source": [
    "# creating 2 lists for storing actual nearest warehouse distance and nearest warehouse\n",
    "warehouse_distance = []\n",
    "correct_closest_warehouse = []\n",
    "\n",
    "\n",
    "for cust_lat, cust_lon in customer_locs:\n",
    "    min_dist = float('inf') # setting min distance to be the max known value\n",
    "    closest_warehouse = None\n",
    "    # iterating over every row of warehouses df\n",
    "    for idx, row in warehouses.iterrows():\n",
    "        dist = nearest_distance(cust_lat, cust_lon, row['lat'], row['lon'])\n",
    "        if dist < min_dist:\n",
    "            min_dist = dist\n",
    "            closest_warehouse = row['names']\n",
    "    warehouse_distance.append(min_dist)\n",
    "    correct_closest_warehouse.append(closest_warehouse)\n",
    "    "
   ]
  },
  {
   "cell_type": "code",
   "execution_count": 100,
   "id": "ab4940f1",
   "metadata": {},
   "outputs": [
    {
     "data": {
      "text/html": [
       "<div>\n",
       "<style scoped>\n",
       "    .dataframe tbody tr th:only-of-type {\n",
       "        vertical-align: middle;\n",
       "    }\n",
       "\n",
       "    .dataframe tbody tr th {\n",
       "        vertical-align: top;\n",
       "    }\n",
       "\n",
       "    .dataframe thead th {\n",
       "        text-align: right;\n",
       "    }\n",
       "</style>\n",
       "<table border=\"1\" class=\"dataframe\">\n",
       "  <thead>\n",
       "    <tr style=\"text-align: right;\">\n",
       "      <th></th>\n",
       "      <th>order_id</th>\n",
       "      <th>customer_id</th>\n",
       "      <th>date</th>\n",
       "      <th>nearest_warehouse</th>\n",
       "      <th>shopping_cart</th>\n",
       "      <th>order_price</th>\n",
       "      <th>delivery_charges</th>\n",
       "      <th>customer_lat</th>\n",
       "      <th>customer_long</th>\n",
       "      <th>delivery_discount</th>\n",
       "      <th>season</th>\n",
       "      <th>is_expedited_delivery</th>\n",
       "      <th>distance_to_nearest_warehouse</th>\n",
       "      <th>latest_customer_review</th>\n",
       "      <th>is_happy_customer</th>\n",
       "      <th>counter</th>\n",
       "      <th>actual_distance</th>\n",
       "      <th>actual_warehouse</th>\n",
       "    </tr>\n",
       "  </thead>\n",
       "  <tbody>\n",
       "    <tr>\n",
       "      <th>0</th>\n",
       "      <td>ORD253098</td>\n",
       "      <td>ID5402876198</td>\n",
       "      <td>2022-04-16</td>\n",
       "      <td>Nickolson</td>\n",
       "      <td>[('Alcon 10', 1), ('Lucent 330S', 1)]</td>\n",
       "      <td>10180</td>\n",
       "      <td>64.923</td>\n",
       "      <td>-37.820339</td>\n",
       "      <td>144.977384</td>\n",
       "      <td>0</td>\n",
       "      <td>Autumn</td>\n",
       "      <td>False</td>\n",
       "      <td>0.71561</td>\n",
       "      <td>five stars exactly as promised.</td>\n",
       "      <td>True</td>\n",
       "      <td>0</td>\n",
       "      <td>0.71561</td>\n",
       "      <td>Nickolson</td>\n",
       "    </tr>\n",
       "    <tr>\n",
       "      <th>1</th>\n",
       "      <td>ORD203248</td>\n",
       "      <td>ID2489014343</td>\n",
       "      <td>2022-01-31</td>\n",
       "      <td>Bakers</td>\n",
       "      <td>[('Alcon 10', 2), ('Toshika 750', 1)]</td>\n",
       "      <td>22220</td>\n",
       "      <td>78.700</td>\n",
       "      <td>-37.798490</td>\n",
       "      <td>144.977975</td>\n",
       "      <td>25</td>\n",
       "      <td>Summer</td>\n",
       "      <td>True</td>\n",
       "      <td>1.98599</td>\n",
       "      <td>great phone for me, this was the best phone. t...</td>\n",
       "      <td>True</td>\n",
       "      <td>0</td>\n",
       "      <td>1.98599</td>\n",
       "      <td>Bakers</td>\n",
       "    </tr>\n",
       "    <tr>\n",
       "      <th>2</th>\n",
       "      <td>ORD125848</td>\n",
       "      <td>ID1542137496</td>\n",
       "      <td>2022-09-19</td>\n",
       "      <td>Nickolson</td>\n",
       "      <td>[('Candle Inferno', 1), ('Olivia x460', 1)]</td>\n",
       "      <td>1655</td>\n",
       "      <td>85.577</td>\n",
       "      <td>-37.814861</td>\n",
       "      <td>144.962550</td>\n",
       "      <td>0</td>\n",
       "      <td>Spring</td>\n",
       "      <td>True</td>\n",
       "      <td>0.74286</td>\n",
       "      <td>one star bought as new but received a refurbed...</td>\n",
       "      <td>False</td>\n",
       "      <td>0</td>\n",
       "      <td>0.74286</td>\n",
       "      <td>Nickolson</td>\n",
       "    </tr>\n",
       "    <tr>\n",
       "      <th>3</th>\n",
       "      <td>ORD465604</td>\n",
       "      <td>ID2384091383</td>\n",
       "      <td>2022-02-09</td>\n",
       "      <td>Nickolson</td>\n",
       "      <td>[('Olivia x460', 1), ('pearTV', 2), ('iStream'...</td>\n",
       "      <td>16370</td>\n",
       "      <td>47.208</td>\n",
       "      <td>-37.807935</td>\n",
       "      <td>144.973029</td>\n",
       "      <td>25</td>\n",
       "      <td>Summer</td>\n",
       "      <td>False</td>\n",
       "      <td>1.22539</td>\n",
       "      <td>the earlier models were so simple to use. no n...</td>\n",
       "      <td>False</td>\n",
       "      <td>0</td>\n",
       "      <td>1.22539</td>\n",
       "      <td>Nickolson</td>\n",
       "    </tr>\n",
       "    <tr>\n",
       "      <th>4</th>\n",
       "      <td>ORD160311</td>\n",
       "      <td>ID5232347245</td>\n",
       "      <td>2022-11-26</td>\n",
       "      <td>Thompson</td>\n",
       "      <td>[('Candle Inferno', 2), ('Toshika 750', 1), ('...</td>\n",
       "      <td>17800</td>\n",
       "      <td>97.776</td>\n",
       "      <td>-37.811732</td>\n",
       "      <td>144.948340</td>\n",
       "      <td>0</td>\n",
       "      <td>Spring</td>\n",
       "      <td>True</td>\n",
       "      <td>0.15321</td>\n",
       "      <td>NaN</td>\n",
       "      <td>True</td>\n",
       "      <td>0</td>\n",
       "      <td>0.15321</td>\n",
       "      <td>Thompson</td>\n",
       "    </tr>\n",
       "  </tbody>\n",
       "</table>\n",
       "</div>"
      ],
      "text/plain": [
       "    order_id   customer_id        date nearest_warehouse  \\\n",
       "0  ORD253098  ID5402876198  2022-04-16         Nickolson   \n",
       "1  ORD203248  ID2489014343  2022-01-31            Bakers   \n",
       "2  ORD125848  ID1542137496  2022-09-19         Nickolson   \n",
       "3  ORD465604  ID2384091383  2022-02-09         Nickolson   \n",
       "4  ORD160311  ID5232347245  2022-11-26          Thompson   \n",
       "\n",
       "                                       shopping_cart  order_price  \\\n",
       "0              [('Alcon 10', 1), ('Lucent 330S', 1)]        10180   \n",
       "1              [('Alcon 10', 2), ('Toshika 750', 1)]        22220   \n",
       "2        [('Candle Inferno', 1), ('Olivia x460', 1)]         1655   \n",
       "3  [('Olivia x460', 1), ('pearTV', 2), ('iStream'...        16370   \n",
       "4  [('Candle Inferno', 2), ('Toshika 750', 1), ('...        17800   \n",
       "\n",
       "   delivery_charges  customer_lat  customer_long  delivery_discount  season  \\\n",
       "0            64.923    -37.820339     144.977384                  0  Autumn   \n",
       "1            78.700    -37.798490     144.977975                 25  Summer   \n",
       "2            85.577    -37.814861     144.962550                  0  Spring   \n",
       "3            47.208    -37.807935     144.973029                 25  Summer   \n",
       "4            97.776    -37.811732     144.948340                  0  Spring   \n",
       "\n",
       "   is_expedited_delivery  distance_to_nearest_warehouse  \\\n",
       "0                  False                        0.71561   \n",
       "1                   True                        1.98599   \n",
       "2                   True                        0.74286   \n",
       "3                  False                        1.22539   \n",
       "4                   True                        0.15321   \n",
       "\n",
       "                              latest_customer_review  is_happy_customer  \\\n",
       "0                    five stars exactly as promised.               True   \n",
       "1  great phone for me, this was the best phone. t...               True   \n",
       "2  one star bought as new but received a refurbed...              False   \n",
       "3  the earlier models were so simple to use. no n...              False   \n",
       "4                                                NaN               True   \n",
       "\n",
       "   counter  actual_distance actual_warehouse  \n",
       "0        0          0.71561        Nickolson  \n",
       "1        0          1.98599           Bakers  \n",
       "2        0          0.74286        Nickolson  \n",
       "3        0          1.22539        Nickolson  \n",
       "4        0          0.15321         Thompson  "
      ]
     },
     "execution_count": 100,
     "metadata": {},
     "output_type": "execute_result"
    }
   ],
   "source": [
    "# adding 2 columns to df\n",
    "distance_df['actual_distance'] = warehouse_distance\n",
    "distance_df['actual_warehouse'] = correct_closest_warehouse\n",
    "distance_df.head()"
   ]
  },
  {
   "cell_type": "code",
   "execution_count": 101,
   "id": "c8da427a",
   "metadata": {},
   "outputs": [
    {
     "data": {
      "text/plain": [
       "7"
      ]
     },
     "execution_count": 101,
     "metadata": {},
     "output_type": "execute_result"
    }
   ],
   "source": [
    "# incorrect arc dist\n",
    "incorrect_dist = distance_df.loc[distance_df['distance_to_nearest_warehouse'] != distance_df['actual_distance'], 'order_id']\n",
    "len(incorrect_dist)"
   ]
  },
  {
   "cell_type": "markdown",
   "id": "4b8dc673",
   "metadata": {},
   "source": [
    "We can notice that there are 7 records with incorrect warehouse distance. We are correcting the same in the following step:"
   ]
  },
  {
   "cell_type": "code",
   "execution_count": 102,
   "id": "cba63a41",
   "metadata": {},
   "outputs": [],
   "source": [
    "# changing values in dirty_data\n",
    "for order in incorrect_dist:\n",
    "    # increasing counter \n",
    "    dirty_data.loc[dirty_data['order_id'] == order, 'counter'] += 1\n",
    "    # changing nearest_distance value\n",
    "    dirty_data.loc[dirty_data['order_id'] == order, 'distance_to_nearest_warehouse'] = distance_df.loc[distance_df['order_id'] == order, 'actual_distance']   "
   ]
  },
  {
   "cell_type": "code",
   "execution_count": 103,
   "id": "edbb29b6",
   "metadata": {},
   "outputs": [
    {
     "data": {
      "text/plain": [
       "0    472\n",
       "1     28\n",
       "Name: counter, dtype: int64"
      ]
     },
     "execution_count": 103,
     "metadata": {},
     "output_type": "execute_result"
    }
   ],
   "source": [
    "dirty_data['counter'].value_counts()"
   ]
  },
  {
   "cell_type": "markdown",
   "id": "e6eaf569",
   "metadata": {},
   "source": [
    "We have corrected 28 records till now."
   ]
  },
  {
   "cell_type": "code",
   "execution_count": 104,
   "id": "d1adc47b",
   "metadata": {},
   "outputs": [
    {
     "data": {
      "text/plain": [
       "10"
      ]
     },
     "execution_count": 104,
     "metadata": {},
     "output_type": "execute_result"
    }
   ],
   "source": [
    "#incorrect warehouses\n",
    "incorrect_warehouses = distance_df.loc[distance_df['nearest_warehouse'] != distance_df['actual_warehouse'], 'order_id']\n",
    "len(incorrect_warehouses)"
   ]
  },
  {
   "cell_type": "markdown",
   "id": "29d22e3a",
   "metadata": {},
   "source": [
    "Again, we can see that 10 records contain the incorrect warehouse name, which we will correct in the next phase."
   ]
  },
  {
   "cell_type": "code",
   "execution_count": 105,
   "id": "bf4b774e",
   "metadata": {},
   "outputs": [],
   "source": [
    "# changing values dirty_data\n",
    "for order in incorrect_warehouses:\n",
    "    # increasing counter \n",
    "    dirty_data.loc[dirty_data['order_id'] == order, 'counter'] += 1\n",
    "    # changing nearest_distance value\n",
    "    dirty_data.loc[dirty_data['order_id'] == order, 'nearest_warehouse'] = distance_df.loc[distance_df['order_id'] == order, 'actual_warehouse']\n",
    "    "
   ]
  },
  {
   "cell_type": "code",
   "execution_count": 106,
   "id": "5a6f8b36",
   "metadata": {
    "scrolled": true
   },
   "outputs": [
    {
     "data": {
      "text/plain": [
       "0    462\n",
       "1     38\n",
       "Name: counter, dtype: int64"
      ]
     },
     "execution_count": 106,
     "metadata": {},
     "output_type": "execute_result"
    }
   ],
   "source": [
    "dirty_data['counter'].value_counts()"
   ]
  },
  {
   "cell_type": "markdown",
   "id": "8090fdea",
   "metadata": {},
   "source": [
    "We successfully corrected 38 order records. "
   ]
  },
  {
   "cell_type": "markdown",
   "id": "00a2d6ed",
   "metadata": {},
   "source": [
    "<div class=\"alert alert-block alert-warning\">\n",
    "    \n",
    "### 5.5. Shopping Cart <a class=\"anchor\" name=\"shop\"></a>"
   ]
  },
  {
   "cell_type": "code",
   "execution_count": 107,
   "id": "e82b5579",
   "metadata": {},
   "outputs": [
    {
     "data": {
      "text/plain": [
       "0                  [('Alcon 10', 1), ('Lucent 330S', 1)]\n",
       "1                  [('Alcon 10', 2), ('Toshika 750', 1)]\n",
       "2            [('Candle Inferno', 1), ('Olivia x460', 1)]\n",
       "3      [('Olivia x460', 1), ('pearTV', 2), ('iStream'...\n",
       "4      [('Candle Inferno', 2), ('Toshika 750', 1), ('...\n",
       "                             ...                        \n",
       "495             [('Candle Inferno', 1), ('Alcon 10', 2)]\n",
       "496    [('Universe Note', 1), ('iAssist Line', 2), ('...\n",
       "497    [('Lucent 330S', 2), ('Candle Inferno', 1), ('...\n",
       "498    [('iStream', 2), ('Olivia x460', 1), ('iAssist...\n",
       "499    [('Toshika 750', 2), ('iAssist Line', 1), ('Al...\n",
       "Name: shopping_cart, Length: 500, dtype: object"
      ]
     },
     "execution_count": 107,
     "metadata": {},
     "output_type": "execute_result"
    }
   ],
   "source": [
    "shopping_cart = dirty_data['shopping_cart']\n",
    "shopping_cart"
   ]
  },
  {
   "cell_type": "code",
   "execution_count": 108,
   "id": "e36e4a9d",
   "metadata": {},
   "outputs": [
    {
     "data": {
      "text/plain": [
       "{'Alcon 10',\n",
       " 'Candle Inferno',\n",
       " 'Lucent 330S',\n",
       " 'Olivia x460',\n",
       " 'Thunder line',\n",
       " 'Toshika 750',\n",
       " 'Universe Note',\n",
       " 'iAssist Line',\n",
       " 'iStream',\n",
       " 'pearTV'}"
      ]
     },
     "execution_count": 108,
     "metadata": {},
     "output_type": "execute_result"
    }
   ],
   "source": [
    "items =[tups[0] for i in shopping_cart for tups in eval(i) ] # eval(i ) because i was a string list \n",
    "set(items)"
   ]
  },
  {
   "cell_type": "markdown",
   "id": "2b272a79",
   "metadata": {},
   "source": [
    "We verified that there are only 10 branded items "
   ]
  },
  {
   "cell_type": "markdown",
   "id": "d8c8f344",
   "metadata": {},
   "source": [
    "<div class=\"alert alert-block alert-warning\">\n",
    "    \n",
    "### 5.6. Order Price <a class=\"anchor\" name=\"op\"></a>"
   ]
  },
  {
   "cell_type": "markdown",
   "id": "bf6f32ce",
   "metadata": {},
   "source": [
    "To check order price column, we need to know individial item cost. We can calculate that from the records that have already been altered ( since there is only 1 error in any record). Those records must be error free, which makes it easy for us to use them for this calculation process. "
   ]
  },
  {
   "cell_type": "code",
   "execution_count": 109,
   "id": "5f9503e7",
   "metadata": {
    "scrolled": true
   },
   "outputs": [
    {
     "data": {
      "text/plain": [
       "38"
      ]
     },
     "execution_count": 109,
     "metadata": {},
     "output_type": "execute_result"
    }
   ],
   "source": [
    "# creating a dataframe with counter =1 as these rows are now error free. \n",
    "op_df = dirty_data[dirty_data['counter']==1]\n",
    "len(op_df)"
   ]
  },
  {
   "cell_type": "markdown",
   "id": "34d1a893",
   "metadata": {},
   "source": [
    "We have 38 error free records till now."
   ]
  },
  {
   "cell_type": "code",
   "execution_count": 110,
   "id": "540d48b8",
   "metadata": {
    "scrolled": true
   },
   "outputs": [
    {
     "data": {
      "text/plain": [
       "['pearTV',\n",
       " 'iStream',\n",
       " 'Thunder line',\n",
       " 'Lucent 330S',\n",
       " 'Universe Note',\n",
       " 'iAssist Line',\n",
       " 'Alcon 10',\n",
       " 'Candle Inferno',\n",
       " 'Olivia x460',\n",
       " 'Toshika 750']"
      ]
     },
     "execution_count": 110,
     "metadata": {},
     "output_type": "execute_result"
    }
   ],
   "source": [
    "# getting unique items, did list again as sets are unordered.\n",
    "items = list(set(items))\n",
    "items"
   ]
  },
  {
   "cell_type": "code",
   "execution_count": 111,
   "id": "50c7885d",
   "metadata": {},
   "outputs": [],
   "source": [
    "# converting list of tuples(from shopping cart) into a list of dictionaries\n",
    "order_dicts = []\n",
    "for i in op_df['shopping_cart']:\n",
    "    order = {}\n",
    "    for k,v in eval(i):\n",
    "        order[k] = v\n",
    "    order_dicts.append(order)   "
   ]
  },
  {
   "cell_type": "code",
   "execution_count": 112,
   "id": "b8497f26",
   "metadata": {},
   "outputs": [
    {
     "data": {
      "text/plain": [
       "[{'Toshika 750': 1, 'Universe Note': 1},\n",
       " {'Toshika 750': 2, 'iAssist Line': 2},\n",
       " {'iAssist Line': 1, 'Lucent 330S': 1, 'Candle Inferno': 2},\n",
       " {'pearTV': 1, 'Alcon 10': 2, 'Thunder line': 2},\n",
       " {'iAssist Line': 2, 'pearTV': 1},\n",
       " {'Candle Inferno': 2, 'iAssist Line': 2, 'Thunder line': 1, 'Alcon 10': 2},\n",
       " {'Universe Note': 1, 'Thunder line': 2},\n",
       " {'pearTV': 1, 'Olivia x460': 2, 'Universe Note': 1, 'Candle Inferno': 1},\n",
       " {'Candle Inferno': 2,\n",
       "  'Olivia x460': 2,\n",
       "  'Universe Note': 2,\n",
       "  'Thunder line': 2},\n",
       " {'Toshika 750': 2, 'iStream': 2},\n",
       " {'pearTV': 2, 'iAssist Line': 2, 'Olivia x460': 2, 'iStream': 2},\n",
       " {'Thunder line': 1, 'Lucent 330S': 1, 'Toshika 750': 1, 'iAssist Line': 2},\n",
       " {'Lucent 330S': 2, 'pearTV': 1},\n",
       " {'Universe Note': 1, 'iStream': 2, 'pearTV': 2, 'Olivia x460': 1},\n",
       " {'iStream': 2, 'pearTV': 2, 'Universe Note': 1, 'Olivia x460': 1},\n",
       " {'Candle Inferno': 1, 'Toshika 750': 2, 'iStream': 2, 'Alcon 10': 1},\n",
       " {'Universe Note': 1, 'iStream': 1, 'Olivia x460': 2, 'Alcon 10': 1},\n",
       " {'Toshika 750': 2, 'Candle Inferno': 1},\n",
       " {'Candle Inferno': 1, 'Toshika 750': 2},\n",
       " {'iAssist Line': 1, 'Universe Note': 2, 'Lucent 330S': 2},\n",
       " {'pearTV': 2, 'Thunder line': 1, 'Olivia x460': 1},\n",
       " {'iAssist Line': 1, 'Alcon 10': 2},\n",
       " {'iStream': 2, 'Alcon 10': 2, 'iAssist Line': 2, 'Thunder line': 1},\n",
       " {'iAssist Line': 2, 'pearTV': 1, 'Alcon 10': 1, 'Candle Inferno': 2},\n",
       " {'Universe Note': 2, 'Candle Inferno': 2, 'pearTV': 2, 'Lucent 330S': 2},\n",
       " {'Lucent 330S': 1, 'Thunder line': 1},\n",
       " {'Alcon 10': 2, 'iAssist Line': 1, 'Toshika 750': 2, 'pearTV': 1},\n",
       " {'Candle Inferno': 2, 'iAssist Line': 2},\n",
       " {'iAssist Line': 2, 'iStream': 2, 'Toshika 750': 1, 'Olivia x460': 2},\n",
       " {'Universe Note': 2, 'Lucent 330S': 1, 'Toshika 750': 2},\n",
       " {'iStream': 2, 'Thunder line': 1},\n",
       " {'Thunder line': 1, 'Universe Note': 1},\n",
       " {'Alcon 10': 1, 'iAssist Line': 2, 'Olivia x460': 1},\n",
       " {'Alcon 10': 1, 'iAssist Line': 1, 'iStream': 1, 'pearTV': 1},\n",
       " {'Alcon 10': 1, 'pearTV': 2},\n",
       " {'Candle Inferno': 1, 'iStream': 1, 'pearTV': 2, 'iAssist Line': 1},\n",
       " {'iAssist Line': 1, 'Toshika 750': 2, 'Olivia x460': 1},\n",
       " {'iStream': 2, 'Olivia x460': 1, 'iAssist Line': 2}]"
      ]
     },
     "execution_count": 112,
     "metadata": {},
     "output_type": "execute_result"
    }
   ],
   "source": [
    "order_dicts"
   ]
  },
  {
   "cell_type": "code",
   "execution_count": 113,
   "id": "00e2cb7e",
   "metadata": {},
   "outputs": [],
   "source": [
    "# to save item quantites in a matrix \n",
    "quantity_matrix = []\n",
    "for order in order_dicts:\n",
    "    row = []\n",
    "    for key in items:\n",
    "        value = order.get(key, 0)\n",
    "        row.append(value)\n",
    "    quantity_matrix.append(row)"
   ]
  },
  {
   "cell_type": "code",
   "execution_count": 114,
   "id": "4f5ab312",
   "metadata": {},
   "outputs": [
    {
     "data": {
      "text/plain": [
       "[[0, 0, 0, 0, 1, 0, 0, 0, 0, 1],\n",
       " [0, 0, 0, 0, 0, 2, 0, 0, 0, 2],\n",
       " [0, 0, 0, 1, 0, 1, 0, 2, 0, 0],\n",
       " [1, 0, 2, 0, 0, 0, 2, 0, 0, 0],\n",
       " [1, 0, 0, 0, 0, 2, 0, 0, 0, 0],\n",
       " [0, 0, 1, 0, 0, 2, 2, 2, 0, 0],\n",
       " [0, 0, 2, 0, 1, 0, 0, 0, 0, 0],\n",
       " [1, 0, 0, 0, 1, 0, 0, 1, 2, 0],\n",
       " [0, 0, 2, 0, 2, 0, 0, 2, 2, 0],\n",
       " [0, 2, 0, 0, 0, 0, 0, 0, 0, 2],\n",
       " [2, 2, 0, 0, 0, 2, 0, 0, 2, 0],\n",
       " [0, 0, 1, 1, 0, 2, 0, 0, 0, 1],\n",
       " [1, 0, 0, 2, 0, 0, 0, 0, 0, 0],\n",
       " [2, 2, 0, 0, 1, 0, 0, 0, 1, 0],\n",
       " [2, 2, 0, 0, 1, 0, 0, 0, 1, 0],\n",
       " [0, 2, 0, 0, 0, 0, 1, 1, 0, 2],\n",
       " [0, 1, 0, 0, 1, 0, 1, 0, 2, 0],\n",
       " [0, 0, 0, 0, 0, 0, 0, 1, 0, 2],\n",
       " [0, 0, 0, 0, 0, 0, 0, 1, 0, 2],\n",
       " [0, 0, 0, 2, 2, 1, 0, 0, 0, 0],\n",
       " [2, 0, 1, 0, 0, 0, 0, 0, 1, 0],\n",
       " [0, 0, 0, 0, 0, 1, 2, 0, 0, 0],\n",
       " [0, 2, 1, 0, 0, 2, 2, 0, 0, 0],\n",
       " [1, 0, 0, 0, 0, 2, 1, 2, 0, 0],\n",
       " [2, 0, 0, 2, 2, 0, 0, 2, 0, 0],\n",
       " [0, 0, 1, 1, 0, 0, 0, 0, 0, 0],\n",
       " [1, 0, 0, 0, 0, 1, 2, 0, 0, 2],\n",
       " [0, 0, 0, 0, 0, 2, 0, 2, 0, 0],\n",
       " [0, 2, 0, 0, 0, 2, 0, 0, 2, 1],\n",
       " [0, 0, 0, 1, 2, 0, 0, 0, 0, 2],\n",
       " [0, 2, 1, 0, 0, 0, 0, 0, 0, 0],\n",
       " [0, 0, 1, 0, 1, 0, 0, 0, 0, 0],\n",
       " [0, 0, 0, 0, 0, 2, 1, 0, 1, 0],\n",
       " [1, 1, 0, 0, 0, 1, 1, 0, 0, 0],\n",
       " [2, 0, 0, 0, 0, 0, 1, 0, 0, 0],\n",
       " [2, 1, 0, 0, 0, 1, 0, 1, 0, 0],\n",
       " [0, 0, 0, 0, 0, 1, 0, 0, 1, 2],\n",
       " [0, 2, 0, 0, 0, 2, 0, 0, 1, 0]]"
      ]
     },
     "execution_count": 114,
     "metadata": {},
     "output_type": "execute_result"
    }
   ],
   "source": [
    "quantity_matrix # order of items is same as item list"
   ]
  },
  {
   "cell_type": "code",
   "execution_count": 115,
   "id": "ad0d531c",
   "metadata": {},
   "outputs": [
    {
     "data": {
      "text/plain": [
       "(38, 10)"
      ]
     },
     "execution_count": 115,
     "metadata": {},
     "output_type": "execute_result"
    }
   ],
   "source": [
    "np.shape(quantity_matrix) "
   ]
  },
  {
   "cell_type": "markdown",
   "id": "8ab2e16a",
   "metadata": {},
   "source": [
    "We can see shape of our matrix is 38 * 10 as we have 38 correct orders and 10 items "
   ]
  },
  {
   "cell_type": "code",
   "execution_count": 116,
   "id": "9cdf7664",
   "metadata": {},
   "outputs": [
    {
     "data": {
      "text/plain": [
       "17      7770\n",
       "19     13090\n",
       "41      4315\n",
       "68     28570\n",
       "71     10760\n",
       "83     25390\n",
       "87      7810\n",
       "90     12640\n",
       "99     14570\n",
       "114     8940\n",
       "Name: order_price, dtype: int64"
      ]
     },
     "execution_count": 116,
     "metadata": {},
     "output_type": "execute_result"
    }
   ],
   "source": [
    "# now we will get order price array, head 10 since we have 10 columns \n",
    "order_price = op_df['order_price'].head(10)\n",
    "order_price"
   ]
  },
  {
   "cell_type": "code",
   "execution_count": 117,
   "id": "8489efe9",
   "metadata": {},
   "outputs": [
    {
     "data": {
      "text/plain": [
       "array([[0, 0, 0, 0, 1, 0, 0, 0, 0, 1],\n",
       "       [0, 0, 0, 0, 0, 2, 0, 0, 0, 2],\n",
       "       [0, 0, 0, 1, 0, 1, 0, 2, 0, 0],\n",
       "       [1, 0, 2, 0, 0, 0, 2, 0, 0, 0],\n",
       "       [1, 0, 0, 0, 0, 2, 0, 0, 0, 0],\n",
       "       [0, 0, 1, 0, 0, 2, 2, 2, 0, 0],\n",
       "       [0, 0, 2, 0, 1, 0, 0, 0, 0, 0],\n",
       "       [1, 0, 0, 0, 1, 0, 0, 1, 2, 0],\n",
       "       [0, 0, 2, 0, 2, 0, 0, 2, 2, 0],\n",
       "       [0, 2, 0, 0, 0, 0, 0, 0, 0, 2]])"
      ]
     },
     "execution_count": 117,
     "metadata": {},
     "output_type": "execute_result"
    }
   ],
   "source": [
    "variables = np.array(quantity_matrix[:10]) # took only 10 rows since variables should be a square matrix \n",
    "variables"
   ]
  },
  {
   "cell_type": "code",
   "execution_count": 118,
   "id": "2ca21c60",
   "metadata": {},
   "outputs": [],
   "source": [
    "# solving for indiviadual item prices \n",
    "item_prices = np.linalg.solve(variables, order_price) \n",
    "item_prices = np.rint(item_prices) #rounding # the prices of items are in order of items list "
   ]
  },
  {
   "cell_type": "code",
   "execution_count": 119,
   "id": "7a6378cd",
   "metadata": {},
   "outputs": [
    {
     "data": {
      "text/plain": [
       "{'pearTV': 6310.0,\n",
       " 'iStream': 150.0,\n",
       " 'Thunder line': 2180.0,\n",
       " 'Lucent 330S': 1230.0,\n",
       " 'Universe Note': 3450.0,\n",
       " 'iAssist Line': 2225.0,\n",
       " 'Alcon 10': 8950.0,\n",
       " 'Candle Inferno': 430.0,\n",
       " 'Olivia x460': 1225.0,\n",
       " 'Toshika 750': 4320.0}"
      ]
     },
     "execution_count": 119,
     "metadata": {},
     "output_type": "execute_result"
    }
   ],
   "source": [
    "# a dictionary with items and their prices\n",
    "price_dict= {}\n",
    "price_dict = dict(zip(items, item_prices)) \n",
    "price_dict "
   ]
  },
  {
   "cell_type": "code",
   "execution_count": 120,
   "id": "e0cf8ff1",
   "metadata": {},
   "outputs": [],
   "source": [
    "# converting list of tuples into a list of dictionaries for all orders\n",
    "all_order_dicts = []\n",
    "for i in dirty_data_dates['shopping_cart']:\n",
    "    order = {}\n",
    "    for k,v in eval(i):\n",
    "        order[k] = v\n",
    "    all_order_dicts.append(order)   "
   ]
  },
  {
   "cell_type": "code",
   "execution_count": 121,
   "id": "4557d265",
   "metadata": {},
   "outputs": [
    {
     "data": {
      "text/plain": [
       "500"
      ]
     },
     "execution_count": 121,
     "metadata": {},
     "output_type": "execute_result"
    }
   ],
   "source": [
    "len(all_order_dicts)"
   ]
  },
  {
   "cell_type": "code",
   "execution_count": 122,
   "id": "b9d30c33",
   "metadata": {},
   "outputs": [],
   "source": [
    "# Matrix for  all the records\n",
    "error_matrix = []\n",
    "for order in all_order_dicts :\n",
    "    row = []\n",
    "    for key in items:\n",
    "        value = order.get(key, 0)\n",
    "        row.append(value)\n",
    "    error_matrix.append(row)"
   ]
  },
  {
   "cell_type": "markdown",
   "id": "717c5794",
   "metadata": {},
   "source": [
    "For matrix multiplication it's important that the number of columns in the first matrix must be equal to the number of rows in the second matrix. So, we will check for error_matrix and item_prices "
   ]
  },
  {
   "cell_type": "code",
   "execution_count": 123,
   "id": "0ba6d3f3",
   "metadata": {},
   "outputs": [
    {
     "data": {
      "text/plain": [
       "(500, 10)"
      ]
     },
     "execution_count": 123,
     "metadata": {},
     "output_type": "execute_result"
    }
   ],
   "source": [
    "np.shape(error_matrix)"
   ]
  },
  {
   "cell_type": "code",
   "execution_count": 124,
   "id": "e6110d1b",
   "metadata": {
    "scrolled": true
   },
   "outputs": [
    {
     "data": {
      "text/plain": [
       "(10,)"
      ]
     },
     "execution_count": 124,
     "metadata": {},
     "output_type": "execute_result"
    }
   ],
   "source": [
    "np.shape(item_prices)"
   ]
  },
  {
   "cell_type": "code",
   "execution_count": 125,
   "id": "9e5c43e9",
   "metadata": {},
   "outputs": [
    {
     "data": {
      "text/plain": [
       "[10180.0,\n",
       " 22220.0,\n",
       " 1655.0,\n",
       " 16370.0,\n",
       " 17800.0,\n",
       " 4680.0,\n",
       " 16500.0,\n",
       " 4600.0,\n",
       " 18050.0,\n",
       " 10950.0,\n",
       " 13390.0,\n",
       " 6910.0,\n",
       " 11875.0,\n",
       " 8865.0,\n",
       " 8770.0,\n",
       " 7360.0,\n",
       " 20275.0,\n",
       " 7770.0,\n",
       " 16915.0,\n",
       " 13090.0,\n",
       " 16280.0,\n",
       " 13065.0,\n",
       " 13590.0,\n",
       " 9100.0,\n",
       " 10930.0,\n",
       " 7200.0,\n",
       " 35030.0,\n",
       " 4675.0,\n",
       " 11500.0,\n",
       " 13845.0,\n",
       " 13240.0,\n",
       " 2885.0,\n",
       " 17070.0,\n",
       " 6960.0,\n",
       " 3410.0,\n",
       " 7810.0,\n",
       " 8135.0,\n",
       " 14150.0,\n",
       " 6900.0,\n",
       " 19710.0,\n",
       " 11855.0,\n",
       " 4315.0,\n",
       " 10940.0,\n",
       " 6820.0,\n",
       " 5180.0,\n",
       " 21805.0,\n",
       " 12720.0,\n",
       " 1525.0,\n",
       " 8790.0,\n",
       " 13080.0,\n",
       " 17410.0,\n",
       " 28330.0,\n",
       " 10945.0,\n",
       " 11490.0,\n",
       " 24050.0,\n",
       " 12770.0,\n",
       " 7200.0,\n",
       " 14800.0,\n",
       " 26540.0,\n",
       " 4600.0,\n",
       " 5545.0,\n",
       " 10425.0,\n",
       " 15940.0,\n",
       " 32610.0,\n",
       " 21585.0,\n",
       " 14425.0,\n",
       " 10765.0,\n",
       " 5885.0,\n",
       " 28570.0,\n",
       " 10195.0,\n",
       " 25350.0,\n",
       " 10760.0,\n",
       " 580.0,\n",
       " 20380.0,\n",
       " 15380.0,\n",
       " 30990.0,\n",
       " 10230.0,\n",
       " 7770.0,\n",
       " 26980.0,\n",
       " 6060.0,\n",
       " 6855.0,\n",
       " 14615.0,\n",
       " 10305.0,\n",
       " 25390.0,\n",
       " 19130.0,\n",
       " 15970.0,\n",
       " 16180.0,\n",
       " 7810.0,\n",
       " 18330.0,\n",
       " 15070.0,\n",
       " 12640.0,\n",
       " 23095.0,\n",
       " 9130.0,\n",
       " 9140.0,\n",
       " 26710.0,\n",
       " 25530.0,\n",
       " 17890.0,\n",
       " 6900.0,\n",
       " 15860.0,\n",
       " 14570.0,\n",
       " 14550.0,\n",
       " 30210.0,\n",
       " 11475.0,\n",
       " 21350.0,\n",
       " 18270.0,\n",
       " 4630.0,\n",
       " 4470.0,\n",
       " 21040.0,\n",
       " 28065.0,\n",
       " 12940.0,\n",
       " 6930.0,\n",
       " 3405.0,\n",
       " 19900.0,\n",
       " 4620.0,\n",
       " 8940.0,\n",
       " 8435.0,\n",
       " 17940.0,\n",
       " 24720.0,\n",
       " 15575.0,\n",
       " 16455.0,\n",
       " 11410.0,\n",
       " 13780.0,\n",
       " 39160.0,\n",
       " 10970.0,\n",
       " 20135.0,\n",
       " 13090.0,\n",
       " 15100.0,\n",
       " 13550.0,\n",
       " 13090.0,\n",
       " 1010.0,\n",
       " 15710.0,\n",
       " 19820.0,\n",
       " 13000.0,\n",
       " 16880.0,\n",
       " 12580.0,\n",
       " 14950.0,\n",
       " 3085.0,\n",
       " 26540.0,\n",
       " 30945.0,\n",
       " 8770.0,\n",
       " 12290.0,\n",
       " 6810.0,\n",
       " 41340.0,\n",
       " 11410.0,\n",
       " 13300.0,\n",
       " 13550.0,\n",
       " 17500.0,\n",
       " 22500.0,\n",
       " 19920.0,\n",
       " 17280.0,\n",
       " 18520.0,\n",
       " 13800.0,\n",
       " 5845.0,\n",
       " 8490.0,\n",
       " 9130.0,\n",
       " 12180.0,\n",
       " 2085.0,\n",
       " 16030.0,\n",
       " 9760.0,\n",
       " 18330.0,\n",
       " 2390.0,\n",
       " 8770.0,\n",
       " 12950.0,\n",
       " 7075.0,\n",
       " 17595.0,\n",
       " 24670.0,\n",
       " 13130.0,\n",
       " 6170.0,\n",
       " 4680.0,\n",
       " 7540.0,\n",
       " 10865.0,\n",
       " 12635.0,\n",
       " 22795.0,\n",
       " 3880.0,\n",
       " 18200.0,\n",
       " 31140.0,\n",
       " 4660.0,\n",
       " 15305.0,\n",
       " 5180.0,\n",
       " 9200.0,\n",
       " 8680.0,\n",
       " 9070.0,\n",
       " 2385.0,\n",
       " 17595.0,\n",
       " 19680.0,\n",
       " 11090.0,\n",
       " 18320.0,\n",
       " 2090.0,\n",
       " 8490.0,\n",
       " 16930.0,\n",
       " 6780.0,\n",
       " 8950.0,\n",
       " 11680.0,\n",
       " 6610.0,\n",
       " 13850.0,\n",
       " 24310.0,\n",
       " 18200.0,\n",
       " 13120.0,\n",
       " 4265.0,\n",
       " 12765.0,\n",
       " 4310.0,\n",
       " 30520.0,\n",
       " 2235.0,\n",
       " 4680.0,\n",
       " 31745.0,\n",
       " 22485.0,\n",
       " 5535.0,\n",
       " 22620.0,\n",
       " 7015.0,\n",
       " 15000.0,\n",
       " 15860.0,\n",
       " 8770.0,\n",
       " 19400.0,\n",
       " 4685.0,\n",
       " 24160.0,\n",
       " 14130.0,\n",
       " 9070.0,\n",
       " 19730.0,\n",
       " 17595.0,\n",
       " 19010.0,\n",
       " 3310.0,\n",
       " 6205.0,\n",
       " 13550.0,\n",
       " 4470.0,\n",
       " 15375.0,\n",
       " 12705.0,\n",
       " 9110.0,\n",
       " 10425.0,\n",
       " 11605.0,\n",
       " 25530.0,\n",
       " 9070.0,\n",
       " 23360.0,\n",
       " 10790.0,\n",
       " 10080.0,\n",
       " 13050.0,\n",
       " 11370.0,\n",
       " 14950.0,\n",
       " 9360.0,\n",
       " 32700.0,\n",
       " 15700.0,\n",
       " 11585.0,\n",
       " 2385.0,\n",
       " 21350.0,\n",
       " 28480.0,\n",
       " 7170.0,\n",
       " 16025.0,\n",
       " 20125.0,\n",
       " 4675.0,\n",
       " 24675.0,\n",
       " 3470.0,\n",
       " 21560.0,\n",
       " 24830.0,\n",
       " 20570.0,\n",
       " 8195.0,\n",
       " 13710.0,\n",
       " 22840.0,\n",
       " 4640.0,\n",
       " 21850.0,\n",
       " 16175.0,\n",
       " 4880.0,\n",
       " 3410.0,\n",
       " 10055.0,\n",
       " 4675.0,\n",
       " 17295.0,\n",
       " 6800.0,\n",
       " 15710.0,\n",
       " 23445.0,\n",
       " 7120.0,\n",
       " 35075.0,\n",
       " 16725.0,\n",
       " 14950.0,\n",
       " 8535.0,\n",
       " 10290.0,\n",
       " 28810.0,\n",
       " 12400.0,\n",
       " 21340.0,\n",
       " 9650.0,\n",
       " 11130.0,\n",
       " 8510.0,\n",
       " 21655.0,\n",
       " 15075.0,\n",
       " 6845.0,\n",
       " 13325.0,\n",
       " 24460.0,\n",
       " 1380.0,\n",
       " 5410.0,\n",
       " 20660.0,\n",
       " 13970.0,\n",
       " 8125.0,\n",
       " 2480.0,\n",
       " 21210.0,\n",
       " 6460.0,\n",
       " 5675.0,\n",
       " 4640.0,\n",
       " 25710.0,\n",
       " 7170.0,\n",
       " 10585.0,\n",
       " 3410.0,\n",
       " 17445.0,\n",
       " 12810.0,\n",
       " 31450.0,\n",
       " 10735.0,\n",
       " 15550.0,\n",
       " 14070.0,\n",
       " 15990.0,\n",
       " 14845.0,\n",
       " 21700.0,\n",
       " 16305.0,\n",
       " 24030.0,\n",
       " 11950.0,\n",
       " 3310.0,\n",
       " 13000.0,\n",
       " 15500.0,\n",
       " 5590.0,\n",
       " 9810.0,\n",
       " 3880.0,\n",
       " 9670.0,\n",
       " 3985.0,\n",
       " 4790.0,\n",
       " 30950.0,\n",
       " 1160.0,\n",
       " 2375.0,\n",
       " 5310.0,\n",
       " 11520.0,\n",
       " 6740.0,\n",
       " 27260.0,\n",
       " 8125.0,\n",
       " 21350.0,\n",
       " 21585.0,\n",
       " 15625.0,\n",
       " 4900.0,\n",
       " 11100.0,\n",
       " 25720.0,\n",
       " 2890.0,\n",
       " 19520.0,\n",
       " 13590.0,\n",
       " 16175.0,\n",
       " 14845.0,\n",
       " 23710.0,\n",
       " 5980.0,\n",
       " 17910.0,\n",
       " 20040.0,\n",
       " 19855.0,\n",
       " 16765.0,\n",
       " 21410.0,\n",
       " 27550.0,\n",
       " 8770.0,\n",
       " 14800.0,\n",
       " 16770.0,\n",
       " 24320.0,\n",
       " 20360.0,\n",
       " 11220.0,\n",
       " 6585.0,\n",
       " 8545.0,\n",
       " 18330.0,\n",
       " 9340.0,\n",
       " 15540.0,\n",
       " 7050.0,\n",
       " 1380.0,\n",
       " 2480.0,\n",
       " 1660.0,\n",
       " 17720.0,\n",
       " 13990.0,\n",
       " 5680.0,\n",
       " 18630.0,\n",
       " 6760.0,\n",
       " 13950.0,\n",
       " 3385.0,\n",
       " 26935.0,\n",
       " 20300.0,\n",
       " 3680.0,\n",
       " 9865.0,\n",
       " 19910.0,\n",
       " 4600.0,\n",
       " 5630.0,\n",
       " 10180.0,\n",
       " 16685.0,\n",
       " 8080.0,\n",
       " 13130.0,\n",
       " 3320.0,\n",
       " 12405.0,\n",
       " 23490.0,\n",
       " 9355.0,\n",
       " 18050.0,\n",
       " 5900.0,\n",
       " 24950.0,\n",
       " 22260.0,\n",
       " 14660.0,\n",
       " 14540.0,\n",
       " 17530.0,\n",
       " 4310.0,\n",
       " 29270.0,\n",
       " 7790.0,\n",
       " 10180.0,\n",
       " 8770.0,\n",
       " 5520.0,\n",
       " 21570.0,\n",
       " 9125.0,\n",
       " 41870.0,\n",
       " 7630.0,\n",
       " 7965.0,\n",
       " 11985.0,\n",
       " 7535.0,\n",
       " 6890.0,\n",
       " 17930.0,\n",
       " 32850.0,\n",
       " 15705.0,\n",
       " 3600.0,\n",
       " 15850.0,\n",
       " 2480.0,\n",
       " 23880.0,\n",
       " 29140.0,\n",
       " 6910.0,\n",
       " 14625.0,\n",
       " 18020.0,\n",
       " 16980.0,\n",
       " 6810.0,\n",
       " 3750.0,\n",
       " 11210.0,\n",
       " 4680.0,\n",
       " 7760.0,\n",
       " 10185.0,\n",
       " 14850.0,\n",
       " 2085.0,\n",
       " 17450.0,\n",
       " 5900.0,\n",
       " 19400.0,\n",
       " 13210.0,\n",
       " 22480.0,\n",
       " 7860.0,\n",
       " 9760.0,\n",
       " 19815.0,\n",
       " 3085.0,\n",
       " 26690.0,\n",
       " 12400.0,\n",
       " 14625.0,\n",
       " 3880.0,\n",
       " 21430.0,\n",
       " 19030.0,\n",
       " 9810.0,\n",
       " 26660.0,\n",
       " 21410.0,\n",
       " 9810.0,\n",
       " 11400.0,\n",
       " 25440.0,\n",
       " 28660.0,\n",
       " 7770.0,\n",
       " 15805.0,\n",
       " 10670.0,\n",
       " 24360.0,\n",
       " 17635.0,\n",
       " 31450.0,\n",
       " 17995.0,\n",
       " 5180.0,\n",
       " 2385.0,\n",
       " 7900.0,\n",
       " 9360.0,\n",
       " 20850.0,\n",
       " 9250.0,\n",
       " 2480.0,\n",
       " 9230.0,\n",
       " 19010.0,\n",
       " 8045.0,\n",
       " 20380.0,\n",
       " 16080.0,\n",
       " 13270.0,\n",
       " 23900.0,\n",
       " 7390.0,\n",
       " 3040.0,\n",
       " 5675.0,\n",
       " 22445.0,\n",
       " 17630.0,\n",
       " 21570.0,\n",
       " 13755.0,\n",
       " 7170.0,\n",
       " 14950.0,\n",
       " 5675.0,\n",
       " 11580.0,\n",
       " 29020.0,\n",
       " 13520.0,\n",
       " 11410.0,\n",
       " 20250.0,\n",
       " 9025.0,\n",
       " 7535.0,\n",
       " 2610.0,\n",
       " 15425.0,\n",
       " 15080.0,\n",
       " 16455.0,\n",
       " 18330.0,\n",
       " 12090.0,\n",
       " 8135.0,\n",
       " 30120.0,\n",
       " 9500.0,\n",
       " 16070.0,\n",
       " 4880.0,\n",
       " 18330.0,\n",
       " 8760.0,\n",
       " 11425.0,\n",
       " 5975.0,\n",
       " 31225.0]"
      ]
     },
     "execution_count": 125,
     "metadata": {},
     "output_type": "execute_result"
    }
   ],
   "source": [
    "# calcultaing the correct order prices\n",
    "correct_order_price= np.dot(np.array(error_matrix), item_prices)\n",
    "correct_order_price = list(correct_order_price)\n",
    "correct_order_price "
   ]
  },
  {
   "cell_type": "code",
   "execution_count": 126,
   "id": "2f7e69be",
   "metadata": {},
   "outputs": [],
   "source": [
    "# creating a new df for further changes\n",
    "sub_df = dirty_data[['order_id', 'order_price']]\n",
    "sub_df_copy = sub_df.copy() # to prevent any chained assignments\n",
    "sub_df_copy.loc[:, 'correct_order_price'] = correct_order_price"
   ]
  },
  {
   "cell_type": "code",
   "execution_count": 127,
   "id": "1f185bbd",
   "metadata": {},
   "outputs": [],
   "source": [
    "# creating a list or orders with wronf order price\n",
    "orders_wrong_op = []\n",
    "for row in sub_df_copy.itertuples(index=False):\n",
    "    if row.order_price == row.correct_order_price:\n",
    "        continue\n",
    "    else:\n",
    "        orders_wrong_op.append(row.order_id)"
   ]
  },
  {
   "cell_type": "code",
   "execution_count": 128,
   "id": "fd61a4e7",
   "metadata": {},
   "outputs": [
    {
     "data": {
      "text/plain": [
       "13"
      ]
     },
     "execution_count": 128,
     "metadata": {},
     "output_type": "execute_result"
    }
   ],
   "source": [
    "len(orders_wrong_op)"
   ]
  },
  {
   "cell_type": "code",
   "execution_count": 129,
   "id": "17242b17",
   "metadata": {},
   "outputs": [],
   "source": [
    "# increasing counter for wrong records and changing their order price\n",
    "for order in orders_wrong_op:\n",
    "    # increasing counter \n",
    "    dirty_data.loc[dirty_data['order_id'] == order, 'counter'] += 1\n",
    "    \n",
    "    # changing orderprice value\n",
    "    dirty_data.loc[dirty_data['order_id'] == order, 'order_price'] = sub_df_copy.loc[sub_df_copy['order_id'] == order, 'correct_order_price']\n",
    "    \n",
    "            "
   ]
  },
  {
   "cell_type": "code",
   "execution_count": 130,
   "id": "d6e24eb5",
   "metadata": {},
   "outputs": [
    {
     "data": {
      "text/plain": [
       "0    449\n",
       "1     51\n",
       "Name: counter, dtype: int64"
      ]
     },
     "execution_count": 130,
     "metadata": {},
     "output_type": "execute_result"
    }
   ],
   "source": [
    "dirty_data['counter'].value_counts()"
   ]
  },
  {
   "cell_type": "markdown",
   "id": "45c61cbf",
   "metadata": {},
   "source": [
    "<div class=\"alert alert-block alert-warning\">\n",
    "    \n",
    "### 5.7. Happy Cutomer <a class=\"anchor\" name=\"happy\"></a>"
   ]
  },
  {
   "cell_type": "code",
   "execution_count": 131,
   "id": "23bc4f13",
   "metadata": {},
   "outputs": [
    {
     "data": {
      "text/html": [
       "<div>\n",
       "<style scoped>\n",
       "    .dataframe tbody tr th:only-of-type {\n",
       "        vertical-align: middle;\n",
       "    }\n",
       "\n",
       "    .dataframe tbody tr th {\n",
       "        vertical-align: top;\n",
       "    }\n",
       "\n",
       "    .dataframe thead th {\n",
       "        text-align: right;\n",
       "    }\n",
       "</style>\n",
       "<table border=\"1\" class=\"dataframe\">\n",
       "  <thead>\n",
       "    <tr style=\"text-align: right;\">\n",
       "      <th></th>\n",
       "      <th>order_id</th>\n",
       "      <th>customer_id</th>\n",
       "      <th>date</th>\n",
       "      <th>nearest_warehouse</th>\n",
       "      <th>shopping_cart</th>\n",
       "      <th>order_price</th>\n",
       "      <th>delivery_charges</th>\n",
       "      <th>customer_lat</th>\n",
       "      <th>customer_long</th>\n",
       "      <th>delivery_discount</th>\n",
       "      <th>season</th>\n",
       "      <th>is_expedited_delivery</th>\n",
       "      <th>distance_to_nearest_warehouse</th>\n",
       "      <th>latest_customer_review</th>\n",
       "      <th>is_happy_customer</th>\n",
       "      <th>counter</th>\n",
       "    </tr>\n",
       "  </thead>\n",
       "  <tbody>\n",
       "    <tr>\n",
       "      <th>0</th>\n",
       "      <td>ORD253098</td>\n",
       "      <td>ID5402876198</td>\n",
       "      <td>2022-04-16</td>\n",
       "      <td>Nickolson</td>\n",
       "      <td>[('Alcon 10', 1), ('Lucent 330S', 1)]</td>\n",
       "      <td>10180</td>\n",
       "      <td>64.923</td>\n",
       "      <td>-37.820339</td>\n",
       "      <td>144.977384</td>\n",
       "      <td>0</td>\n",
       "      <td>Autumn</td>\n",
       "      <td>False</td>\n",
       "      <td>0.71561</td>\n",
       "      <td>five stars exactly as promised.</td>\n",
       "      <td>True</td>\n",
       "      <td>0</td>\n",
       "    </tr>\n",
       "    <tr>\n",
       "      <th>1</th>\n",
       "      <td>ORD203248</td>\n",
       "      <td>ID2489014343</td>\n",
       "      <td>2022-01-31</td>\n",
       "      <td>Bakers</td>\n",
       "      <td>[('Alcon 10', 2), ('Toshika 750', 1)]</td>\n",
       "      <td>22220</td>\n",
       "      <td>78.700</td>\n",
       "      <td>-37.798490</td>\n",
       "      <td>144.977975</td>\n",
       "      <td>25</td>\n",
       "      <td>Summer</td>\n",
       "      <td>True</td>\n",
       "      <td>1.98599</td>\n",
       "      <td>great phone for me, this was the best phone. t...</td>\n",
       "      <td>True</td>\n",
       "      <td>0</td>\n",
       "    </tr>\n",
       "    <tr>\n",
       "      <th>2</th>\n",
       "      <td>ORD125848</td>\n",
       "      <td>ID1542137496</td>\n",
       "      <td>2022-09-19</td>\n",
       "      <td>Nickolson</td>\n",
       "      <td>[('Candle Inferno', 1), ('Olivia x460', 1)]</td>\n",
       "      <td>1655</td>\n",
       "      <td>85.577</td>\n",
       "      <td>-37.814861</td>\n",
       "      <td>144.962550</td>\n",
       "      <td>0</td>\n",
       "      <td>Spring</td>\n",
       "      <td>True</td>\n",
       "      <td>0.74286</td>\n",
       "      <td>one star bought as new but received a refurbed...</td>\n",
       "      <td>False</td>\n",
       "      <td>0</td>\n",
       "    </tr>\n",
       "    <tr>\n",
       "      <th>3</th>\n",
       "      <td>ORD465604</td>\n",
       "      <td>ID2384091383</td>\n",
       "      <td>2022-02-09</td>\n",
       "      <td>Nickolson</td>\n",
       "      <td>[('Olivia x460', 1), ('pearTV', 2), ('iStream'...</td>\n",
       "      <td>16370</td>\n",
       "      <td>47.208</td>\n",
       "      <td>-37.807935</td>\n",
       "      <td>144.973029</td>\n",
       "      <td>25</td>\n",
       "      <td>Summer</td>\n",
       "      <td>False</td>\n",
       "      <td>1.22539</td>\n",
       "      <td>the earlier models were so simple to use. no n...</td>\n",
       "      <td>False</td>\n",
       "      <td>0</td>\n",
       "    </tr>\n",
       "    <tr>\n",
       "      <th>4</th>\n",
       "      <td>ORD160311</td>\n",
       "      <td>ID5232347245</td>\n",
       "      <td>2022-11-26</td>\n",
       "      <td>Thompson</td>\n",
       "      <td>[('Candle Inferno', 2), ('Toshika 750', 1), ('...</td>\n",
       "      <td>17800</td>\n",
       "      <td>97.776</td>\n",
       "      <td>-37.811732</td>\n",
       "      <td>144.948340</td>\n",
       "      <td>0</td>\n",
       "      <td>Spring</td>\n",
       "      <td>True</td>\n",
       "      <td>0.15321</td>\n",
       "      <td>NaN</td>\n",
       "      <td>True</td>\n",
       "      <td>0</td>\n",
       "    </tr>\n",
       "  </tbody>\n",
       "</table>\n",
       "</div>"
      ],
      "text/plain": [
       "    order_id   customer_id        date nearest_warehouse  \\\n",
       "0  ORD253098  ID5402876198  2022-04-16         Nickolson   \n",
       "1  ORD203248  ID2489014343  2022-01-31            Bakers   \n",
       "2  ORD125848  ID1542137496  2022-09-19         Nickolson   \n",
       "3  ORD465604  ID2384091383  2022-02-09         Nickolson   \n",
       "4  ORD160311  ID5232347245  2022-11-26          Thompson   \n",
       "\n",
       "                                       shopping_cart  order_price  \\\n",
       "0              [('Alcon 10', 1), ('Lucent 330S', 1)]        10180   \n",
       "1              [('Alcon 10', 2), ('Toshika 750', 1)]        22220   \n",
       "2        [('Candle Inferno', 1), ('Olivia x460', 1)]         1655   \n",
       "3  [('Olivia x460', 1), ('pearTV', 2), ('iStream'...        16370   \n",
       "4  [('Candle Inferno', 2), ('Toshika 750', 1), ('...        17800   \n",
       "\n",
       "   delivery_charges  customer_lat  customer_long  delivery_discount  season  \\\n",
       "0            64.923    -37.820339     144.977384                  0  Autumn   \n",
       "1            78.700    -37.798490     144.977975                 25  Summer   \n",
       "2            85.577    -37.814861     144.962550                  0  Spring   \n",
       "3            47.208    -37.807935     144.973029                 25  Summer   \n",
       "4            97.776    -37.811732     144.948340                  0  Spring   \n",
       "\n",
       "   is_expedited_delivery  distance_to_nearest_warehouse  \\\n",
       "0                  False                        0.71561   \n",
       "1                   True                        1.98599   \n",
       "2                   True                        0.74286   \n",
       "3                  False                        1.22539   \n",
       "4                   True                        0.15321   \n",
       "\n",
       "                              latest_customer_review  is_happy_customer  \\\n",
       "0                    five stars exactly as promised.               True   \n",
       "1  great phone for me, this was the best phone. t...               True   \n",
       "2  one star bought as new but received a refurbed...              False   \n",
       "3  the earlier models were so simple to use. no n...              False   \n",
       "4                                                NaN               True   \n",
       "\n",
       "   counter  \n",
       "0        0  \n",
       "1        0  \n",
       "2        0  \n",
       "3        0  \n",
       "4        0  "
      ]
     },
     "execution_count": 131,
     "metadata": {},
     "output_type": "execute_result"
    }
   ],
   "source": [
    "# creating a new copy dataframe to make changes. \n",
    "data = dirty_data.copy()\n",
    "data.head()"
   ]
  },
  {
   "cell_type": "code",
   "execution_count": 132,
   "id": "d6770830",
   "metadata": {},
   "outputs": [],
   "source": [
    "# instantiating SentimentIntensityAnalyzer class\n",
    "sent_analyzer = SentimentIntensityAnalyzer()"
   ]
  },
  {
   "cell_type": "code",
   "execution_count": 133,
   "id": "c06e7ed3",
   "metadata": {},
   "outputs": [
    {
     "data": {
      "text/plain": [
       "499"
      ]
     },
     "execution_count": 133,
     "metadata": {},
     "output_type": "execute_result"
    }
   ],
   "source": [
    "# There is one empty value in the review column\n",
    "len(data[data['latest_customer_review'].isna() == False])"
   ]
  },
  {
   "cell_type": "code",
   "execution_count": 134,
   "id": "65fe7d80",
   "metadata": {},
   "outputs": [],
   "source": [
    "# applying on not null records only\n",
    "data['polarity_score'] = data['latest_customer_review'][data['latest_customer_review'].isna() == False].apply(lambda x : sent_analyzer.polarity_scores(x)['compound'])"
   ]
  },
  {
   "cell_type": "code",
   "execution_count": 135,
   "id": "61aa30ae",
   "metadata": {},
   "outputs": [],
   "source": [
    "# performing on non null records\n",
    "data['accurate_happiness'] = data['polarity_score'][data['polarity_score'].isna() == False].apply(lambda x: True if x>= 0.05 else False)"
   ]
  },
  {
   "cell_type": "code",
   "execution_count": 136,
   "id": "1d16b82a",
   "metadata": {
    "scrolled": true
   },
   "outputs": [],
   "source": [
    "# setting accurate happiness as True if there is no last review. \n",
    "data['accurate_happiness'].fillna(True, inplace=True)"
   ]
  },
  {
   "cell_type": "code",
   "execution_count": 137,
   "id": "9ddbced3",
   "metadata": {},
   "outputs": [],
   "source": [
    "# now we will check how many records were incorrect.\n",
    "inaccurate_happiness = []\n",
    "for row in data.itertuples(index=False):\n",
    "    if row.is_happy_customer == row.accurate_happiness:\n",
    "        continue\n",
    "    else:\n",
    "        inaccurate_happiness.append(row.order_id)"
   ]
  },
  {
   "cell_type": "code",
   "execution_count": 138,
   "id": "59bb0fa6",
   "metadata": {},
   "outputs": [
    {
     "data": {
      "text/plain": [
       "['ORD391373', 'ORD359721', 'ORD162878', 'ORD393704', 'ORD445915', 'ORD018618']"
      ]
     },
     "execution_count": 138,
     "metadata": {},
     "output_type": "execute_result"
    }
   ],
   "source": [
    "# list with order ids whose is_happy_customer column is inccorect\n",
    "inaccurate_happiness"
   ]
  },
  {
   "cell_type": "code",
   "execution_count": 139,
   "id": "6bbe7fad",
   "metadata": {},
   "outputs": [],
   "source": [
    "# changing values in the real df \n",
    "for order in inaccurate_happiness:\n",
    "    # increasing counter \n",
    "    dirty_data.loc[dirty_data['order_id'] == order, 'counter'] += 1\n",
    "    \n",
    "    # changing orderprice value\n",
    "    dirty_data.loc[dirty_data['order_id'] == order, 'is_happy_customer'] = data.loc[data['order_id'] == order, 'accurate_happiness']\n",
    "    "
   ]
  },
  {
   "cell_type": "code",
   "execution_count": 140,
   "id": "af7216f8",
   "metadata": {},
   "outputs": [
    {
     "data": {
      "text/plain": [
       "0    443\n",
       "1     57\n",
       "Name: counter, dtype: int64"
      ]
     },
     "execution_count": 140,
     "metadata": {},
     "output_type": "execute_result"
    }
   ],
   "source": [
    "dirty_data['counter'].value_counts()"
   ]
  },
  {
   "cell_type": "markdown",
   "id": "c4421804",
   "metadata": {},
   "source": [
    "Till now we have rectified 57/500 records"
   ]
  },
  {
   "cell_type": "markdown",
   "id": "e7e383a6",
   "metadata": {},
   "source": [
    "<div class=\"alert alert-block alert-warning\">\n",
    "    \n",
    "### 5.8. Expedited Delivery <a class=\"anchor\" name=\"ex\"></a>"
   ]
  },
  {
   "cell_type": "markdown",
   "id": "ad66d729",
   "metadata": {},
   "source": [
    "To check whether the expedited delivery column is correct or not we will check whether our data has any outliers, by using the 4 linear models above, and will have a close look at the expedited column for these outliers."
   ]
  },
  {
   "cell_type": "code",
   "execution_count": 141,
   "id": "29ed15e4",
   "metadata": {},
   "outputs": [],
   "source": [
    "# creating a copy of data to make changes\n",
    "expedited_data = dirty_data.copy()\n",
    "\n",
    "# handling boolean values\n",
    "expedited_data['is_expedited_delivery'] = expedited_data['is_expedited_delivery'].astype('int')\n",
    "expedited_data['is_happy_customer'] = expedited_data['is_happy_customer'].astype('int')"
   ]
  },
  {
   "cell_type": "code",
   "execution_count": 142,
   "id": "8d283f20",
   "metadata": {},
   "outputs": [],
   "source": [
    "# creating 4 dataframes according to season with independent features for the model prediction\n",
    "summer_expedited_data = expedited_data.loc[expedited_data['season']== 'Summer', ['is_expedited_delivery', 'is_happy_customer','distance_to_nearest_warehouse' ]]\n",
    "winter_expedited_data = expedited_data.loc[expedited_data['season']== 'Winter', ['is_expedited_delivery', 'is_happy_customer','distance_to_nearest_warehouse' ]]\n",
    "autumn_expedited_data = expedited_data.loc[expedited_data['season']== 'Autumn', ['is_expedited_delivery', 'is_happy_customer','distance_to_nearest_warehouse' ]]\n",
    "spring_expedited_data = expedited_data.loc[expedited_data['season']== 'Spring', ['is_expedited_delivery', 'is_happy_customer','distance_to_nearest_warehouse' ]]\n"
   ]
  },
  {
   "cell_type": "code",
   "execution_count": 143,
   "id": "799aa0fd",
   "metadata": {},
   "outputs": [],
   "source": [
    "# predicting delivery charges(before discount) for different seasons using the 4 models introduced in missing data.\n",
    "summer_expedited_pred = summer_model.predict(summer_expedited_data)\n",
    "winter_expedited_pred = winter_model.predict(winter_expedited_data)\n",
    "autumn_expedited_pred = autumn_model.predict(autumn_expedited_data)\n",
    "spring_expedited_pred = spring_model.predict(spring_expedited_data)"
   ]
  },
  {
   "cell_type": "code",
   "execution_count": 144,
   "id": "cb80b0b1",
   "metadata": {},
   "outputs": [],
   "source": [
    "# creating a new column in expedited_data for the predicted delivery charges (before discount)\n",
    "expedited_data.loc[expedited_data['season']== 'Summer', 'predicted_delivery_charge_before_discount'] = list(summer_expedited_pred)\n",
    "expedited_data.loc[expedited_data['season']== 'Winter', 'predicted_delivery_charge_before_discount'] = list(winter_expedited_pred)\n",
    "expedited_data.loc[expedited_data['season']== 'Autumn', 'predicted_delivery_charge_before_discount'] = list(autumn_expedited_pred)\n",
    "expedited_data.loc[expedited_data['season']== 'Spring', 'predicted_delivery_charge_before_discount'] = list(spring_expedited_pred)\n"
   ]
  },
  {
   "cell_type": "code",
   "execution_count": 145,
   "id": "be6a703e",
   "metadata": {},
   "outputs": [],
   "source": [
    "# now we will create a column for the actual delivery charges before APPLYING ANY DISCOUNT.\n",
    "expedited_data.loc[:, 'Actual_delivery_charges_before_discount'] = expedited_data[['delivery_discount', 'delivery_charges']].apply(lambda x: x['delivery_charges'] / (1 - (x['delivery_discount']/100)), axis=1)\n"
   ]
  },
  {
   "cell_type": "code",
   "execution_count": 146,
   "id": "d9ba1cc6",
   "metadata": {},
   "outputs": [
    {
     "data": {
      "text/html": [
       "<div>\n",
       "<style scoped>\n",
       "    .dataframe tbody tr th:only-of-type {\n",
       "        vertical-align: middle;\n",
       "    }\n",
       "\n",
       "    .dataframe tbody tr th {\n",
       "        vertical-align: top;\n",
       "    }\n",
       "\n",
       "    .dataframe thead th {\n",
       "        text-align: right;\n",
       "    }\n",
       "</style>\n",
       "<table border=\"1\" class=\"dataframe\">\n",
       "  <thead>\n",
       "    <tr style=\"text-align: right;\">\n",
       "      <th></th>\n",
       "      <th>order_id</th>\n",
       "      <th>customer_id</th>\n",
       "      <th>date</th>\n",
       "      <th>nearest_warehouse</th>\n",
       "      <th>shopping_cart</th>\n",
       "      <th>order_price</th>\n",
       "      <th>delivery_charges</th>\n",
       "      <th>customer_lat</th>\n",
       "      <th>customer_long</th>\n",
       "      <th>delivery_discount</th>\n",
       "      <th>season</th>\n",
       "      <th>is_expedited_delivery</th>\n",
       "      <th>distance_to_nearest_warehouse</th>\n",
       "      <th>latest_customer_review</th>\n",
       "      <th>is_happy_customer</th>\n",
       "      <th>counter</th>\n",
       "      <th>predicted_delivery_charge_before_discount</th>\n",
       "      <th>Actual_delivery_charges_before_discount</th>\n",
       "      <th>residuals</th>\n",
       "    </tr>\n",
       "  </thead>\n",
       "  <tbody>\n",
       "    <tr>\n",
       "      <th>0</th>\n",
       "      <td>ORD253098</td>\n",
       "      <td>ID5402876198</td>\n",
       "      <td>2022-04-16</td>\n",
       "      <td>Nickolson</td>\n",
       "      <td>[('Alcon 10', 1), ('Lucent 330S', 1)]</td>\n",
       "      <td>10180</td>\n",
       "      <td>64.923</td>\n",
       "      <td>-37.820339</td>\n",
       "      <td>144.977384</td>\n",
       "      <td>0</td>\n",
       "      <td>Autumn</td>\n",
       "      <td>0</td>\n",
       "      <td>0.71561</td>\n",
       "      <td>five stars exactly as promised.</td>\n",
       "      <td>1</td>\n",
       "      <td>0</td>\n",
       "      <td>71.462280</td>\n",
       "      <td>64.923000</td>\n",
       "      <td>-6.539280</td>\n",
       "    </tr>\n",
       "    <tr>\n",
       "      <th>1</th>\n",
       "      <td>ORD203248</td>\n",
       "      <td>ID2489014343</td>\n",
       "      <td>2022-01-31</td>\n",
       "      <td>Bakers</td>\n",
       "      <td>[('Alcon 10', 2), ('Toshika 750', 1)]</td>\n",
       "      <td>22220</td>\n",
       "      <td>78.700</td>\n",
       "      <td>-37.798490</td>\n",
       "      <td>144.977975</td>\n",
       "      <td>25</td>\n",
       "      <td>Summer</td>\n",
       "      <td>1</td>\n",
       "      <td>1.98599</td>\n",
       "      <td>great phone for me, this was the best phone. t...</td>\n",
       "      <td>1</td>\n",
       "      <td>0</td>\n",
       "      <td>109.731614</td>\n",
       "      <td>104.933333</td>\n",
       "      <td>-4.798281</td>\n",
       "    </tr>\n",
       "    <tr>\n",
       "      <th>2</th>\n",
       "      <td>ORD125848</td>\n",
       "      <td>ID1542137496</td>\n",
       "      <td>2022-09-19</td>\n",
       "      <td>Nickolson</td>\n",
       "      <td>[('Candle Inferno', 1), ('Olivia x460', 1)]</td>\n",
       "      <td>1655</td>\n",
       "      <td>85.577</td>\n",
       "      <td>-37.814861</td>\n",
       "      <td>144.962550</td>\n",
       "      <td>0</td>\n",
       "      <td>Spring</td>\n",
       "      <td>1</td>\n",
       "      <td>0.74286</td>\n",
       "      <td>one star bought as new but received a refurbed...</td>\n",
       "      <td>0</td>\n",
       "      <td>0</td>\n",
       "      <td>73.848676</td>\n",
       "      <td>85.577000</td>\n",
       "      <td>11.728324</td>\n",
       "    </tr>\n",
       "    <tr>\n",
       "      <th>3</th>\n",
       "      <td>ORD465604</td>\n",
       "      <td>ID2384091383</td>\n",
       "      <td>2022-02-09</td>\n",
       "      <td>Nickolson</td>\n",
       "      <td>[('Olivia x460', 1), ('pearTV', 2), ('iStream'...</td>\n",
       "      <td>16370</td>\n",
       "      <td>47.208</td>\n",
       "      <td>-37.807935</td>\n",
       "      <td>144.973029</td>\n",
       "      <td>25</td>\n",
       "      <td>Summer</td>\n",
       "      <td>0</td>\n",
       "      <td>1.22539</td>\n",
       "      <td>the earlier models were so simple to use. no n...</td>\n",
       "      <td>0</td>\n",
       "      <td>0</td>\n",
       "      <td>68.499707</td>\n",
       "      <td>62.944000</td>\n",
       "      <td>-5.555707</td>\n",
       "    </tr>\n",
       "    <tr>\n",
       "      <th>4</th>\n",
       "      <td>ORD160311</td>\n",
       "      <td>ID5232347245</td>\n",
       "      <td>2022-11-26</td>\n",
       "      <td>Thompson</td>\n",
       "      <td>[('Candle Inferno', 2), ('Toshika 750', 1), ('...</td>\n",
       "      <td>17800</td>\n",
       "      <td>97.776</td>\n",
       "      <td>-37.811732</td>\n",
       "      <td>144.948340</td>\n",
       "      <td>0</td>\n",
       "      <td>Spring</td>\n",
       "      <td>1</td>\n",
       "      <td>0.15321</td>\n",
       "      <td>NaN</td>\n",
       "      <td>1</td>\n",
       "      <td>0</td>\n",
       "      <td>90.185402</td>\n",
       "      <td>97.776000</td>\n",
       "      <td>7.590598</td>\n",
       "    </tr>\n",
       "  </tbody>\n",
       "</table>\n",
       "</div>"
      ],
      "text/plain": [
       "    order_id   customer_id        date nearest_warehouse  \\\n",
       "0  ORD253098  ID5402876198  2022-04-16         Nickolson   \n",
       "1  ORD203248  ID2489014343  2022-01-31            Bakers   \n",
       "2  ORD125848  ID1542137496  2022-09-19         Nickolson   \n",
       "3  ORD465604  ID2384091383  2022-02-09         Nickolson   \n",
       "4  ORD160311  ID5232347245  2022-11-26          Thompson   \n",
       "\n",
       "                                       shopping_cart  order_price  \\\n",
       "0              [('Alcon 10', 1), ('Lucent 330S', 1)]        10180   \n",
       "1              [('Alcon 10', 2), ('Toshika 750', 1)]        22220   \n",
       "2        [('Candle Inferno', 1), ('Olivia x460', 1)]         1655   \n",
       "3  [('Olivia x460', 1), ('pearTV', 2), ('iStream'...        16370   \n",
       "4  [('Candle Inferno', 2), ('Toshika 750', 1), ('...        17800   \n",
       "\n",
       "   delivery_charges  customer_lat  customer_long  delivery_discount  season  \\\n",
       "0            64.923    -37.820339     144.977384                  0  Autumn   \n",
       "1            78.700    -37.798490     144.977975                 25  Summer   \n",
       "2            85.577    -37.814861     144.962550                  0  Spring   \n",
       "3            47.208    -37.807935     144.973029                 25  Summer   \n",
       "4            97.776    -37.811732     144.948340                  0  Spring   \n",
       "\n",
       "   is_expedited_delivery  distance_to_nearest_warehouse  \\\n",
       "0                      0                        0.71561   \n",
       "1                      1                        1.98599   \n",
       "2                      1                        0.74286   \n",
       "3                      0                        1.22539   \n",
       "4                      1                        0.15321   \n",
       "\n",
       "                              latest_customer_review  is_happy_customer  \\\n",
       "0                    five stars exactly as promised.                  1   \n",
       "1  great phone for me, this was the best phone. t...                  1   \n",
       "2  one star bought as new but received a refurbed...                  0   \n",
       "3  the earlier models were so simple to use. no n...                  0   \n",
       "4                                                NaN                  1   \n",
       "\n",
       "   counter  predicted_delivery_charge_before_discount  \\\n",
       "0        0                                  71.462280   \n",
       "1        0                                 109.731614   \n",
       "2        0                                  73.848676   \n",
       "3        0                                  68.499707   \n",
       "4        0                                  90.185402   \n",
       "\n",
       "   Actual_delivery_charges_before_discount  residuals  \n",
       "0                                64.923000  -6.539280  \n",
       "1                               104.933333  -4.798281  \n",
       "2                                85.577000  11.728324  \n",
       "3                                62.944000  -5.555707  \n",
       "4                                97.776000   7.590598  "
      ]
     },
     "execution_count": 146,
     "metadata": {},
     "output_type": "execute_result"
    }
   ],
   "source": [
    "# Now we will calculate residual values for delivery charges\n",
    "expedited_data['residuals'] = expedited_data['Actual_delivery_charges_before_discount']- expedited_data['predicted_delivery_charge_before_discount']\n",
    "expedited_data.head()"
   ]
  },
  {
   "cell_type": "code",
   "execution_count": 147,
   "id": "a0658446",
   "metadata": {},
   "outputs": [
    {
     "data": {
      "image/png": "[encoded data removed]",
      "text/plain": [
       "<Figure size 640x480 with 1 Axes>"
      ]
     },
     "metadata": {},
     "output_type": "display_data"
    }
   ],
   "source": [
    "boxp3 = expedited_data.boxplot(column='residuals', by = 'season')"
   ]
  },
  {
   "cell_type": "markdown",
   "id": "796bd6a9",
   "metadata": {},
   "source": [
    "We can see there is only 1 outlier for winter season."
   ]
  },
  {
   "cell_type": "code",
   "execution_count": 148,
   "id": "29cf7a66",
   "metadata": {},
   "outputs": [],
   "source": [
    "# gathering seasonal predicted data \n",
    "summer_pred_expedited = expedited_data[expedited_data['season'] == 'Summer'] \n",
    "winter_pred_expedited = expedited_data[expedited_data['season'] == 'Winter'] \n",
    "autumn_pred_expedited = expedited_data[expedited_data['season'] == 'Autumn'] \n",
    "spring_pred_expedited = expedited_data[expedited_data['season'] == 'Spring'] "
   ]
  },
  {
   "cell_type": "code",
   "execution_count": 149,
   "id": "95d1c4d8",
   "metadata": {},
   "outputs": [
    {
     "name": "stdout",
     "output_type": "stream",
     "text": [
      "Any residual value more than 15.75566542399423 or less than -25.93462367607566 will be considered an outlier.\n"
     ]
    }
   ],
   "source": [
    "# calculating upper and lower fences from the fence_threshold function introduced above\n",
    "summerex_lower_fence, summerex_upper_fence = fence_threshold(summer_pred_expedited['residuals'])"
   ]
  },
  {
   "cell_type": "code",
   "execution_count": 150,
   "id": "ba51f51c",
   "metadata": {},
   "outputs": [
    {
     "name": "stdout",
     "output_type": "stream",
     "text": [
      "Any residual value more than 15.548928367117373 or less than -25.10606351533239 will be considered an outlier.\n"
     ]
    }
   ],
   "source": [
    "#calculating threshold to be an outlier - winter\n",
    "winterex_lower_fence, winterex_upper_fence = fence_threshold(winter_pred_expedited['residuals'])"
   ]
  },
  {
   "cell_type": "code",
   "execution_count": 151,
   "id": "3ac9bd3c",
   "metadata": {},
   "outputs": [
    {
     "name": "stdout",
     "output_type": "stream",
     "text": [
      "Any residual value more than 17.54330019738901 or less than -29.665867501214485 will be considered an outlier.\n"
     ]
    }
   ],
   "source": [
    "# calculating threshold to be an outlier - autumn\n",
    "autumnex_lower_fence, autumnex_upper_fence = fence_threshold(autumn_pred_expedited['residuals'])"
   ]
  },
  {
   "cell_type": "code",
   "execution_count": 152,
   "id": "8a0d611f",
   "metadata": {},
   "outputs": [
    {
     "name": "stdout",
     "output_type": "stream",
     "text": [
      "Any residual value more than 25.40218386314729 or less than -39.21234964329992 will be considered an outlier.\n"
     ]
    }
   ],
   "source": [
    "# calculating threshold to be an outlier - spring\n",
    "springex_lower_fence, springex_upper_fence = fence_threshold(spring_pred_expedited['residuals'])"
   ]
  },
  {
   "cell_type": "code",
   "execution_count": 153,
   "id": "f1f6af39",
   "metadata": {},
   "outputs": [],
   "source": [
    "# now we will find out these outlier values \n",
    "summer_pred_expedited['outlier'] = summer_pred_expedited['residuals'].apply(lambda x: True if x>summerex_upper_fence or x<summerex_lower_fence else False )\n",
    "winter_pred_expedited['outlier'] = winter_pred_expedited['residuals'].apply(lambda x: True if x>winterex_upper_fence or x<winterex_lower_fence else False )\n",
    "autumn_pred_expedited['outlier'] = autumn_pred_expedited['residuals'].apply(lambda x: True if x>autumnex_upper_fence or x<autumnex_lower_fence else False )\n",
    "spring_pred_expedited['outlier'] = spring_pred_expedited['residuals'].apply(lambda x: True if x>springex_upper_fence or x<springex_lower_fence else False )\n"
   ]
  },
  {
   "cell_type": "code",
   "execution_count": 154,
   "id": "69fdb58b",
   "metadata": {},
   "outputs": [],
   "source": [
    "# getting outlier column\n",
    "expedited_data.loc[expedited_data['season']== 'Summer', 'outlier'] = summer_pred_expedited['outlier']\n",
    "expedited_data.loc[expedited_data['season']== 'Winter', 'outlier'] = winter_pred_expedited['outlier']\n",
    "expedited_data.loc[expedited_data['season']== 'Autumn', 'outlier'] = autumn_pred_expedited['outlier']\n",
    "expedited_data.loc[expedited_data['season']== 'Spring', 'outlier'] = spring_pred_expedited['outlier']"
   ]
  },
  {
   "cell_type": "code",
   "execution_count": 155,
   "id": "a3fc0098",
   "metadata": {},
   "outputs": [
    {
     "data": {
      "text/html": [
       "<div>\n",
       "<style scoped>\n",
       "    .dataframe tbody tr th:only-of-type {\n",
       "        vertical-align: middle;\n",
       "    }\n",
       "\n",
       "    .dataframe tbody tr th {\n",
       "        vertical-align: top;\n",
       "    }\n",
       "\n",
       "    .dataframe thead th {\n",
       "        text-align: right;\n",
       "    }\n",
       "</style>\n",
       "<table border=\"1\" class=\"dataframe\">\n",
       "  <thead>\n",
       "    <tr style=\"text-align: right;\">\n",
       "      <th></th>\n",
       "      <th>order_id</th>\n",
       "      <th>customer_id</th>\n",
       "      <th>date</th>\n",
       "      <th>nearest_warehouse</th>\n",
       "      <th>shopping_cart</th>\n",
       "      <th>order_price</th>\n",
       "      <th>delivery_charges</th>\n",
       "      <th>customer_lat</th>\n",
       "      <th>customer_long</th>\n",
       "      <th>delivery_discount</th>\n",
       "      <th>season</th>\n",
       "      <th>is_expedited_delivery</th>\n",
       "      <th>distance_to_nearest_warehouse</th>\n",
       "      <th>latest_customer_review</th>\n",
       "      <th>is_happy_customer</th>\n",
       "      <th>counter</th>\n",
       "      <th>predicted_delivery_charge_before_discount</th>\n",
       "      <th>Actual_delivery_charges_before_discount</th>\n",
       "      <th>residuals</th>\n",
       "      <th>outlier</th>\n",
       "    </tr>\n",
       "  </thead>\n",
       "  <tbody>\n",
       "    <tr>\n",
       "      <th>19</th>\n",
       "      <td>ORD452663</td>\n",
       "      <td>ID0419481486</td>\n",
       "      <td>2022-10-19</td>\n",
       "      <td>Bakers</td>\n",
       "      <td>[('Toshika 750', 2), ('iAssist Line', 2)]</td>\n",
       "      <td>13090</td>\n",
       "      <td>77.557</td>\n",
       "      <td>-37.818958</td>\n",
       "      <td>144.990809</td>\n",
       "      <td>25</td>\n",
       "      <td>Winter</td>\n",
       "      <td>1</td>\n",
       "      <td>1.07077</td>\n",
       "      <td>good purchase. great product, fast shipping, w...</td>\n",
       "      <td>1</td>\n",
       "      <td>1</td>\n",
       "      <td>79.148735</td>\n",
       "      <td>103.409333</td>\n",
       "      <td>24.260598</td>\n",
       "      <td>True</td>\n",
       "    </tr>\n",
       "  </tbody>\n",
       "</table>\n",
       "</div>"
      ],
      "text/plain": [
       "     order_id   customer_id        date nearest_warehouse  \\\n",
       "19  ORD452663  ID0419481486  2022-10-19            Bakers   \n",
       "\n",
       "                                shopping_cart  order_price  delivery_charges  \\\n",
       "19  [('Toshika 750', 2), ('iAssist Line', 2)]        13090            77.557   \n",
       "\n",
       "    customer_lat  customer_long  delivery_discount  season  \\\n",
       "19    -37.818958     144.990809                 25  Winter   \n",
       "\n",
       "    is_expedited_delivery  distance_to_nearest_warehouse  \\\n",
       "19                      1                        1.07077   \n",
       "\n",
       "                               latest_customer_review  is_happy_customer  \\\n",
       "19  good purchase. great product, fast shipping, w...                  1   \n",
       "\n",
       "    counter  predicted_delivery_charge_before_discount  \\\n",
       "19        1                                  79.148735   \n",
       "\n",
       "    Actual_delivery_charges_before_discount  residuals outlier  \n",
       "19                               103.409333  24.260598    True  "
      ]
     },
     "execution_count": 155,
     "metadata": {},
     "output_type": "execute_result"
    }
   ],
   "source": [
    "expedited_data[expedited_data['outlier'] == True]"
   ]
  },
  {
   "cell_type": "code",
   "execution_count": 156,
   "id": "6dbc0609",
   "metadata": {},
   "outputs": [
    {
     "data": {
      "text/plain": [
       "['ORD452663']"
      ]
     },
     "execution_count": 156,
     "metadata": {},
     "output_type": "execute_result"
    }
   ],
   "source": [
    "# now we will change the expedited for the above record :\n",
    "outlier_id = list(expedited_data.loc[expedited_data['outlier'] == True, 'order_id'])\n",
    "outlier_id"
   ]
  },
  {
   "cell_type": "code",
   "execution_count": 157,
   "id": "02efbd60",
   "metadata": {},
   "outputs": [],
   "source": [
    "# changing the value in actual dirty_data\n",
    "dirty_data['is_expedited_delivery'] = expedited_data['is_expedited_delivery']"
   ]
  },
  {
   "cell_type": "code",
   "execution_count": 158,
   "id": "8cf595b3",
   "metadata": {},
   "outputs": [],
   "source": [
    "# dropping counter column from dirty data \n",
    "dirty_data.drop('counter', axis =1, inplace = True)"
   ]
  },
  {
   "cell_type": "code",
   "execution_count": 159,
   "id": "b1c45a35",
   "metadata": {},
   "outputs": [],
   "source": [
    "# exporting to csv\n",
    "dirty_data.to_csv(\"./32776705_dirty_data_solution.csv\")"
   ]
  },
  {
   "cell_type": "markdown",
   "id": "dde4b2e9",
   "metadata": {},
   "source": [
    "<div class=\"alert alert-block alert-success\">\n",
    "    \n",
    "## 6.  References  <a class=\"anchor\" name=\"ref\"></a>"
   ]
  },
  {
   "cell_type": "markdown",
   "id": "f7cb9546",
   "metadata": {},
   "source": [
    "https://stackoverflow.com/questions/32253798/how-to-swap-months-and-days-in-a-datetime-object  \n",
    "\n",
    "https://youtu.be/5G-1k4CNChI  \n",
    "\n",
    "https://numpy.org/doc/stable/reference/generated/numpy.linalg.solve.html#numpy.linalg.solve  \n",
    "\n",
    "https://www.nltk.org/api/nltk.sentiment.html#nltk.sentiment.vader.SentimentIntensityAnalyzer.score_valence  \n",
    "\n",
    "https://towardsdatascience.com/social-media-sentiment-analysis-in-python-with-vader-no-training-required-4bc6a21e87b8  \n",
    "\n",
    "https://stackoverflow.com/questions/4913349/haversine-formula-in-python-bearing-and-distance-between-two-gps-points  \n",
    "\n",
    "https://www.analyticsvidhya.com/blog/2021/05/multiple-linear-regression-using-python-and-scikit-learn/  \n",
    "\n",
    "\n",
    "\n"
   ]
  }
 ],
 "metadata": {
  "kernelspec": {
   "display_name": "Python 3 (ipykernel)",
   "language": "python",
   "name": "python3"
  },
  "language_info": {
   "codemirror_mode": {
    "name": "ipython",
    "version": 3
   },
   "file_extension": ".py",
   "mimetype": "text/x-python",
   "name": "python",
   "nbconvert_exporter": "python",
   "pygments_lexer": "ipython3",
   "version": "3.9.13"
  }
 },
 "nbformat": 4,
 "nbformat_minor": 5
}
